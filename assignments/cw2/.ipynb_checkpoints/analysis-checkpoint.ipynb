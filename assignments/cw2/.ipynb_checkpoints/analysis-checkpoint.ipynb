{
 "cells": [
  {
   "cell_type": "markdown",
   "id": "e8872997-5de0-4a86-9e12-70003d8cf892",
   "metadata": {},
   "source": [
    "<h1><center><font color=\"black\">Digital Asset ownership, powered by blockchain applications will be ever prevalent in the future of technology </font></center></h1>\n",
    "\n",
    "**Draft titles:**\n",
    "\n",
    "1. Digital Asset ownership, powered by blockchain applications will be ever prevalent in the future of technology\n",
    "\n",
    "2. Digital Asset ownership, powered by blockchain applications will overtake traditional asset classes\n",
    "\n",
    "3. Digital Asset ownership will shape the economic fabric of the future\n",
    "\n",
    "<center><b>Report By:</b> Paul Owe</center>\n",
    "<center><b>Date:</b> Jan 11, 2021</center>\n",
    "\n",
    "\n",
    "<font color=\"blue\"><h3>Abstract</h3></font>\n",
    "- ‘‘What is known and why is this study needed?\" (Background)\n",
    "- \"What did we do\" (Methods)\n",
    "- \"What did we find?\" (Results)\n",
    "- What does it mean (Discussion)\n",
    "- So what?\n",
    "- e.g variable x predicts y risk\n"
   ]
  },
  {
   "cell_type": "markdown",
   "id": "20d6ea4b-3591-4b50-a497-9bb5aa8c94ca",
   "metadata": {},
   "source": [
    "\n",
    "\n",
    "<font color=\"blue\"><h3>1. Introduction</h3></font>\n",
    "\n",
    "Describe magnitude of issue:\n",
    "\n",
    "Today, we see Blockhain technology enabling a wide variety of practical business applications ranging from financial services, to digital art marketplaces. Reputable technology companies such as Google are also [launching a Blockchain division](https://news.bitcoin.com/report-google-launches-blockchain-division/).\n",
    "\n",
    "Why is the study required? (Rationale)\n",
    "- Relevance ()\n",
    "- Market sizing (Who does this affect if Blockchain succeeds?)\n",
    "- Existing evidence? (Journal)\n",
    "- Gap\n",
    "\n",
    "There is a need to discover knowledge that characterizes general properties of \"our data\". In the context of \"blah blah blah topic\",the discovery of this knowledge can benefit \"blah blah blah group of people\" in a non-trivial or implicit, or, previously unknown, or potentially useful way. [Han, 2001]\n",
    "\n",
    "There is a need to discover patterns on the previous and current data in order to make predictions on future data\n",
    "\n",
    "To do:\n",
    "- Summarize relevant research\n",
    "-\n",
    "Words\n",
    "\n",
    "- to determine\n",
    "- whether, to clarify this, to compare\n",
    "\n",
    "- Discuss study design\n",
    "- Discuss aims\n",
    "What is the research question?\n",
    "\n",
    "- https://edshare.gcu.ac.uk/9111/\n"
   ]
  },
  {
   "cell_type": "markdown",
   "id": "5dabb806-8be4-4c0c-b704-544dc825ae34",
   "metadata": {},
   "source": [
    "\n",
    "\n",
    "<font color=\"blue\"><h3>2. Data</h3></font>\n",
    "\n",
    "A. Architecture\n",
    "\n",
    "B. Data sources\n",
    "\n",
    "\n",
    "Challenges that can occur when dealing with select data\n",
    "1. Dealing with heterogeneous data as a result of integrating data coming from multiple sources\n",
    "2. Dirty data (Incomplete data, Noise and Discrepancies)\n",
    "3. Data may not be in the right format for analysis and requires transformations\n",
    "4. Dealing with a large dataset can be complicated and we may need to speed up analysis by choosing representative dataset\n"
   ]
  },
  {
   "cell_type": "markdown",
   "id": "1816f287-d01e-4631-9d75-9d5079629263",
   "metadata": {},
   "source": [
    "\n",
    "<font color=\"blue\"><h3>3. Methods</h3></font>\n",
    "Solutions\n",
    "1. Data integration\n",
    "2. Data cleaning\n",
    "3. Data transformation\n",
    "4. Data reduction\n",
    "5. Discretization\n"
   ]
  },
  {
   "cell_type": "markdown",
   "id": "63569a49-8770-4b66-9952-be44cc4eb33e",
   "metadata": {},
   "source": [
    "\n",
    "\n",
    "<font color=\"blue\"><h3>4. Building a Data pipeline</h3></font>\n",
    "\n",
    "\n"
   ]
  },
  {
   "cell_type": "markdown",
   "id": "11777b23-8ff5-4b68-b6eb-e2508e293127",
   "metadata": {},
   "source": [
    "\n",
    "\n",
    "<font color=\"blue\"><h3>5. Analysis</h3></font>\n",
    "\n",
    "\n"
   ]
  },
  {
   "cell_type": "markdown",
   "id": "1a29615d-0b05-45ae-a373-cd5b792fbeb4",
   "metadata": {},
   "source": [
    "\n",
    "\n",
    "<font color=\"blue\"><h3>6. Results</h3></font>\n",
    "\n",
    "\n"
   ]
  },
  {
   "cell_type": "markdown",
   "id": "a6cbd241-5c5b-4fd7-99ae-cc82c40f48d9",
   "metadata": {},
   "source": [
    "\n",
    "\n",
    "<font color=\"blue\"><h3>7. Discussion</h3></font>\n",
    "\n",
    "\n"
   ]
  },
  {
   "cell_type": "markdown",
   "id": "dd3c03c2-04fb-4010-8478-60e24583f79b",
   "metadata": {},
   "source": [
    "\n",
    "\n",
    "<font color=\"blue\"><h3>8. References</h3></font>\n",
    "\n",
    "\n"
   ]
  },
  {
   "cell_type": "markdown",
   "id": "1d16c7c4-ea4a-4940-b61c-3e0a6a15f65c",
   "metadata": {},
   "source": []
  },
  {
   "cell_type": "markdown",
   "id": "df4e8d30-15f2-403d-aabd-50aa0c1fd62b",
   "metadata": {},
   "source": []
  },
  {
   "cell_type": "markdown",
   "id": "853b1eba-697e-4838-8f3e-1ca61042b833",
   "metadata": {},
   "source": []
  },
  {
   "cell_type": "markdown",
   "id": "255d95c6-8f73-4e7d-ad24-80761a2f720a",
   "metadata": {},
   "source": []
  },
  {
   "cell_type": "markdown",
   "id": "23720453-25b0-48e1-8e96-62f72bdd8bf3",
   "metadata": {},
   "source": []
  },
  {
   "cell_type": "markdown",
   "id": "d568386e-6192-4c1b-97e4-969da03ec998",
   "metadata": {},
   "source": []
  },
  {
   "cell_type": "markdown",
   "id": "9ebe9bae-f4ab-45df-ba8d-14d93327281d",
   "metadata": {},
   "source": []
  },
  {
   "cell_type": "markdown",
   "id": "3b5a6b91-eed6-4a92-bc0f-b42ab09aaa06",
   "metadata": {},
   "source": []
  },
  {
   "cell_type": "markdown",
   "id": "9a18b9d8-d6cf-4042-9eed-74250b009840",
   "metadata": {},
   "source": []
  },
  {
   "cell_type": "markdown",
   "id": "891d1a09-f90c-45d9-9a85-19edbadf0e25",
   "metadata": {},
   "source": []
  },
  {
   "cell_type": "markdown",
   "id": "78bb603f-5e93-4f03-8ce2-42e32594cc35",
   "metadata": {},
   "source": []
  },
  {
   "cell_type": "markdown",
   "id": "87c26c64-f818-4e01-a069-6c87f8320333",
   "metadata": {},
   "source": [
    "\n",
    "[1. Qualitative and Quantitative research](https://www.mcgill.ca/mqhrg/resources/what-difference-between-qualitative-and-quantitative-research)\n",
    "\n",
    "[1. Introduction: How to develop a rationale](https://cdn.ncte.org/nctefiles/involved/action/rationale_howtowrite.pdf)"
   ]
  },
  {
   "cell_type": "code",
   "execution_count": null,
   "id": "3746401f-aad2-4fca-b7fa-09fcd85509e0",
   "metadata": {},
   "outputs": [],
   "source": []
  }
 ],
 "metadata": {
  "kernelspec": {
   "display_name": "Python 3",
   "language": "python",
   "name": "python3"
  },
  "language_info": {
   "codemirror_mode": {
    "name": "ipython",
    "version": 3
   },
   "file_extension": ".py",
   "mimetype": "text/x-python",
   "name": "python",
   "nbconvert_exporter": "python",
   "pygments_lexer": "ipython3",
   "version": "3.8.8"
  }
 },
 "nbformat": 4,
 "nbformat_minor": 5
}
