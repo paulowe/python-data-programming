{
 "cells": [
  {
   "cell_type": "markdown",
   "id": "e1ba157d-76ae-4bbe-8584-2dd9e7dd720f",
   "metadata": {},
   "source": [
    "# BeautifulSoup Tutorial "
   ]
  },
  {
   "cell_type": "code",
   "execution_count": 1,
   "id": "6ebf7970-7b85-4813-b3be-93d946d60357",
   "metadata": {},
   "outputs": [],
   "source": [
    "html_doc = \"\"\"<html><head><title>The Dormouse's story</title></head>\n",
    "<body>\n",
    "<p class=\"title\"><b>The Dormouse's story</b></p>\n",
    "\n",
    "<p class=\"story\">Once upon a time there were three little sisters; and their names were\n",
    "<a href=\"http://example.com/elsie\" class=\"sister\" id=\"link1\">Elsie</a>,\n",
    "<a href=\"http://example.com/lacie\" class=\"sister\" id=\"link2\">Lacie</a> and\n",
    "<a href=\"http://example.com/tillie\" class=\"sister\" id=\"link3\">Tillie</a>;\n",
    "and they lived at the bottom of a well.</p>\n",
    "\n",
    "<p class=\"story\">...</p>\n",
    "\"\"\""
   ]
  },
  {
   "cell_type": "code",
   "execution_count": 2,
   "id": "09d02fc5-54ed-4197-95ee-0acef4d7b6dd",
   "metadata": {},
   "outputs": [
    {
     "name": "stdout",
     "output_type": "stream",
     "text": [
      "<html>\n",
      " <head>\n",
      "  <title>\n",
      "   The Dormouse's story\n",
      "  </title>\n",
      " </head>\n",
      " <body>\n",
      "  <p class=\"title\">\n",
      "   <b>\n",
      "    The Dormouse's story\n",
      "   </b>\n",
      "  </p>\n",
      "  <p class=\"story\">\n",
      "   Once upon a time there were three little sisters; and their names were\n",
      "   <a class=\"sister\" href=\"http://example.com/elsie\" id=\"link1\">\n",
      "    Elsie\n",
      "   </a>\n",
      "   ,\n",
      "   <a class=\"sister\" href=\"http://example.com/lacie\" id=\"link2\">\n",
      "    Lacie\n",
      "   </a>\n",
      "   and\n",
      "   <a class=\"sister\" href=\"http://example.com/tillie\" id=\"link3\">\n",
      "    Tillie\n",
      "   </a>\n",
      "   ;\n",
      "and they lived at the bottom of a well.\n",
      "  </p>\n",
      "  <p class=\"story\">\n",
      "   ...\n",
      "  </p>\n",
      " </body>\n",
      "</html>\n"
     ]
    }
   ],
   "source": [
    "from bs4 import BeautifulSoup\n",
    "soup = BeautifulSoup(html_doc, 'html.parser')\n",
    "print(soup.prettify())"
   ]
  },
  {
   "cell_type": "code",
   "execution_count": 3,
   "id": "894b52d4-4e2a-44f4-b995-ee983b7be082",
   "metadata": {},
   "outputs": [
    {
     "data": {
      "text/plain": [
       "<title>The Dormouse's story</title>"
      ]
     },
     "execution_count": 3,
     "metadata": {},
     "output_type": "execute_result"
    }
   ],
   "source": [
    "soup.title"
   ]
  },
  {
   "cell_type": "code",
   "execution_count": 4,
   "id": "966d25f6-3306-4c09-bfff-1884de9806ba",
   "metadata": {},
   "outputs": [
    {
     "data": {
      "text/plain": [
       "'title'"
      ]
     },
     "execution_count": 4,
     "metadata": {},
     "output_type": "execute_result"
    }
   ],
   "source": [
    "soup.title.name"
   ]
  },
  {
   "cell_type": "code",
   "execution_count": 5,
   "id": "c9c56ad9-f9a4-49a4-99f5-24b51e70a468",
   "metadata": {},
   "outputs": [
    {
     "data": {
      "text/plain": [
       "'head'"
      ]
     },
     "execution_count": 5,
     "metadata": {},
     "output_type": "execute_result"
    }
   ],
   "source": [
    "soup.title.parent.name"
   ]
  },
  {
   "cell_type": "code",
   "execution_count": 6,
   "id": "ef22d983-e16b-4b1f-be0d-2a4491d92b11",
   "metadata": {},
   "outputs": [
    {
     "data": {
      "text/plain": [
       "<p class=\"title\"><b>The Dormouse's story</b></p>"
      ]
     },
     "execution_count": 6,
     "metadata": {},
     "output_type": "execute_result"
    }
   ],
   "source": [
    "soup.p"
   ]
  },
  {
   "cell_type": "code",
   "execution_count": 7,
   "id": "043d0200-cffb-45dd-b724-b7a76f075512",
   "metadata": {},
   "outputs": [
    {
     "data": {
      "text/plain": [
       "['title']"
      ]
     },
     "execution_count": 7,
     "metadata": {},
     "output_type": "execute_result"
    }
   ],
   "source": [
    "soup.p['class']"
   ]
  },
  {
   "cell_type": "code",
   "execution_count": 8,
   "id": "f0c433a4-4d34-41cc-b779-5e91a0b9dc0f",
   "metadata": {},
   "outputs": [
    {
     "data": {
      "text/plain": [
       "<a class=\"sister\" href=\"http://example.com/elsie\" id=\"link1\">Elsie</a>"
      ]
     },
     "execution_count": 8,
     "metadata": {},
     "output_type": "execute_result"
    }
   ],
   "source": [
    "soup.a"
   ]
  },
  {
   "cell_type": "code",
   "execution_count": 9,
   "id": "819f4898-01dc-4ea3-b5dd-b4634eaafd0c",
   "metadata": {},
   "outputs": [
    {
     "data": {
      "text/plain": [
       "[<p class=\"title\"><b>The Dormouse's story</b></p>,\n",
       " <p class=\"story\">Once upon a time there were three little sisters; and their names were\n",
       " <a class=\"sister\" href=\"http://example.com/elsie\" id=\"link1\">Elsie</a>,\n",
       " <a class=\"sister\" href=\"http://example.com/lacie\" id=\"link2\">Lacie</a> and\n",
       " <a class=\"sister\" href=\"http://example.com/tillie\" id=\"link3\">Tillie</a>;\n",
       " and they lived at the bottom of a well.</p>,\n",
       " <p class=\"story\">...</p>]"
      ]
     },
     "execution_count": 9,
     "metadata": {},
     "output_type": "execute_result"
    }
   ],
   "source": [
    "soup.find_all('p')"
   ]
  },
  {
   "cell_type": "code",
   "execution_count": 10,
   "id": "3c310c15-e7b8-460d-839c-fde7957d49e9",
   "metadata": {},
   "outputs": [
    {
     "data": {
      "text/plain": [
       "[<a class=\"sister\" href=\"http://example.com/elsie\" id=\"link1\">Elsie</a>,\n",
       " <a class=\"sister\" href=\"http://example.com/lacie\" id=\"link2\">Lacie</a>,\n",
       " <a class=\"sister\" href=\"http://example.com/tillie\" id=\"link3\">Tillie</a>]"
      ]
     },
     "execution_count": 10,
     "metadata": {},
     "output_type": "execute_result"
    }
   ],
   "source": [
    "soup.find_all('a')"
   ]
  },
  {
   "cell_type": "code",
   "execution_count": 11,
   "id": "0e8f171c-ae49-450e-b6a9-7aab8ad78867",
   "metadata": {},
   "outputs": [
    {
     "data": {
      "text/plain": [
       "<a class=\"sister\" href=\"http://example.com/tillie\" id=\"link3\">Tillie</a>"
      ]
     },
     "execution_count": 11,
     "metadata": {},
     "output_type": "execute_result"
    }
   ],
   "source": [
    "soup.find(id='link3')"
   ]
  },
  {
   "cell_type": "markdown",
   "id": "c0161f82-8d84-48fa-bc78-21fb17d34e62",
   "metadata": {
    "tags": []
   },
   "source": [
    "## Common task 1: is to extract all URL found in a page"
   ]
  },
  {
   "cell_type": "code",
   "execution_count": 12,
   "id": "323ca581-4b4a-4d36-bb74-a9b66a1ccfa7",
   "metadata": {},
   "outputs": [
    {
     "name": "stdout",
     "output_type": "stream",
     "text": [
      "http://example.com/elsie\n",
      "http://example.com/lacie\n",
      "http://example.com/tillie\n"
     ]
    }
   ],
   "source": [
    "for link in soup.find_all('a'):\n",
    "    print(link.get('href'))"
   ]
  },
  {
   "cell_type": "markdown",
   "id": "77317cff-3428-465d-a2a8-75d85c15afd1",
   "metadata": {
    "tags": []
   },
   "source": [
    "## Common task 2: Extract all text from a page"
   ]
  },
  {
   "cell_type": "code",
   "execution_count": 13,
   "id": "de104119-4eff-49e7-8073-7557de8ff03b",
   "metadata": {},
   "outputs": [
    {
     "name": "stdout",
     "output_type": "stream",
     "text": [
      "The Dormouse's story\n",
      "\n",
      "The Dormouse's story\n",
      "Once upon a time there were three little sisters; and their names were\n",
      "Elsie,\n",
      "Lacie and\n",
      "Tillie;\n",
      "and they lived at the bottom of a well.\n",
      "...\n",
      "\n"
     ]
    }
   ],
   "source": [
    "print(soup.get_text())"
   ]
  },
  {
   "attachments": {
    "92dbf9ca-ad77-45d4-8876-080849504cad.png": {
     "image/png": "[encoded data removed]"
    }
   },
   "cell_type": "markdown",
   "id": "a59ee752-1b6a-4513-b021-46dd9e6e9211",
   "metadata": {},
   "source": [
    "## Best practice tip: Use lxml's HTML parser\n",
    "![Screen Shot 2021-12-01 at 9.24.56 PM.png](attachment:92dbf9ca-ad77-45d4-8876-080849504cad.png)"
   ]
  },
  {
   "cell_type": "markdown",
   "id": "adc5ebca-a9ad-4843-83bf-d8ce91e44440",
   "metadata": {},
   "source": [
    "## Open a document/ Making the soup\n",
    "To parse a document, pass into the bs4 constructor. You can pass in a string or open a file handle"
   ]
  },
  {
   "cell_type": "code",
   "execution_count": 24,
   "id": "36604949-860d-437e-a4f6-126096180606",
   "metadata": {},
   "outputs": [
    {
     "data": {
      "text/plain": [
       "[<html>a web page</html>]"
      ]
     },
     "execution_count": 24,
     "metadata": {},
     "output_type": "execute_result"
    }
   ],
   "source": [
    "# with open(\"index.html\") as fp:\n",
    "#     soup = BeautifulSoup(fp, 'html.parser')\n",
    "\n",
    "soup = BeautifulSoup(\"<html>a web page</html>\", 'html.parser')\n",
    "soup.find_all(\"html\")"
   ]
  },
  {
   "cell_type": "code",
   "execution_count": 25,
   "id": "bb6600ba-0091-43a5-be34-9eff7bddb23e",
   "metadata": {},
   "outputs": [
    {
     "name": "stdout",
     "output_type": "stream",
     "text": [
      "<html>a web page</html>\n"
     ]
    }
   ],
   "source": [
    "print(soup)"
   ]
  },
  {
   "cell_type": "code",
   "execution_count": 28,
   "id": "dc19de9b-384a-47b3-a1cf-d760faf81763",
   "metadata": {},
   "outputs": [
    {
     "name": "stdout",
     "output_type": "stream",
     "text": [
      "<html><head></head><body>Sacré bleu!</body></html>\n"
     ]
    }
   ],
   "source": [
    "print(BeautifulSoup(\"<html><head></head><body>Sacr&eacute; bleu!</body></html>\")) # uses html.parser by default"
   ]
  },
  {
   "cell_type": "markdown",
   "id": "88cfe126-810c-479d-9fb3-616836e1a7c2",
   "metadata": {
    "tags": []
   },
   "source": [
    "## Kinds of objects\n",
    "\n",
    "Beautfulsoup transforms a complex HTML document into python objects. \n",
    "\n",
    "4 kinds of objects:\n",
    "\n",
    "1. Tag\n",
    "2. NavigablString\n",
    "3. BeautifulSoup, and \n",
    "4. Comment\n",
    "\n",
    "# 1. Tag\n",
    "Corresponds to an HTML or XML tag in the original document\n",
    "\n",
    "Tags have a lot of attributes and methods. Most will be covered in Navigating the tree and Searching the tree\n"
   ]
  },
  {
   "cell_type": "code",
   "execution_count": 46,
   "id": "69dac847-bbf6-4d1e-ad83-bad493d02ee8",
   "metadata": {},
   "outputs": [
    {
     "data": {
      "text/plain": [
       "bs4.element.Tag"
      ]
     },
     "execution_count": 46,
     "metadata": {},
     "output_type": "execute_result"
    }
   ],
   "source": [
    "soup = BeautifulSoup('<h1></h1><b class=\"boldest\">Extremely bold</b>', 'html.parser')\n",
    "tag = soup.b\n",
    "type(tag)"
   ]
  },
  {
   "cell_type": "code",
   "execution_count": 47,
   "id": "e0b64807-4a0c-445c-90b9-a59dbe7c305c",
   "metadata": {},
   "outputs": [
    {
     "data": {
      "text/plain": [
       "'b'"
      ]
     },
     "execution_count": 47,
     "metadata": {},
     "output_type": "execute_result"
    }
   ],
   "source": [
    "soup.b.name\n",
    "tag.name"
   ]
  },
  {
   "cell_type": "code",
   "execution_count": 48,
   "id": "2f6be06f-885e-4808-902f-250aa3cc6735",
   "metadata": {},
   "outputs": [],
   "source": [
    "soup.b.name = \"blockquote\""
   ]
  },
  {
   "cell_type": "code",
   "execution_count": 49,
   "id": "7e9fc6c5-c3b5-48e3-a14a-b27bb1234533",
   "metadata": {},
   "outputs": [
    {
     "data": {
      "text/plain": [
       "<blockquote class=\"boldest\">Extremely bold</blockquote>"
      ]
     },
     "execution_count": 49,
     "metadata": {},
     "output_type": "execute_result"
    }
   ],
   "source": [
    "tag"
   ]
  },
  {
   "cell_type": "code",
   "execution_count": 50,
   "id": "d3fa01d8-3577-4c48-aaf3-c037255086d6",
   "metadata": {},
   "outputs": [
    {
     "data": {
      "text/plain": [
       "<h1></h1><blockquote class=\"boldest\">Extremely bold</blockquote>"
      ]
     },
     "execution_count": 50,
     "metadata": {},
     "output_type": "execute_result"
    }
   ],
   "source": [
    "soup"
   ]
  },
  {
   "cell_type": "markdown",
   "id": "e3c50d60-2ec4-4959-be13-5ffdb22b39d7",
   "metadata": {
    "tags": []
   },
   "source": [
    "### Attributes\n",
    "A tag may have any number of attributes. The tag <b id=\"boldest\"> has an attribute “id” whose value is “boldest”. "
   ]
  },
  {
   "cell_type": "code",
   "execution_count": 51,
   "id": "0dd6b878-e2a2-48ff-803f-90c11ed52885",
   "metadata": {},
   "outputs": [
    {
     "data": {
      "text/plain": [
       "'boldest'"
      ]
     },
     "execution_count": 51,
     "metadata": {},
     "output_type": "execute_result"
    }
   ],
   "source": [
    "tag = BeautifulSoup('<b id=\"boldest\">bold</b>', 'html.parser').b\n",
    "tag['id']"
   ]
  },
  {
   "cell_type": "code",
   "execution_count": 52,
   "id": "b46f035e-03ec-491a-8288-a8deefa86e3a",
   "metadata": {},
   "outputs": [
    {
     "data": {
      "text/plain": [
       "{'id': 'boldest'}"
      ]
     },
     "execution_count": 52,
     "metadata": {},
     "output_type": "execute_result"
    }
   ],
   "source": [
    "tag.attrs"
   ]
  },
  {
   "cell_type": "code",
   "execution_count": 53,
   "id": "8e34b584-6bc4-48c5-8aa3-3b456d847814",
   "metadata": {},
   "outputs": [
    {
     "data": {
      "text/plain": [
       "<b another-attribute=\"1\" id=\"verybold\">bold</b>"
      ]
     },
     "execution_count": 53,
     "metadata": {},
     "output_type": "execute_result"
    }
   ],
   "source": [
    "tag['id'] = 'verybold'\n",
    "tag['another-attribute'] = 1\n",
    "tag"
   ]
  },
  {
   "cell_type": "code",
   "execution_count": 54,
   "id": "588f6129-bf51-4db0-894c-3dcd96fc769a",
   "metadata": {},
   "outputs": [
    {
     "data": {
      "text/plain": [
       "{'id': 'verybold', 'another-attribute': 1}"
      ]
     },
     "execution_count": 54,
     "metadata": {},
     "output_type": "execute_result"
    }
   ],
   "source": [
    "tag.attrs"
   ]
  },
  {
   "cell_type": "markdown",
   "id": "e7ccecae-12eb-488f-9919-158cdf65a259",
   "metadata": {},
   "source": [
    "### Best practice tip: Use .get() to avoid KeyError"
   ]
  },
  {
   "cell_type": "code",
   "execution_count": 55,
   "id": "3e54bbee-ed34-435c-b2b0-4515dc5fe2b5",
   "metadata": {},
   "outputs": [
    {
     "data": {
      "text/plain": [
       "'verybold'"
      ]
     },
     "execution_count": 55,
     "metadata": {},
     "output_type": "execute_result"
    }
   ],
   "source": [
    "tag['id']"
   ]
  },
  {
   "cell_type": "code",
   "execution_count": 56,
   "id": "3202f501-0c02-4224-bd34-5280afd155e7",
   "metadata": {},
   "outputs": [
    {
     "data": {
      "text/plain": [
       "'verybold'"
      ]
     },
     "execution_count": 56,
     "metadata": {},
     "output_type": "execute_result"
    }
   ],
   "source": [
    "tag.get('id')"
   ]
  },
  {
   "cell_type": "code",
   "execution_count": 57,
   "id": "222230ad-b75f-41e8-a34c-19b9c9478264",
   "metadata": {},
   "outputs": [],
   "source": [
    "del tag['id']"
   ]
  },
  {
   "cell_type": "code",
   "execution_count": 58,
   "id": "a717b306-6980-41f2-afdf-6b70c0cbbe0c",
   "metadata": {},
   "outputs": [
    {
     "ename": "KeyError",
     "evalue": "'id'",
     "output_type": "error",
     "traceback": [
      "\u001b[0;31m---------------------------------------------------------------------------\u001b[0m",
      "\u001b[0;31mKeyError\u001b[0m                                  Traceback (most recent call last)",
      "\u001b[0;32m<ipython-input-58-b7d877d82646>\u001b[0m in \u001b[0;36m<module>\u001b[0;34m\u001b[0m\n\u001b[0;32m----> 1\u001b[0;31m \u001b[0mtag\u001b[0m\u001b[0;34m[\u001b[0m\u001b[0;34m'id'\u001b[0m\u001b[0;34m]\u001b[0m\u001b[0;34m\u001b[0m\u001b[0;34m\u001b[0m\u001b[0m\n\u001b[0m",
      "\u001b[0;32m~/opt/anaconda3/lib/python3.8/site-packages/bs4/element.py\u001b[0m in \u001b[0;36m__getitem__\u001b[0;34m(self, key)\u001b[0m\n\u001b[1;32m   1404\u001b[0m         \"\"\"tag[key] returns the value of the 'key' attribute for the Tag,\n\u001b[1;32m   1405\u001b[0m         and throws an exception if it's not there.\"\"\"\n\u001b[0;32m-> 1406\u001b[0;31m         \u001b[0;32mreturn\u001b[0m \u001b[0mself\u001b[0m\u001b[0;34m.\u001b[0m\u001b[0mattrs\u001b[0m\u001b[0;34m[\u001b[0m\u001b[0mkey\u001b[0m\u001b[0;34m]\u001b[0m\u001b[0;34m\u001b[0m\u001b[0;34m\u001b[0m\u001b[0m\n\u001b[0m\u001b[1;32m   1407\u001b[0m \u001b[0;34m\u001b[0m\u001b[0m\n\u001b[1;32m   1408\u001b[0m     \u001b[0;32mdef\u001b[0m \u001b[0m__iter__\u001b[0m\u001b[0;34m(\u001b[0m\u001b[0mself\u001b[0m\u001b[0;34m)\u001b[0m\u001b[0;34m:\u001b[0m\u001b[0;34m\u001b[0m\u001b[0;34m\u001b[0m\u001b[0m\n",
      "\u001b[0;31mKeyError\u001b[0m: 'id'"
     ]
    }
   ],
   "source": [
    "tag['id']"
   ]
  },
  {
   "cell_type": "code",
   "execution_count": 61,
   "id": "3e957e8c-451d-4768-8f22-f601d96f8ca5",
   "metadata": {},
   "outputs": [
    {
     "name": "stdout",
     "output_type": "stream",
     "text": [
      "None\n"
     ]
    }
   ],
   "source": [
    "print(tag.get('id'))"
   ]
  },
  {
   "cell_type": "markdown",
   "id": "5a7bc017-c4a8-4b2e-911a-3ec7831f80ac",
   "metadata": {},
   "source": [
    "### Multi valued attributes (e.g class=\"body strikeout\">)\n",
    "The most common multi-valued attribute is class (that is, a tag can have more than one CSS class). \n",
    "- class\n",
    "\n",
    "Others include :\n",
    "- rel, \n",
    "- rev, \n",
    "- accept-charset, \n",
    "- headers, and \n",
    "- accesskey. Beautiful Soup presents the value(s) of a multi-valued attribute as a list:"
   ]
  },
  {
   "cell_type": "code",
   "execution_count": 62,
   "id": "ee008c5d-2f3a-42a4-a933-03b78ccda034",
   "metadata": {},
   "outputs": [
    {
     "data": {
      "text/plain": [
       "<p class=\"body\"></p>"
      ]
     },
     "execution_count": 62,
     "metadata": {},
     "output_type": "execute_result"
    }
   ],
   "source": [
    "css_soup = BeautifulSoup('<p class=\"body\"></p>', 'html.parser')\n",
    "css_soup"
   ]
  },
  {
   "cell_type": "code",
   "execution_count": 66,
   "id": "cd125c56-939f-40ac-85cb-8fd7afd82d95",
   "metadata": {},
   "outputs": [
    {
     "data": {
      "text/plain": [
       "['body']"
      ]
     },
     "execution_count": 66,
     "metadata": {},
     "output_type": "execute_result"
    }
   ],
   "source": [
    "css_soup.p.get('class') # single valued"
   ]
  },
  {
   "cell_type": "code",
   "execution_count": 67,
   "id": "78452a9d-aca3-4298-84bc-b99acf092190",
   "metadata": {},
   "outputs": [],
   "source": [
    "css_soup = BeautifulSoup('<p class=\"body strikeout\"></p>', 'html.parser')"
   ]
  },
  {
   "cell_type": "code",
   "execution_count": 72,
   "id": "8f5be191-0a56-4512-b33f-eda3959b4eec",
   "metadata": {
    "tags": []
   },
   "outputs": [
    {
     "data": {
      "text/plain": [
       "['body', 'strikeout']"
      ]
     },
     "execution_count": 72,
     "metadata": {},
     "output_type": "execute_result"
    }
   ],
   "source": [
    "css_soup.p.get('class') # Multivalued. Returns values aas list"
   ]
  },
  {
   "cell_type": "code",
   "execution_count": 73,
   "id": "ae382e34-c18f-4c19-a42e-54c230596199",
   "metadata": {},
   "outputs": [
    {
     "data": {
      "text/plain": [
       "'my id'"
      ]
     },
     "execution_count": 73,
     "metadata": {},
     "output_type": "execute_result"
    }
   ],
   "source": [
    "id_soup = BeautifulSoup('<p id=\"my id\"></p>', 'html.parser') # id is not a multivalued attribute\n",
    "id_soup.p.get('id')"
   ]
  },
  {
   "cell_type": "code",
   "execution_count": 74,
   "id": "183913d5-0dbd-48ce-9cc6-25c74558f543",
   "metadata": {},
   "outputs": [
    {
     "data": {
      "text/plain": [
       "<p>Back to the <a rel=\"index\">homepage</a></p>"
      ]
     },
     "execution_count": 74,
     "metadata": {},
     "output_type": "execute_result"
    }
   ],
   "source": [
    "rel_soup = BeautifulSoup('<p>Back to the <a rel=\"index\">homepage</a></p>', 'html.parser') \n",
    "rel_soup"
   ]
  },
  {
   "cell_type": "code",
   "execution_count": 77,
   "id": "b7d26cdc-a8d5-4db6-b8cb-26a9ff287966",
   "metadata": {},
   "outputs": [
    {
     "data": {
      "text/plain": [
       "['index']"
      ]
     },
     "execution_count": 77,
     "metadata": {},
     "output_type": "execute_result"
    }
   ],
   "source": [
    "rel_soup.a.get('rel')"
   ]
  },
  {
   "cell_type": "code",
   "execution_count": 79,
   "id": "80ac5dc6-66e7-4125-bf74-a7bcb1f5e6bf",
   "metadata": {},
   "outputs": [],
   "source": [
    "rel_soup.a['rel'] = ['index', 'contents'] "
   ]
  },
  {
   "cell_type": "code",
   "execution_count": 80,
   "id": "1258434a-8585-4dda-adad-eb351b108acd",
   "metadata": {},
   "outputs": [
    {
     "name": "stdout",
     "output_type": "stream",
     "text": [
      "<p>Back to the <a rel=\"index contents\">homepage</a></p>\n"
     ]
    }
   ],
   "source": [
    "print(rel_soup.p)"
   ]
  },
  {
   "cell_type": "code",
   "execution_count": 83,
   "id": "9e6f67c3-a149-49ed-8c6c-053293d09f1f",
   "metadata": {},
   "outputs": [
    {
     "data": {
      "text/plain": [
       "'body strikeout'"
      ]
     },
     "execution_count": 83,
     "metadata": {},
     "output_type": "execute_result"
    }
   ],
   "source": [
    "# multi_valued_attributes=None prevents multi values for attributes\n",
    "no_list_soup = BeautifulSoup('<p class=\"body strikeout\"></p>', 'html.parser', multi_valued_attributes=None)\n",
    "no_list_soup.p['class']"
   ]
  },
  {
   "cell_type": "markdown",
   "id": "921a86d7-de38-42e2-bb42-8f197e85a7fd",
   "metadata": {},
   "source": [
    "### To guarantee you get a list whether or not it's a multi-valued attribute\n"
   ]
  },
  {
   "cell_type": "code",
   "execution_count": 84,
   "id": "dcee7936-74f9-41d1-b5c9-63567e3be95a",
   "metadata": {},
   "outputs": [
    {
     "data": {
      "text/plain": [
       "'my id'"
      ]
     },
     "execution_count": 84,
     "metadata": {},
     "output_type": "execute_result"
    }
   ],
   "source": [
    "id_soup = BeautifulSoup('<p id=\"my id\"></p>', 'html.parser') # id is not a multi valued attribute\n",
    "id_soup.p['id']\n",
    "# 'my id'"
   ]
  },
  {
   "cell_type": "code",
   "execution_count": 85,
   "id": "2a19da18-166c-42ff-abbb-8f137e5395ad",
   "metadata": {},
   "outputs": [
    {
     "data": {
      "text/plain": [
       "['my id']"
      ]
     },
     "execution_count": 85,
     "metadata": {},
     "output_type": "execute_result"
    }
   ],
   "source": [
    "id_soup.p.get_attribute_list('id')"
   ]
  },
  {
   "cell_type": "code",
   "execution_count": 87,
   "id": "068aad17-616f-49df-8951-710cf51be832",
   "metadata": {},
   "outputs": [
    {
     "data": {
      "text/plain": [
       "'body strikeout'"
      ]
     },
     "execution_count": 87,
     "metadata": {},
     "output_type": "execute_result"
    }
   ],
   "source": [
    "xml_soup = BeautifulSoup('<p class=\"body strikeout\"></p>', 'xml') # if you parse document as xml, there are no multi valued attributes\n",
    "xml_soup.p['class']"
   ]
  },
  {
   "cell_type": "markdown",
   "id": "a9297432-56cb-4ebe-bae8-34f2fb4b92f3",
   "metadata": {
    "tags": []
   },
   "source": [
    "#### XML was designed to carry data - with focus on what data is\n",
    "#### HTML was designed to display data - with focus on how data looks"
   ]
  },
  {
   "cell_type": "code",
   "execution_count": 88,
   "id": "553a7651-2e98-4168-8525-8c14ad234c4c",
   "metadata": {},
   "outputs": [
    {
     "data": {
      "text/plain": [
       "['body', 'strikeout']"
      ]
     },
     "execution_count": 88,
     "metadata": {},
     "output_type": "execute_result"
    }
   ],
   "source": [
    "class_is_multi= { '*' : 'class'}\n",
    "xml_soup = BeautifulSoup('<p class=\"body strikeout\"></p>', 'xml', multi_valued_attributes=class_is_multi) # to make XML understand multivalued attributes\n",
    "xml_soup.p['class']"
   ]
  },
  {
   "cell_type": "markdown",
   "id": "1effa9e7-dfda-411f-baa3-f9632fd33c74",
   "metadata": {},
   "source": [
    "# 2. NavigableString\n",
    "A string corresponds to a bit of text within a tag. BeautifulSoup uses NavigableString class to obtain these bits of text"
   ]
  },
  {
   "cell_type": "code",
   "execution_count": 89,
   "id": "96b557be-74f5-4343-b35a-a31eed5f323c",
   "metadata": {
    "tags": []
   },
   "outputs": [
    {
     "data": {
      "text/plain": [
       "'Extremely bold'"
      ]
     },
     "execution_count": 89,
     "metadata": {},
     "output_type": "execute_result"
    }
   ],
   "source": [
    "soup = BeautifulSoup('<b class=\"boldest\">Extremely bold</b>', 'html.parser')\n",
    "tag = soup.b\n",
    "tag.string"
   ]
  },
  {
   "cell_type": "code",
   "execution_count": 91,
   "id": "fb6f2067-377b-4d07-bdc3-842b98138a12",
   "metadata": {},
   "outputs": [
    {
     "data": {
      "text/plain": [
       "bs4.element.NavigableString"
      ]
     },
     "execution_count": 91,
     "metadata": {},
     "output_type": "execute_result"
    }
   ],
   "source": [
    "type(tag.string) #NavigableString"
   ]
  },
  {
   "cell_type": "markdown",
   "id": "8ea752f0-44af-423b-8d0b-cb2a2fde03c4",
   "metadata": {
    "tags": []
   },
   "source": [
    "A NavigableString is just like a Python Unicode string except that it also supports some of the features described in Navigating the tree and Searching the tree. You can convert NavigableString to Unicode string with str()"
   ]
  },
  {
   "cell_type": "code",
   "execution_count": 95,
   "id": "1f1583e4-1d75-440f-a7af-b6c6536d79ee",
   "metadata": {},
   "outputs": [
    {
     "data": {
      "text/plain": [
       "str"
      ]
     },
     "execution_count": 95,
     "metadata": {},
     "output_type": "execute_result"
    }
   ],
   "source": [
    "unicode_string = str(tag.string)\n",
    "unicode_string # 'Extremely bold'\n",
    "type(unicode_string)"
   ]
  },
  {
   "cell_type": "code",
   "execution_count": 96,
   "id": "e126da7b-c8ed-43a6-a412-5a6c66b05db2",
   "metadata": {},
   "outputs": [
    {
     "data": {
      "text/plain": [
       "'Extremely bold'"
      ]
     },
     "execution_count": 96,
     "metadata": {},
     "output_type": "execute_result"
    }
   ],
   "source": [
    "tag.string.replace_with(\"No longer bold\") # you cant edit in place but you can replace string with another"
   ]
  },
  {
   "cell_type": "markdown",
   "id": "54ee167b-1617-4b36-ac6a-32bbd375ca2b",
   "metadata": {},
   "source": [
    "#### Usage Tip: \n",
    "If you want to use a NavigableString outside of Beautiful Soup, you should call unicode() on it to turn it into a normal Python Unicode string. If you don’t, your string will carry around a reference to the entire Beautiful Soup parse tree, even when you’re done using Beautiful Soup. This is a big waste of memory."
   ]
  },
  {
   "cell_type": "markdown",
   "id": "93869fce-ce0a-4208-990e-e3cc8056a9b0",
   "metadata": {},
   "source": [
    "# 3. BeautifulSoup\n",
    "The BeautifulSoup object represents the parsed document as a whole. For most purposes, you can trat it as a Tag object. This means it supports most of the methosd described in Navigating the tree and Searching the tree\n",
    "\n",
    "You can also pass a BeautifulSoup object into one of the methods defined in Modifying the tree, just as you would a Tag"
   ]
  },
  {
   "cell_type": "code",
   "execution_count": 99,
   "id": "f895b53b-8202-482b-bfd9-fda11aed7087",
   "metadata": {},
   "outputs": [
    {
     "data": {
      "text/plain": [
       "<?xml version=\"1.0\" encoding=\"utf-8\"?>\n",
       "<document><content/>INSERT FOOTER HERE</document>"
      ]
     },
     "execution_count": 99,
     "metadata": {},
     "output_type": "execute_result"
    }
   ],
   "source": [
    "doc = BeautifulSoup(\"<document><content/>INSERT FOOTER HERE</document\", \"xml\")\n",
    "doc"
   ]
  },
  {
   "cell_type": "code",
   "execution_count": 100,
   "id": "604620e1-cccb-40a9-a4cf-98de412187fb",
   "metadata": {},
   "outputs": [
    {
     "data": {
      "text/plain": [
       "<?xml version=\"1.0\" encoding=\"utf-8\"?>\n",
       "<footer>Here's the footer</footer>"
      ]
     },
     "execution_count": 100,
     "metadata": {},
     "output_type": "execute_result"
    }
   ],
   "source": [
    "footer = BeautifulSoup(\"<footer>Here's the footer</footer>\", \"xml\")\n",
    "footer"
   ]
  },
  {
   "cell_type": "code",
   "execution_count": 101,
   "id": "69488bab-c0ca-4b81-9706-9347f644dd13",
   "metadata": {},
   "outputs": [
    {
     "data": {
      "text/plain": [
       "'[document]'"
      ]
     },
     "execution_count": 101,
     "metadata": {},
     "output_type": "execute_result"
    }
   ],
   "source": [
    "soup.name"
   ]
  },
  {
   "cell_type": "markdown",
   "id": "0ba5b745-4f73-4f31-bcd2-e632c9292e90",
   "metadata": {
    "tags": []
   },
   "source": [
    "# 4. Comments and Special strings\n",
    "Tag, NavigableString, and BeautfiulSoup cover almost everything youll see in an HTML or XML file, but there are a few leftover bits... Comment"
   ]
  },
  {
   "cell_type": "code",
   "execution_count": 114,
   "id": "c3c29d7a-a4fe-4fc7-9617-7455173f5276",
   "metadata": {},
   "outputs": [
    {
     "data": {
      "text/plain": [
       "bs4.element.Comment"
      ]
     },
     "execution_count": 114,
     "metadata": {},
     "output_type": "execute_result"
    }
   ],
   "source": [
    "markup = \"<b><!--Hey, buddy. Want to buy a used parser?--></b>\"\n",
    "soup = BeautifulSoup(markup, 'html.parser')\n",
    "# tag = soup.b\n",
    "comment = soup.b.string\n",
    "type(comment)"
   ]
  },
  {
   "cell_type": "code",
   "execution_count": 115,
   "id": "c1cacbcf-9a45-4416-a58e-f585251efc30",
   "metadata": {},
   "outputs": [
    {
     "data": {
      "text/plain": [
       "'Hey, buddy. Want to buy a used parser?'"
      ]
     },
     "execution_count": 115,
     "metadata": {},
     "output_type": "execute_result"
    }
   ],
   "source": [
    "comment"
   ]
  },
  {
   "cell_type": "markdown",
   "id": "6b7b4fbd-d4e5-4639-9a55-3ddc9f94ede8",
   "metadata": {},
   "source": [
    "Beautifulsoup defines classes called \n",
    "\n",
    "- Stylesheet : for embedded CSS stylesheets (any strings found inside a <style> tag), \n",
    "- Script : for embedded Javascript (any strings found in a <script> tag),\n",
    "- TemplateString : HTML tmeplates (any strings found in a <template> tag).\n",
    "    \n",
    "Theses classes work exactly the same way as NavigaableString. Their only purpose is to make it easier to pick out the main body of the page, by ignoring strings that represent something else. ( These classes are new in bs4.9.0)\n",
    "    \n",
    "BeautifulSoup defines classes for anythinf else that might shou up in an XML document: CData, ProcessInstruction, Declaration, Doctype. Like comment, these classes are subclasses of NavigableString"
   ]
  },
  {
   "cell_type": "code",
   "execution_count": 116,
   "id": "d9137e3d-0e88-4985-b356-111efba9dcf3",
   "metadata": {},
   "outputs": [
    {
     "name": "stdout",
     "output_type": "stream",
     "text": [
      "<b>\n",
      " <!--Hey, buddy. Want to buy a used parser?-->\n",
      "</b>\n"
     ]
    }
   ],
   "source": [
    "print(soup.b.prettify())"
   ]
  },
  {
   "cell_type": "markdown",
   "id": "7eac4b8f-6338-463d-8a53-d12366014ec7",
   "metadata": {},
   "source": [
    "# 5. Navigating the tree"
   ]
  },
  {
   "cell_type": "code",
   "execution_count": 118,
   "id": "09b1c0f8-1568-4101-8097-92ebd5ca6b49",
   "metadata": {},
   "outputs": [],
   "source": [
    "html_doc = \"\"\"\n",
    "<html><head><title>The Dormouse's story</title></head>\n",
    "<body>\n",
    "<p class=\"title\"><b>The Dormouse's story</b></p>\n",
    "\n",
    "<p class=\"story\">Once upon a time there were three little sisters; and their names were\n",
    "<a href=\"http://example.com/elsie\" class=\"sister\" id=\"link1\">Elsie</a>,\n",
    "<a href=\"http://example.com/lacie\" class=\"sister\" id=\"link2\">Lacie</a> and\n",
    "<a href=\"http://example.com/tillie\" class=\"sister\" id=\"link3\">Tillie</a>;\n",
    "and they lived at the bottom of a well.</p>\n",
    "\n",
    "<p class=\"story\">...</p>\n",
    "\"\"\""
   ]
  },
  {
   "cell_type": "code",
   "execution_count": 122,
   "id": "fcb5b636-2ab9-4d52-b23d-12bfc0029636",
   "metadata": {},
   "outputs": [
    {
     "name": "stdout",
     "output_type": "stream",
     "text": [
      "<html>\n",
      " <head>\n",
      "  <title>\n",
      "   The Dormouse's story\n",
      "  </title>\n",
      " </head>\n",
      " <body>\n",
      "  <p class=\"title\">\n",
      "   <b>\n",
      "    The Dormouse's story\n",
      "   </b>\n",
      "  </p>\n",
      "  <p class=\"story\">\n",
      "   Once upon a time there were three little sisters; and their names were\n",
      "   <a class=\"sister\" href=\"http://example.com/elsie\" id=\"link1\">\n",
      "    Elsie\n",
      "   </a>\n",
      "   ,\n",
      "   <a class=\"sister\" href=\"http://example.com/lacie\" id=\"link2\">\n",
      "    Lacie\n",
      "   </a>\n",
      "   and\n",
      "   <a class=\"sister\" href=\"http://example.com/tillie\" id=\"link3\">\n",
      "    Tillie\n",
      "   </a>\n",
      "   ;\n",
      "and they lived at the bottom of a well.\n",
      "  </p>\n",
      "  <p class=\"story\">\n",
      "   ...\n",
      "  </p>\n",
      " </body>\n",
      "</html>\n"
     ]
    }
   ],
   "source": [
    "htmldoc = BeautifulSoup(html_doc, 'html.parser')\n",
    "print(htmldoc.prettify())"
   ]
  },
  {
   "cell_type": "markdown",
   "id": "5649be57-72b9-47c7-96cf-c2e8dd99a9b4",
   "metadata": {},
   "source": [
    "## a. Going Down\n",
    "Tags may contain strings and other tags, for example:\n",
    "\n",
    "<p>This is a string followed by another tag <a href=https://paulowe.com> </a></p>\n",
    "\n",
    "These elements are the tag's children. Beautiful soup provides a lot of different attributes for navigating and iterating over a tag's children\n",
    "\n",
    "Note, BeautifulSoup strings dont support any of these attributes because a strinf cant hace children.\n",
    "\n",
    "### Navigating the parse tree using tag names\n"
   ]
  },
  {
   "cell_type": "code",
   "execution_count": 123,
   "id": "f8cbde97-d9f6-47eb-b5aa-d93f3434e041",
   "metadata": {},
   "outputs": [
    {
     "data": {
      "text/plain": [
       "<head><title>The Dormouse's story</title></head>"
      ]
     },
     "execution_count": 123,
     "metadata": {},
     "output_type": "execute_result"
    }
   ],
   "source": [
    "htmldoc.head"
   ]
  },
  {
   "cell_type": "code",
   "execution_count": 124,
   "id": "a0b8825f-469c-42dc-a114-028019e197e9",
   "metadata": {},
   "outputs": [
    {
     "data": {
      "text/plain": [
       "[<p class=\"title\"><b>The Dormouse's story</b></p>,\n",
       " <p class=\"story\">Once upon a time there were three little sisters; and their names were\n",
       " <a class=\"sister\" href=\"http://example.com/elsie\" id=\"link1\">Elsie</a>,\n",
       " <a class=\"sister\" href=\"http://example.com/lacie\" id=\"link2\">Lacie</a> and\n",
       " <a class=\"sister\" href=\"http://example.com/tillie\" id=\"link3\">Tillie</a>;\n",
       " and they lived at the bottom of a well.</p>,\n",
       " <p class=\"story\">...</p>]"
      ]
     },
     "execution_count": 124,
     "metadata": {},
     "output_type": "execute_result"
    }
   ],
   "source": [
    "htmldoc.find_all('p')"
   ]
  },
  {
   "cell_type": "code",
   "execution_count": 125,
   "id": "bc93071a-89de-471f-aecb-9171c3cabc12",
   "metadata": {},
   "outputs": [
    {
     "data": {
      "text/plain": [
       "<title>The Dormouse's story</title>"
      ]
     },
     "execution_count": 125,
     "metadata": {},
     "output_type": "execute_result"
    }
   ],
   "source": [
    "htmldoc.title"
   ]
  },
  {
   "cell_type": "code",
   "execution_count": 126,
   "id": "f02896d4-2fec-4f30-ba13-5e75f4c8cd31",
   "metadata": {},
   "outputs": [
    {
     "data": {
      "text/plain": [
       "<body>\n",
       "<p class=\"title\"><b>The Dormouse's story</b></p>\n",
       "<p class=\"story\">Once upon a time there were three little sisters; and their names were\n",
       "<a class=\"sister\" href=\"http://example.com/elsie\" id=\"link1\">Elsie</a>,\n",
       "<a class=\"sister\" href=\"http://example.com/lacie\" id=\"link2\">Lacie</a> and\n",
       "<a class=\"sister\" href=\"http://example.com/tillie\" id=\"link3\">Tillie</a>;\n",
       "and they lived at the bottom of a well.</p>\n",
       "<p class=\"story\">...</p>\n",
       "</body>"
      ]
     },
     "execution_count": 126,
     "metadata": {},
     "output_type": "execute_result"
    }
   ],
   "source": [
    "htmldoc.body #zoom +50 on the parse tree"
   ]
  },
  {
   "cell_type": "code",
   "execution_count": 128,
   "id": "fd1204aa-761f-4f6f-9358-d51677e79dab",
   "metadata": {},
   "outputs": [
    {
     "data": {
      "text/plain": [
       "<b>The Dormouse's story</b>"
      ]
     },
     "execution_count": 128,
     "metadata": {},
     "output_type": "execute_result"
    }
   ],
   "source": [
    "htmldoc.body.b #zoom +75 on the parse tree"
   ]
  },
  {
   "cell_type": "markdown",
   "id": "a3440b61-82ae-4057-b7bb-cdbe4f501d56",
   "metadata": {},
   "source": [
    "### .contents and .children\n",
    "A tag's children are available in **a list called .contents:**"
   ]
  },
  {
   "cell_type": "code",
   "execution_count": 130,
   "id": "fe3f795b-5a0f-4422-8590-ba0360e07ac3",
   "metadata": {},
   "outputs": [
    {
     "data": {
      "text/plain": [
       "<head><title>The Dormouse's story</title></head>"
      ]
     },
     "execution_count": 130,
     "metadata": {},
     "output_type": "execute_result"
    }
   ],
   "source": [
    "head_tag = htmldoc.head\n",
    "head_tag"
   ]
  },
  {
   "cell_type": "code",
   "execution_count": 132,
   "id": "6cfce17b-3a10-4664-a1fc-c63cc478e964",
   "metadata": {},
   "outputs": [
    {
     "data": {
      "text/plain": [
       "[<title>The Dormouse's story</title>]"
      ]
     },
     "execution_count": 132,
     "metadata": {},
     "output_type": "execute_result"
    }
   ],
   "source": [
    "head_tag.contents # a tags children are in .contents"
   ]
  },
  {
   "cell_type": "code",
   "execution_count": 154,
   "id": "af6f9e1e-e169-4b9b-a632-5c12e171e9c9",
   "metadata": {},
   "outputs": [
    {
     "name": "stdout",
     "output_type": "stream",
     "text": [
      "<class 'bs4.element.NavigableString'>\n",
      "<class 'bs4.element.Tag'>\n",
      "<class 'bs4.element.NavigableString'>\n",
      "<class 'bs4.element.Tag'>\n",
      "<class 'bs4.element.NavigableString'>\n",
      "<class 'bs4.element.Tag'>\n",
      "<class 'bs4.element.NavigableString'>\n"
     ]
    }
   ],
   "source": [
    "body_tag = htmldoc.body\n",
    "for content in body_tag.contents: # Tag children can be of NavigableString, or Tag\n",
    "    print(type(content))"
   ]
  },
  {
   "cell_type": "code",
   "execution_count": 140,
   "id": "43faa56f-21fb-4f62-aead-c7ea1294e5ff",
   "metadata": {},
   "outputs": [
    {
     "data": {
      "text/plain": [
       "<title>The Dormouse's story</title>"
      ]
     },
     "execution_count": 140,
     "metadata": {},
     "output_type": "execute_result"
    }
   ],
   "source": [
    "title_tag = head_tag.contents[0]\n",
    "title_tag"
   ]
  },
  {
   "cell_type": "code",
   "execution_count": 141,
   "id": "a0e5c407-e7ae-4ef7-8982-6452af946368",
   "metadata": {},
   "outputs": [
    {
     "data": {
      "text/plain": [
       "[\"The Dormouse's story\"]"
      ]
     },
     "execution_count": 141,
     "metadata": {},
     "output_type": "execute_result"
    }
   ],
   "source": [
    "title_tag.contents #.contents used on tags"
   ]
  },
  {
   "cell_type": "markdown",
   "id": "1a334502-e55f-402f-9ec3-aec91170d8c5",
   "metadata": {},
   "source": [
    "### A string cannot have .contents, because it cant contain anything"
   ]
  },
  {
   "cell_type": "code",
   "execution_count": 146,
   "id": "9015b2ae-73bb-4001-9277-8c9d89485ca3",
   "metadata": {},
   "outputs": [
    {
     "ename": "AttributeError",
     "evalue": "'NavigableString' object has no attribute 'contents'",
     "output_type": "error",
     "traceback": [
      "\u001b[0;31m---------------------------------------------------------------------------\u001b[0m",
      "\u001b[0;31mAttributeError\u001b[0m                            Traceback (most recent call last)",
      "\u001b[0;32m<ipython-input-146-ac3fa47988b2>\u001b[0m in \u001b[0;36m<module>\u001b[0;34m\u001b[0m\n\u001b[1;32m      1\u001b[0m \u001b[0mtext_navstring\u001b[0m \u001b[0;34m=\u001b[0m \u001b[0mtitle_tag\u001b[0m\u001b[0;34m.\u001b[0m\u001b[0mcontents\u001b[0m\u001b[0;34m[\u001b[0m\u001b[0;36m0\u001b[0m\u001b[0;34m]\u001b[0m\u001b[0;34m\u001b[0m\u001b[0;34m\u001b[0m\u001b[0m\n\u001b[0;32m----> 2\u001b[0;31m \u001b[0mtext_navstring\u001b[0m\u001b[0;34m.\u001b[0m\u001b[0mcontents\u001b[0m \u001b[0;31m# NavigableString object cannot have .contents attribute\u001b[0m\u001b[0;34m\u001b[0m\u001b[0;34m\u001b[0m\u001b[0m\n\u001b[0m",
      "\u001b[0;32m~/opt/anaconda3/lib/python3.8/site-packages/bs4/element.py\u001b[0m in \u001b[0;36m__getattr__\u001b[0;34m(self, attr)\u001b[0m\n\u001b[1;32m    919\u001b[0m             \u001b[0;32mreturn\u001b[0m \u001b[0mself\u001b[0m\u001b[0;34m\u001b[0m\u001b[0;34m\u001b[0m\u001b[0m\n\u001b[1;32m    920\u001b[0m         \u001b[0;32melse\u001b[0m\u001b[0;34m:\u001b[0m\u001b[0;34m\u001b[0m\u001b[0;34m\u001b[0m\u001b[0m\n\u001b[0;32m--> 921\u001b[0;31m             raise AttributeError(\n\u001b[0m\u001b[1;32m    922\u001b[0m                 \"'%s' object has no attribute '%s'\" % (\n\u001b[1;32m    923\u001b[0m                     self.__class__.__name__, attr))\n",
      "\u001b[0;31mAttributeError\u001b[0m: 'NavigableString' object has no attribute 'contents'"
     ]
    }
   ],
   "source": [
    "text_navstring = title_tag.contents[0]\n",
    "text_navstring.contents # NavigableString object cannot have .contents attribute"
   ]
  },
  {
   "cell_type": "code",
   "execution_count": 142,
   "id": "63605a99-f491-4453-ac88-f2b304eb326d",
   "metadata": {},
   "outputs": [
    {
     "data": {
      "text/plain": [
       "2"
      ]
     },
     "execution_count": 142,
     "metadata": {},
     "output_type": "execute_result"
    }
   ],
   "source": [
    "len(htmldoc.contents)"
   ]
  },
  {
   "cell_type": "code",
   "execution_count": 143,
   "id": "dbd150bf-192e-4260-8742-22df671c4d17",
   "metadata": {},
   "outputs": [
    {
     "data": {
      "text/plain": [
       "['\\n',\n",
       " <html><head><title>The Dormouse's story</title></head>\n",
       " <body>\n",
       " <p class=\"title\"><b>The Dormouse's story</b></p>\n",
       " <p class=\"story\">Once upon a time there were three little sisters; and their names were\n",
       " <a class=\"sister\" href=\"http://example.com/elsie\" id=\"link1\">Elsie</a>,\n",
       " <a class=\"sister\" href=\"http://example.com/lacie\" id=\"link2\">Lacie</a> and\n",
       " <a class=\"sister\" href=\"http://example.com/tillie\" id=\"link3\">Tillie</a>;\n",
       " and they lived at the bottom of a well.</p>\n",
       " <p class=\"story\">...</p>\n",
       " </body></html>]"
      ]
     },
     "execution_count": 143,
     "metadata": {},
     "output_type": "execute_result"
    }
   ],
   "source": [
    "htmldoc.contents"
   ]
  },
  {
   "cell_type": "markdown",
   "id": "e0bd51bd-dca6-40e2-8b7f-ce95a9bf3b69",
   "metadata": {},
   "source": [
    "### Iterate over a tag's children using .children generator"
   ]
  },
  {
   "cell_type": "code",
   "execution_count": 147,
   "id": "79632279-1d03-4ae4-94cd-93f2ff32c2ba",
   "metadata": {},
   "outputs": [
    {
     "name": "stdout",
     "output_type": "stream",
     "text": [
      "The Dormouse's story\n"
     ]
    }
   ],
   "source": [
    "for child in title_tag.children:\n",
    "    print(child)"
   ]
  },
  {
   "cell_type": "code",
   "execution_count": 153,
   "id": "f1b22d77-64eb-4bbc-955e-71a482e5326d",
   "metadata": {},
   "outputs": [
    {
     "name": "stdout",
     "output_type": "stream",
     "text": [
      "<class 'bs4.element.NavigableString'>\n",
      "<class 'bs4.element.Tag'>\n",
      "<class 'bs4.element.NavigableString'>\n",
      "<class 'bs4.element.Tag'>\n",
      "<class 'bs4.element.NavigableString'>\n",
      "<class 'bs4.element.Tag'>\n",
      "<class 'bs4.element.NavigableString'>\n"
     ]
    }
   ],
   "source": [
    "for child in body_tag.children: # so NavigableString and Tags are considered as child objects in a tag\n",
    "    print(type(child))"
   ]
  },
  {
   "cell_type": "markdown",
   "id": "9f762254-6830-44ba-bfd1-ba786c01e2b5",
   "metadata": {},
   "source": [
    "The .contents and .children attributes only consider a tags direc children\n",
    "### .descendants allows you to iterate over all of a tag's children, recursively (as opposed to .children)"
   ]
  },
  {
   "cell_type": "code",
   "execution_count": 155,
   "id": "a719e19b-b599-48a6-9bd9-00beb93dc90b",
   "metadata": {},
   "outputs": [
    {
     "name": "stdout",
     "output_type": "stream",
     "text": [
      "<title>The Dormouse's story</title>\n",
      "The Dormouse's story\n"
     ]
    }
   ],
   "source": [
    "for child in head_tag.descendants:\n",
    "    print(child)"
   ]
  },
  {
   "cell_type": "code",
   "execution_count": 164,
   "id": "5adf9e0d-e4bf-407d-b9d1-5a488330dc24",
   "metadata": {},
   "outputs": [
    {
     "name": "stdout",
     "output_type": "stream",
     "text": [
      "25\n",
      "20\n",
      "\n",
      "\n",
      "<p class=\"title\"><b>The Dormouse's story</b></p>\n",
      "<b>The Dormouse's story</b>\n",
      "The Dormouse's story\n",
      "\n",
      "\n",
      "<p class=\"story\">Once upon a time there were three little sisters; and their names were\n",
      "<a class=\"sister\" href=\"http://example.com/elsie\" id=\"link1\">Elsie</a>,\n",
      "<a class=\"sister\" href=\"http://example.com/lacie\" id=\"link2\">Lacie</a> and\n",
      "<a class=\"sister\" href=\"http://example.com/tillie\" id=\"link3\">Tillie</a>;\n",
      "and they lived at the bottom of a well.</p>\n",
      "Once upon a time there were three little sisters; and their names were\n",
      "\n",
      "<a class=\"sister\" href=\"http://example.com/elsie\" id=\"link1\">Elsie</a>\n",
      "Elsie\n",
      ",\n",
      "\n",
      "<a class=\"sister\" href=\"http://example.com/lacie\" id=\"link2\">Lacie</a>\n",
      "Lacie\n",
      " and\n",
      "\n",
      "<a class=\"sister\" href=\"http://example.com/tillie\" id=\"link3\">Tillie</a>\n",
      "Tillie\n",
      ";\n",
      "and they lived at the bottom of a well.\n",
      "\n",
      "\n",
      "<p class=\"story\">...</p>\n",
      "...\n",
      "\n",
      "\n"
     ]
    }
   ],
   "source": [
    "all_descendant_count = len(list(htmldoc.html.descendants))\n",
    "print(all_descendant_count)\n",
    "print(len(list(htmldoc.body.descendants)))\n",
    "for child in body_tag.descendants:\n",
    "    print(child)\n",
    "    "
   ]
  },
  {
   "cell_type": "markdown",
   "id": "4e6be5e0-1aea-41b6-a65e-f8e4ddfc57dd",
   "metadata": {},
   "source": [
    "### .string\n",
    "If a tag has one child only and that tag is NavigableString, the child is made available as .stringb"
   ]
  },
  {
   "cell_type": "code",
   "execution_count": 165,
   "id": "5612ad43-d0f1-4573-899f-405fe7893b95",
   "metadata": {},
   "outputs": [
    {
     "data": {
      "text/plain": [
       "<title>The Dormouse's story</title>"
      ]
     },
     "execution_count": 165,
     "metadata": {},
     "output_type": "execute_result"
    }
   ],
   "source": [
    "title_tag"
   ]
  },
  {
   "cell_type": "code",
   "execution_count": 167,
   "id": "8201f5a7-1865-4077-adf5-3e25b3cc08ef",
   "metadata": {},
   "outputs": [
    {
     "data": {
      "text/plain": [
       "[\"The Dormouse's story\"]"
      ]
     },
     "execution_count": 167,
     "metadata": {},
     "output_type": "execute_result"
    }
   ],
   "source": [
    "list(title_tag.descendants)"
   ]
  },
  {
   "cell_type": "code",
   "execution_count": 168,
   "id": "8acbb6fc-41a0-4419-8014-34f91d1911eb",
   "metadata": {},
   "outputs": [
    {
     "data": {
      "text/plain": [
       "\"The Dormouse's story\""
      ]
     },
     "execution_count": 168,
     "metadata": {},
     "output_type": "execute_result"
    }
   ],
   "source": [
    "title_tag.string"
   ]
  },
  {
   "cell_type": "code",
   "execution_count": 169,
   "id": "0c03c0e2-fa8c-4466-a8ae-bb17869047e1",
   "metadata": {},
   "outputs": [
    {
     "data": {
      "text/plain": [
       "<html><head><title>The Dormouse's story</title></head>\n",
       "<body>\n",
       "<p class=\"title\"><b>The Dormouse's story</b></p>\n",
       "<p class=\"story\">Once upon a time there were three little sisters; and their names were\n",
       "<a class=\"sister\" href=\"http://example.com/elsie\" id=\"link1\">Elsie</a>,\n",
       "<a class=\"sister\" href=\"http://example.com/lacie\" id=\"link2\">Lacie</a> and\n",
       "<a class=\"sister\" href=\"http://example.com/tillie\" id=\"link3\">Tillie</a>;\n",
       "and they lived at the bottom of a well.</p>\n",
       "<p class=\"story\">...</p>\n",
       "</body></html>"
      ]
     },
     "execution_count": 169,
     "metadata": {},
     "output_type": "execute_result"
    }
   ],
   "source": [
    "htmldoc.html"
   ]
  },
  {
   "cell_type": "code",
   "execution_count": 170,
   "id": "3ec7314e-00ba-4ed3-8b3c-90876d2d5424",
   "metadata": {},
   "outputs": [],
   "source": [
    "htmldoc.html.string"
   ]
  },
  {
   "cell_type": "code",
   "execution_count": 172,
   "id": "2db068ea-be43-44a4-81bc-5b04f475bbcf",
   "metadata": {},
   "outputs": [
    {
     "name": "stdout",
     "output_type": "stream",
     "text": [
      "'\\n'\n",
      "\"The Dormouse's story\"\n",
      "'\\n'\n",
      "'\\n'\n",
      "\"The Dormouse's story\"\n",
      "'\\n'\n",
      "'Once upon a time there were three little sisters; and their names were\\n'\n",
      "'Elsie'\n",
      "',\\n'\n",
      "'Lacie'\n",
      "' and\\n'\n",
      "'Tillie'\n",
      "';\\nand they lived at the bottom of a well.'\n",
      "'\\n'\n",
      "'...'\n",
      "'\\n'\n"
     ]
    }
   ],
   "source": [
    "for string in htmldoc.strings:\n",
    "    print(repr(string))"
   ]
  },
  {
   "cell_type": "code",
   "execution_count": 173,
   "id": "ddab8c28-29f1-429f-adb4-6a58ad011d3c",
   "metadata": {},
   "outputs": [
    {
     "name": "stdout",
     "output_type": "stream",
     "text": [
      "\"The Dormouse's story\"\n",
      "\"The Dormouse's story\"\n",
      "'Once upon a time there were three little sisters; and their names were'\n",
      "'Elsie'\n",
      "','\n",
      "'Lacie'\n",
      "'and'\n",
      "'Tillie'\n",
      "';\\nand they lived at the bottom of a well.'\n",
      "'...'\n"
     ]
    }
   ],
   "source": [
    "for string in htmldoc.stripped_strings: #stripped_strings removes all whitespace\n",
    "    print(repr(string))"
   ]
  },
  {
   "cell_type": "markdown",
   "id": "a1c664b1-532d-41c6-ac48-17cf5d9eb59f",
   "metadata": {},
   "source": [
    "## b. Going up\n",
    "### .parent\n",
    "You can access an tags's parent with .parent attribute"
   ]
  },
  {
   "cell_type": "code",
   "execution_count": 174,
   "id": "aaeb007b-97c1-4b3a-a256-f4bc46ac14f9",
   "metadata": {},
   "outputs": [
    {
     "data": {
      "text/plain": [
       "<html><head><title>The Dormouse's story</title></head>\n",
       "<body>\n",
       "<p class=\"title\"><b>The Dormouse's story</b></p>\n",
       "<p class=\"story\">Once upon a time there were three little sisters; and their names were\n",
       "<a class=\"sister\" href=\"http://example.com/elsie\" id=\"link1\">Elsie</a>,\n",
       "<a class=\"sister\" href=\"http://example.com/lacie\" id=\"link2\">Lacie</a> and\n",
       "<a class=\"sister\" href=\"http://example.com/tillie\" id=\"link3\">Tillie</a>;\n",
       "and they lived at the bottom of a well.</p>\n",
       "<p class=\"story\">...</p>\n",
       "</body></html>"
      ]
     },
     "execution_count": 174,
     "metadata": {},
     "output_type": "execute_result"
    }
   ],
   "source": [
    "htmldoc.body.parent"
   ]
  },
  {
   "cell_type": "code",
   "execution_count": 175,
   "id": "8766adbf-cc76-4c82-91ca-294eacf4a3ed",
   "metadata": {},
   "outputs": [
    {
     "data": {
      "text/plain": [
       "<title>The Dormouse's story</title>"
      ]
     },
     "execution_count": 175,
     "metadata": {},
     "output_type": "execute_result"
    }
   ],
   "source": [
    "title_tag.string.parent\n",
    "# <title>The Dormouse's story</title>"
   ]
  },
  {
   "cell_type": "code",
   "execution_count": 176,
   "id": "c3237e85-f38e-40a2-942c-638c917990a3",
   "metadata": {},
   "outputs": [
    {
     "data": {
      "text/plain": [
       "bs4.BeautifulSoup"
      ]
     },
     "execution_count": 176,
     "metadata": {},
     "output_type": "execute_result"
    }
   ],
   "source": [
    "html_tag = htmldoc.html\n",
    "type(html_tag.parent)\n"
   ]
  },
  {
   "cell_type": "code",
   "execution_count": 178,
   "id": "8eda4aeb-5b24-44e8-8a6f-da1c1193bbe9",
   "metadata": {},
   "outputs": [
    {
     "name": "stdout",
     "output_type": "stream",
     "text": [
      "None\n"
     ]
    }
   ],
   "source": [
    "print(htmldoc.parent)"
   ]
  },
  {
   "cell_type": "markdown",
   "id": "56744958-8de7-47d1-a140-5d4541bb0957",
   "metadata": {},
   "source": [
    "### .parents\n",
    "You can iterate over all of an element's parents with .parents. This example use .parents to travel from an <a> tag buried deep within the document to the very top of the document"
   ]
  },
  {
   "cell_type": "code",
   "execution_count": 181,
   "id": "5c9aef5d-40b4-4f19-8b95-e2214186a5a2",
   "metadata": {},
   "outputs": [
    {
     "data": {
      "text/plain": [
       "<a class=\"sister\" href=\"http://example.com/elsie\" id=\"link1\">Elsie</a>"
      ]
     },
     "execution_count": 181,
     "metadata": {},
     "output_type": "execute_result"
    }
   ],
   "source": [
    "link = htmldoc.a\n",
    "link"
   ]
  },
  {
   "cell_type": "code",
   "execution_count": 184,
   "id": "7864b19d-90f4-401f-b392-c6802e0f7415",
   "metadata": {},
   "outputs": [
    {
     "name": "stdout",
     "output_type": "stream",
     "text": [
      "p\n",
      "body\n",
      "html\n",
      "[document]\n"
     ]
    }
   ],
   "source": [
    "for parent in link.parents:\n",
    "    print(parent.name)"
   ]
  },
  {
   "cell_type": "markdown",
   "id": "ac46221a-2dc6-41fc-8e6f-b175dcac3546",
   "metadata": {},
   "source": [
    "## c. Going sideways\n",
    "Consider this simple document"
   ]
  },
  {
   "cell_type": "code",
   "execution_count": 185,
   "id": "462ac409-6083-4025-864a-f4e89c58cd0a",
   "metadata": {},
   "outputs": [
    {
     "name": "stdout",
     "output_type": "stream",
     "text": [
      "<a>\n",
      " <b>\n",
      "  text1\n",
      " </b>\n",
      " <c>\n",
      "  text2\n",
      " </c>\n",
      "</a>\n"
     ]
    }
   ],
   "source": [
    "sibling_soup = BeautifulSoup(\"<a><b>text1</b><c>text2</c></b></a>\", 'html.parser')\n",
    "print(sibling_soup.prettify())"
   ]
  },
  {
   "cell_type": "code",
   "execution_count": 188,
   "id": "d547b91a-17d5-43a2-80b2-59e817246833",
   "metadata": {},
   "outputs": [
    {
     "data": {
      "text/plain": [
       "[<b>text1</b>, <c>text2</c>]"
      ]
     },
     "execution_count": 188,
     "metadata": {},
     "output_type": "execute_result"
    }
   ],
   "source": [
    "sibling_soup.a.contents # these are considered siblings"
   ]
  },
  {
   "cell_type": "code",
   "execution_count": 190,
   "id": "44ded82b-9ac4-4f0f-9ed0-cae07243f1d9",
   "metadata": {},
   "outputs": [
    {
     "data": {
      "text/plain": [
       "<c>text2</c>"
      ]
     },
     "execution_count": 190,
     "metadata": {},
     "output_type": "execute_result"
    }
   ],
   "source": [
    "sibling_soup.b.next_sibling"
   ]
  },
  {
   "cell_type": "code",
   "execution_count": 191,
   "id": "49ba2f87-904c-4a08-88a3-dd91e0116b8d",
   "metadata": {},
   "outputs": [
    {
     "data": {
      "text/plain": [
       "<b>text1</b>"
      ]
     },
     "execution_count": 191,
     "metadata": {},
     "output_type": "execute_result"
    }
   ],
   "source": [
    "sibling_soup.c.previous_sibling"
   ]
  },
  {
   "cell_type": "code",
   "execution_count": 193,
   "id": "e4398958-4358-45b9-a5ca-887593c96909",
   "metadata": {},
   "outputs": [
    {
     "data": {
      "text/plain": [
       "<a class=\"sister\" href=\"http://example.com/elsie\" id=\"link1\">Elsie</a>"
      ]
     },
     "execution_count": 193,
     "metadata": {},
     "output_type": "execute_result"
    }
   ],
   "source": [
    "link = htmldoc.a\n",
    "link"
   ]
  },
  {
   "cell_type": "code",
   "execution_count": 195,
   "id": "555e2c15-c0dc-45ff-ad82-8854befe4dca",
   "metadata": {},
   "outputs": [
    {
     "data": {
      "text/plain": [
       "<a class=\"sister\" href=\"http://example.com/lacie\" id=\"link2\">Lacie</a>"
      ]
     },
     "execution_count": 195,
     "metadata": {},
     "output_type": "execute_result"
    }
   ],
   "source": [
    "link.next_sibling.next_sibling "
   ]
  },
  {
   "cell_type": "code",
   "execution_count": 197,
   "id": "8f068dc9-36b8-4ca4-a2a6-4014e687e067",
   "metadata": {},
   "outputs": [
    {
     "name": "stdout",
     "output_type": "stream",
     "text": [
      "' and\\n'\n",
      "<a class=\"sister\" href=\"http://example.com/lacie\" id=\"link2\">Lacie</a>\n",
      "',\\n'\n",
      "<a class=\"sister\" href=\"http://example.com/elsie\" id=\"link1\">Elsie</a>\n",
      "'Once upon a time there were three little sisters; and their names were\\n'\n"
     ]
    }
   ],
   "source": [
    "for sibling in htmldoc.find(id=\"link3\").previous_siblings:\n",
    "    print(repr(sibling))"
   ]
  },
  {
   "cell_type": "markdown",
   "id": "bb2547e2-f840-4d60-ba41-a17b00059df2",
   "metadata": {},
   "source": [
    "## d) .next_element and .previous_element\n",
    ".next_element attribute of a string or tag points to whatever was parsed immediately afterwards. It might be the same as .next_sibling but its usually different\n"
   ]
  },
  {
   "cell_type": "code",
   "execution_count": 199,
   "id": "06db657e-6b35-459f-8be1-7d0638eecd79",
   "metadata": {},
   "outputs": [
    {
     "data": {
      "text/plain": [
       "<a class=\"sister\" href=\"http://example.com/tillie\" id=\"link3\">Tillie</a>"
      ]
     },
     "execution_count": 199,
     "metadata": {},
     "output_type": "execute_result"
    }
   ],
   "source": [
    "last_a_tag = htmldoc.find(\"a\", id=\"link3\")\n",
    "last_a_tag"
   ]
  },
  {
   "cell_type": "code",
   "execution_count": 201,
   "id": "cb070fe6-5ff9-4089-b469-41fc9cc0a700",
   "metadata": {},
   "outputs": [
    {
     "data": {
      "text/plain": [
       "';\\nand they lived at the bottom of a well.'"
      ]
     },
     "execution_count": 201,
     "metadata": {},
     "output_type": "execute_result"
    }
   ],
   "source": [
    "last_a_tag.next_sibling"
   ]
  },
  {
   "cell_type": "code",
   "execution_count": 202,
   "id": "7fa10d74-096e-4abb-864a-27b40c616cc3",
   "metadata": {},
   "outputs": [
    {
     "data": {
      "text/plain": [
       "'Tillie'"
      ]
     },
     "execution_count": 202,
     "metadata": {},
     "output_type": "execute_result"
    }
   ],
   "source": [
    "last_a_tag.next_element"
   ]
  },
  {
   "cell_type": "code",
   "execution_count": 203,
   "id": "1d0d5c1a-6a06-41d3-a32e-625078116c70",
   "metadata": {},
   "outputs": [
    {
     "data": {
      "text/plain": [
       "' and\\n'"
      ]
     },
     "execution_count": 203,
     "metadata": {},
     "output_type": "execute_result"
    }
   ],
   "source": [
    "last_a_tag.previous_element"
   ]
  },
  {
   "cell_type": "markdown",
   "id": "09ade95d-5866-4cff-b01c-0b27379e1130",
   "metadata": {},
   "source": [
    "# Search\n"
   ]
  },
  {
   "cell_type": "code",
   "execution_count": 205,
   "id": "d125eeed-f564-4020-9386-8a8ca12c6563",
   "metadata": {},
   "outputs": [],
   "source": [
    "html_doc = \"\"\"\n",
    "<html><head><title>The Dormouse's story</title></head>\n",
    "<body>\n",
    "<p class=\"title\"><b>The Dormouse's story</b></p>\n",
    "\n",
    "<p class=\"story\">Once upon a time there were three little sisters; and their names were\n",
    "<a href=\"http://example.com/elsie\" class=\"sister\" id=\"link1\">Elsie</a>,\n",
    "<a href=\"http://example.com/lacie\" class=\"sister\" id=\"link2\">Lacie</a> and\n",
    "<a href=\"http://example.com/tillie\" class=\"sister\" id=\"link3\">Tillie</a>;\n",
    "and they lived at the bottom of a well.</p>\n",
    "\n",
    "<p class=\"story\">...</p>\n",
    "\"\"\"\n",
    "\n",
    "from bs4 import BeautifulSoup\n",
    "soup = BeautifulSoup(html_doc, 'html.parser')"
   ]
  },
  {
   "cell_type": "code",
   "execution_count": 206,
   "id": "c98c875c-8963-4c03-8719-b03696976fe6",
   "metadata": {},
   "outputs": [
    {
     "data": {
      "text/plain": [
       "[<b>The Dormouse's story</b>]"
      ]
     },
     "execution_count": 206,
     "metadata": {},
     "output_type": "execute_result"
    }
   ],
   "source": [
    "soup.find_all('b')"
   ]
  },
  {
   "cell_type": "code",
   "execution_count": 208,
   "id": "e76d50ba-04fc-4898-b0bd-eabb4f11de7f",
   "metadata": {},
   "outputs": [
    {
     "name": "stdout",
     "output_type": "stream",
     "text": [
      "body\n",
      "b\n"
     ]
    }
   ],
   "source": [
    "import re\n",
    "for tag in soup.find_all(re.compile(\"^b\")): # all tags starting with b\n",
    "    print(tag.name)"
   ]
  },
  {
   "cell_type": "code",
   "execution_count": 209,
   "id": "61ab9ae6-e782-41fb-8b13-71d083f3bb5b",
   "metadata": {},
   "outputs": [
    {
     "name": "stdout",
     "output_type": "stream",
     "text": [
      "html\n",
      "title\n"
     ]
    }
   ],
   "source": [
    "for tag in soup.find_all(re.compile(\"t\")): # all the tags whose names contain the letter ‘t’\n",
    "    print(tag.name)"
   ]
  },
  {
   "cell_type": "code",
   "execution_count": null,
   "id": "f8de2ecd-eae5-40f5-a665-c71b520c2cf2",
   "metadata": {},
   "outputs": [],
   "source": []
  }
 ],
 "metadata": {
  "kernelspec": {
   "display_name": "Python 3",
   "language": "python",
   "name": "python3"
  },
  "language_info": {
   "codemirror_mode": {
    "name": "ipython",
    "version": 3
   },
   "file_extension": ".py",
   "mimetype": "text/x-python",
   "name": "python",
   "nbconvert_exporter": "python",
   "pygments_lexer": "ipython3",
   "version": "3.8.8"
  }
 },
 "nbformat": 4,
 "nbformat_minor": 5
}
