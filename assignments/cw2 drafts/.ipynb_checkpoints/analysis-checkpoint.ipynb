{
 "cells": [
  {
   "cell_type": "markdown",
   "id": "e8872997-5de0-4a86-9e12-70003d8cf892",
   "metadata": {},
   "source": [
    "<h2>\n",
    "    <center>\n",
    "        <font color=\"black\">\n",
    "            The examination of online search and intellectual property filing trends in Blockchain technology in Africa and North America \n",
    "        </font>\n",
    "    </center>\n",
    "</h2>\n",
    "\n",
    "<h4><center><b>Paul C. Owe, MSc Candidate</b></center></h4>\n",
    "<h4><center><b>Email: paulowe.ai@gmail.com</b></center></h4>"
   ]
  },
  {
   "cell_type": "markdown",
   "id": "20d6ea4b-3591-4b50-a497-9bb5aa8c94ca",
   "metadata": {},
   "source": [
    "<font color=\"blue\"><h3>1. Introduction</h3></font>\n",
    "\n",
    "*The following section will introduce the project by providing background literature on the topic of interest, highlight important issues and discuss the impact of the study*\n",
    "\n",
    "#### 1.1 The importance and relevance of Blockchain technology\n",
    "The past decade has seen a rapid development of practical applications of blockhain technology that have revolutionized internet commerce [1]. The financial industry (population) is seen as the primary user of the technology behind the Bitcoin cryptocurrency, an open source, peer-to-peer and decentralized payment system [2, 3] that has a market capitalization of over \\\\$700 billion; more valuable than brands like Walmart, Toyota, and TD Bank combined. As of February 2022, the global cryptocurrency market capitalization is \\\\$1.72T. [4] In a short period of time, the technology has demonstrated a huge potential for impacting a variety of industries beyond the financial industry, including supply chain management, government, and has created new and innovative marketplaces such as ones used for digital art exchange ( [IBM, 2020](https://www.ibm.com/blockchain/industries) )."
   ]
  },
  {
   "cell_type": "markdown",
   "id": "28bebb7b-2ced-4052-adc6-9a2d42213934",
   "metadata": {},
   "source": [
    "#### 1.2 Importance of Intellectual Property for Economic growth\n",
    "Today, modern societies have shifted their focus away from material factors of production, to non-production resources - information and knowledge, where a significant share of investment is placed on research and development activities[5]. \n",
    "\n",
    "Previous studies have found that an integral element in boosting economic growth and improving the standard of living is the formation of a market for intellectual capital, the right to an intellectual property, trade secrets, and the like. [6]"
   ]
  },
  {
   "cell_type": "markdown",
   "id": "8148691b-b2d1-4bb0-ab00-d35ba584bf7b",
   "metadata": {},
   "source": [
    "#### 1.3 Prior knowledge shows an increase in online search trends and public awareness\n",
    "While surveying the topic of blockchian in the exploratory data analysis coursework, I discovered a striking shift in information seeking trends about the technology around 2017-2018. In this period of time, there was a rapid increase in internet searches, as demonstrated in the line graph below. This trend characterizes a peculiar point in time where the public gained widespread awareness about blockchain technology and it's applications."
   ]
  },
  {
   "cell_type": "markdown",
   "id": "282359a3-9615-4a03-a440-351f8107b58f",
   "metadata": {},
   "source": [
    "#### 1.4 The gap, or Problem Statement\n",
    "This discovery left me curious to study the events leading up to this period in time. I am particularly interested in studying the IP filing trends in order to discover any signals that would inform the rise in public search trends.\n"
   ]
  },
  {
   "cell_type": "markdown",
   "id": "943d8d44-d416-42b5-b437-2c29cbedb841",
   "metadata": {},
   "source": [
    "<font color=\"blue\"><h3>2. Research Aims and Objectives</h3></font>\n",
    "*The following section will clearly define the research question, specific objectives, potential impact and scope of the study*"
   ]
  },
  {
   "cell_type": "markdown",
   "id": "0c81fd70-967b-4bdc-af5a-9f10d1aa06ca",
   "metadata": {},
   "source": [
    "#### Research Aims\n",
    "In this coursework, I set out to study the relationship between online search trends and IP filing trends for blockchain technology, and compare trends between knowledge, and agrarian economies. More concretely, I will consider North American nations as Knowledge economies and refer to African nations as agrarian economies. This is because if you compare economic growth between the two continents, there is a stark difference in GDP with Africa ... \n",
    "\n",
    "\n",
    "The aim is to reach logical and verified generalizations that test / verify the applicability of the innovation lifecycle theory as proposed by Geoffrey Moore in \"Crossing the Chasm: Marketing and Selling High-Tech Products to Mainstream Customers\" \n",
    "\n",
    "And,\n",
    "\n",
    "It is my expectation that if there is a correlation between the online search trends and patent filing trends, then we should observe a high volume of patent applications before the period of early adoption.\n",
    "<center><img src=\"https://miro.medium.com/max/1400/0*oKXUgY-dm9a1n5if.png\" height=\"500\" width=\"400\"/></center>\n",
    "\n",
    "In this case, I would also like to identify and provide more details about the entities (individuals/companies) that are relevant and attempt to associate the patents filed against available consumer products and applications of blockcian in order to learn the theses innovators had about the future use cases of the technology.\n"
   ]
  },
  {
   "cell_type": "markdown",
   "id": "2a9caf03-f68b-4e63-bffc-12a9306b4fbe",
   "metadata": {},
   "source": [
    "#### Research Objectives \n",
    "The objective of this project is to demonstrate how to go through each step of the process of data mining as seen in the image below\n",
    "<img src=\"https://uol-datascience.s3.ca-central-1.amazonaws.com/kdd_process.png\" height=\"400\" width=\"400\"/>\n",
    "\n",
    "and report on \n",
    "- Blockchain trends in online search trends 2014-2018\n",
    "    - Top and rising searches\n",
    "    - across platforms google platforms: web searches, youtube searches, images, etc\n",
    "    - across geographies: Global, Africa and Northamerica\n",
    "- Blockchain trends in IP filing 2014-2018\n",
    "- Blockchain trends in online search trends 2018-2022\n",
    "    - Top and rising searches \n",
    "    - across platforms google platforms: web searches, youtube searches, images\n",
    "    - across geographies: Global, Africa and Northamerica\n",
    "\n",
    "- Blockchain trends in IP filing 2014-2018"
   ]
  },
  {
   "cell_type": "markdown",
   "id": "5dabb806-8be4-4c0c-b704-544dc825ae34",
   "metadata": {},
   "source": [
    "<font color=\"blue\"><h3>3. Data Analysis Plan</h3></font>\n",
    "\n",
    "Let's expand on the aims and objectives of the project and define a clear analysis plan that will \n",
    "determine specific tasks to be performed so that we can build a reliable mining process that is descriptive, \n",
    "analytical and facilitates technical merit.\n",
    "\n",
    "\n",
    "\n",
    "1. Collect online search trends on the topic of blockchain from Google Trends (extract)\n",
    "2. Tag each \"Region\" with an appropriate continent to facilitate comparison of trends among North American and African regions (transform and load)\n",
    "3. Compare search interest over time (analyze)\n",
    "4. Compare Related topics and queries between regions (analyze)\n",
    "5. Collect Intellectual property filings (extract)\n",
    "6. (transform and load)\n",
    "7. Compare frequency of blockchain filing between regions\n",
    "8. Compare filing similarity among regions\n",
    "9. Analyze filing headings/claims and determine which topics they align with the most\n",
    "10. Determine how filing trends change with search interest over the past 5 years \n",
    "\n",
    "reflects strong quantitative comparative analysis, effective use of machine learning models skills while maintaining a clean and defensive programming approach acfocusing on defensive coding."
   ]
  },
  {
   "cell_type": "markdown",
   "id": "6b91ee07-d6da-41e0-92fb-e80fba51cbd1",
   "metadata": {},
   "source": [
    "<font color=\"red\"><h4>3.1 Data requirements</h4></font>\n",
    "\n",
    "1. [Google Trends](https://trends.google.com/trends/) \n",
    "\n",
    "Data from Google Trends tell us what people are searching for in real time. We can use this data to measure search interest in a particular topic, particular place, and at a particular time. \n",
    "\n",
    "We will use this data explore the different ways the public searched for information on the topic of blockhain and identify any interesting patterns around developing interests over time"
   ]
  },
  {
   "cell_type": "markdown",
   "id": "34adf71a-04d2-4a18-9ceb-a53d225ba8d8",
   "metadata": {},
   "source": [
    "3. [Google Patents](https://www.wikidata.org/wiki/Wikidata:Main_Page)\n",
    "\n",
    "Google Patents is going to help\n",
    "\n",
    "gauge the level of R&D investment and innovation in blockchain technology"
   ]
  },
  {
   "cell_type": "markdown",
   "id": "cfa03321-0093-4bb4-bc01-f50da8430ee1",
   "metadata": {},
   "source": [
    "<font color=\"red\"><h4>3.2 Ethics of use of data</h4></font>\n",
    "\n",
    "- Add: Description of where the data has come from e.g. open or proprietary or a combination of both.\n",
    "- Talk about who owns derivative analysis\n",
    "\n"
   ]
  },
  {
   "cell_type": "markdown",
   "id": "08cdbf42-7136-467f-a4d0-6f9901979edf",
   "metadata": {},
   "source": [
    "<font color=\"red\"><h4>3.3 Theories Tested</h4></font>\n",
    "When a working hypothesis is supported, we have more confidence in our theory. When the null hypothesis is supported, it undermines our proposed theory.\n",
    "\n",
    "Below is the list of theories I will use in this study to test the hypothesis\n",
    "- Theory of Demand and Supply\n",
    "- Comparing Early markets and Mainstream adoption (Crossing the Chasm)\n",
    "- Causal Analysis\n",
    "- [The law of accelerating returns](https://www.kurzweilai.net/the-law-of-accelerating-returns)\n"
   ]
  },
  {
   "cell_type": "markdown",
   "id": "1816f287-d01e-4631-9d75-9d5079629263",
   "metadata": {},
   "source": [
    "\n",
    "<font color=\"red\"><h4>3.4 Data Architecture</h4></font>"
   ]
  },
  {
   "cell_type": "markdown",
   "id": "17bdccb6-c2c5-4565-91ec-ecc2feb5bb32",
   "metadata": {},
   "source": [
    "Diagram here"
   ]
  },
  {
   "cell_type": "markdown",
   "id": "656dff28-e5f1-4cf1-a8fd-7bbda3e92ef6",
   "metadata": {},
   "source": [
    "<font color=\"red\"><h4>3.5 Quantitiative Methods</h4></font>\n",
    "My study is designed to combine both quantitative and secondary research methods  in order to provide an in-depth analysis of the topic. Some of the methods employed in this study include the following:\n",
    "\n",
    "1. Entropy\n",
    "2. Information Gain (favors unfairly attributes with large numbers of distinct values at the expense of those with few)\n",
    "3. Gain ratio (Improvement to Information Gain) - Demonstrate consideration of different approaches\n",
    "4. Cosine Similarity vs FAISS - To demonstrate performance consideration\n",
    "5. Chi-Merge\n",
    "6. PCA\n",
    "7. Concept Characterization and Clustering"
   ]
  },
  {
   "cell_type": "markdown",
   "id": "f1b198cb-7a62-4619-a87e-6d58c118083e",
   "metadata": {},
   "source": [
    "<font color=\"red\"><h4>3.6 Secondary Methods</h4></font>\n",
    "With the secondary research, the information has already been collected by research organizations or marketers, newspapers, online communities, reports, audio-visual evidence. In this study, we primarily use this apporach to compare, and analyze the data in order to test the hypothesis and derive our conclusion"
   ]
  },
  {
   "cell_type": "markdown",
   "id": "04aaa1d6-bc4c-4fd0-abec-b94aac23567f",
   "metadata": {},
   "source": [
    "<font color=\"red\"><h4>3.7 Quantitative Measures</h4></font>\n",
    "\n",
    "- Economic growth\n",
    "- Global Innovation Index"
   ]
  },
  {
   "cell_type": "markdown",
   "id": "1d8cc4ae-303b-4c51-af33-d6a7a402274c",
   "metadata": {},
   "source": [
    "\n",
    "<font color=\"red\"><h4>3.8 Data Preprocessing Methods</h4></font>\n",
    "\n",
    "**Data integration**\n",
    "\n",
    "Combination or Integration of multiple databases, files, or other sources into a coherent store\n",
    "\n",
    "- Schema integration (Entity-resolution,A.cust-id = B.cust-#)\n",
    "- Detecting and resolving data value conflicts (Varying representations, e.g Age and Exchange rates)\n",
    "\n",
    "\n",
    "**Data cleaning**\n",
    "Fill in missing values, identify outliers and smooth out noisy data, and resolve dependencies\n",
    "\n",
    "**Data transformation**\n",
    "Feed right data to the mining algorithm\n",
    "\n",
    "**Data reduction**\n",
    "Obtain reduced representation in volume but produces the same or simialr analytical results\n",
    "\n",
    "**Discretization**\n",
    "Part of data reduction and data transformation but with particular importance, transform numerical data into symbolic (discrete) data\n",
    "\n"
   ]
  },
  {
   "cell_type": "markdown",
   "id": "63569a49-8770-4b66-9952-be44cc4eb33e",
   "metadata": {},
   "source": [
    "<font color=\"blue\"><h3>4. Building a Reliable Data pipeline</h3></font>"
   ]
  },
  {
   "cell_type": "markdown",
   "id": "a42d13fa-050e-4f43-80b9-bee8c7e9ad48",
   "metadata": {},
   "source": [
    "<font color=\"red\"><h4>4.1 Acquire Online Search Data from Google Trends via REST API</h4></font>\n",
    "\n",
    "In this first step, we are going to acquire the dataset we will use for our analysis with considerations discussed in our analysis plan. \n",
    "\n",
    "We will build the dataset with the following considerations:\n",
    "- So that the dataset(s) facilitates reporting of defined objectives at different abstraction levels: time period, location, etc\n"
   ]
  },
  {
   "cell_type": "markdown",
   "id": "33a26f6d-8a72-411e-b5a5-bb991e134ede",
   "metadata": {},
   "source": []
  },
  {
   "cell_type": "code",
   "execution_count": null,
   "id": "eadea997-3a6e-4e31-99f3-a6620d967074",
   "metadata": {},
   "outputs": [],
   "source": []
  },
  {
   "cell_type": "markdown",
   "id": "28c5999b-86c2-4d5c-866a-3ffb3a45d5a2",
   "metadata": {},
   "source": []
  },
  {
   "cell_type": "markdown",
   "id": "75ce8129-2870-42a4-8135-abbed43c6818",
   "metadata": {},
   "source": [
    "<font color=\"red\"><h4>4.1 Acquire Intellectual Property Data from BigQuery Public Datasets</h4></font>\n",
    "\n",
    "We will build the dataset with the following considerations:\n",
    "- Dataset(s) facilitates reporting of defined objectives at different abstraction levels: time period, location, \n",
    "- Data reduction"
   ]
  },
  {
   "cell_type": "markdown",
   "id": "11777b23-8ff5-4b68-b6eb-e2508e293127",
   "metadata": {},
   "source": [
    "<font color=\"blue\"><h3>5. Analysis</h3></font>\n",
    "Analysis and Patterns \n",
    "\n",
    "Basic Analysis from Trends Data\n",
    "#### <font color=\"green\">Global Search Interest over Time</font>"
   ]
  },
  {
   "cell_type": "code",
   "execution_count": 13,
   "id": "9c0d965d-3ea2-42e2-956a-11618667eb74",
   "metadata": {},
   "outputs": [
    {
     "data": {
      "image/png": "[encoded data removed]",
      "text/plain": [
       "<Figure size 432x288 with 1 Axes>"
      ]
     },
     "metadata": {
      "needs_background": "light"
     },
     "output_type": "display_data"
    }
   ],
   "source": [
    "# This cell contains code snippets from CW1 adjusted for a different keyword and different time period\n",
    "# Import the libraries\n",
    "import pandas as pd                        \n",
    "from pytrends.request import TrendReq\n",
    "\n",
    "google_trends = TrendReq()\n",
    "keywords=['blockchain']\n",
    "geo='' # defaults to world\n",
    "\n",
    "# Build payload with parameters defined above\n",
    "google_trends.build_payload(keywords, geo=geo, timeframe='today 5-y')\n",
    "\n",
    "# Request global search interest data for the past 5 years\n",
    "global_search_interest_df = google_trends.interest_over_time()\n",
    "\n",
    "# Plot a line chart illustrating global search interest for blockchain\n",
    "line = global_search_interest_df.plot.line(title='Global Search Interest for Blockchain Over 5 Years')"
   ]
  },
  {
   "cell_type": "markdown",
   "id": "f2e0165f-113d-4a51-bd0e-5bc78bf2b880",
   "metadata": {},
   "source": [
    "#### <font color=\"green\">Search by Location</font>"
   ]
  },
  {
   "cell_type": "code",
   "execution_count": 19,
   "id": "224b4a42-7cc9-4e9f-82d9-bdc268097fae",
   "metadata": {},
   "outputs": [
    {
     "data": {
      "text/plain": [
       "<AxesSubplot:xlabel='geoName'>"
      ]
     },
     "execution_count": 19,
     "metadata": {},
     "output_type": "execute_result"
    },
    {
     "data": {
      "image/png": "[encoded data removed]",
      "text/plain": [
       "<Figure size 1440x864 with 1 Axes>"
      ]
     },
     "metadata": {
      "needs_background": "light"
     },
     "output_type": "display_data"
    }
   ],
   "source": [
    "\n",
    "import pandas as pd                        \n",
    "from pytrends.request import TrendReq\n",
    "blockchain_trends = TrendReq()\n",
    "\n",
    "# define search term of interest\n",
    "keyword_list=['blockchain']\n",
    "\n",
    "# Search interest per region in the last 5 years\n",
    "blockchain_trends.build_payload(keyword_list, timeframe='today 5-y')\n",
    "\n",
    "# Search Interest by Region Dataframe \n",
    "search_interest_by_region = blockchain_trends.interest_by_region()\n",
    "\n",
    "#looking at rows where all values are not equal to 0\n",
    "search_interest_by_region = search_interest_by_region[(search_interest_by_region != 0).all(1)]\n",
    "\n",
    "#looking at rows where all values are not equal to 0\n",
    "search_interest_by_region = search_interest_by_region[(search_interest_by_region != 0).all(1)]\n",
    "\n",
    "#drop all rows that have null values in all columns\n",
    "search_interest_by_region.dropna(how='all',axis=0, inplace=True)\n",
    "\n",
    "# Visualise search interest by region over time\n",
    "search_interest_by_region.plot(figsize=(20, 12), y=keyword_list, kind ='bar')"
   ]
  },
  {
   "cell_type": "markdown",
   "id": "cdab8dd5-0a51-48d9-8d39-e51dc581af83",
   "metadata": {},
   "source": [
    "#### Year by Year Increase in Africa and North America\n",
    "\n",
    "X: Year Y: Search interest\n",
    "\n",
    "\n",
    "Between 2012 and 2017, patent application filings claiming AI technologies grew by an average of 28% per year. Although AI technologies are being developed in virtually every industry, the bulk of these filings are sectors including telecommunications, transportation, personal electronic devices and computing, life and medical sciences, security, document management, manufacturing, and engineering. Key AI technologies include machine learning, computer vision, natural language and speech processing, control methods, planning and robotics, among many others."
   ]
  },
  {
   "cell_type": "markdown",
   "id": "64e1e616-d928-41ea-b330-c98e772368a6",
   "metadata": {},
   "source": [
    "#### Demand and supply"
   ]
  },
  {
   "cell_type": "markdown",
   "id": "d1e29a48-bb25-4a2b-845e-4101831da51c",
   "metadata": {},
   "source": [
    "#### Adoption rate correlated with positive impact of technology?"
   ]
  },
  {
   "cell_type": "markdown",
   "id": "8faa00c5-162c-419d-872b-31bf7c1e4569",
   "metadata": {},
   "source": [
    "#### Has Africa crossed the Chasm?\n",
    "Here we use basic economics to determine whether or not there has been a shift from Early adopters to Mainstream market."
   ]
  },
  {
   "cell_type": "markdown",
   "id": "691ca7d5-e442-4d29-8b4d-b05c0b4628ad",
   "metadata": {},
   "source": []
  },
  {
   "cell_type": "markdown",
   "id": "93ba727e-4c7e-4fbd-b953-b44424711bb0",
   "metadata": {},
   "source": []
  },
  {
   "cell_type": "markdown",
   "id": "3ea0f420-7fc4-4523-9cfe-4622a3f6b793",
   "metadata": {},
   "source": []
  },
  {
   "cell_type": "markdown",
   "id": "31938ee0-f46e-43f9-8833-56f9e5c1ca81",
   "metadata": {},
   "source": [
    "#### Who owns the patents? Where are the inventors?"
   ]
  },
  {
   "cell_type": "markdown",
   "id": "e4f55844-6dcf-46c8-897f-52fb20fec947",
   "metadata": {},
   "source": []
  },
  {
   "cell_type": "markdown",
   "id": "edef2565-c03e-4d83-b720-56133cab981c",
   "metadata": {},
   "source": [
    "#### "
   ]
  },
  {
   "cell_type": "markdown",
   "id": "d2ce475f-633a-4df4-962d-33fc87f78a13",
   "metadata": {},
   "source": [
    "#### "
   ]
  },
  {
   "cell_type": "markdown",
   "id": "94b0ad7a-f934-413a-a934-811615c81c12",
   "metadata": {},
   "source": [
    "####"
   ]
  },
  {
   "cell_type": "markdown",
   "id": "797fcfe6-167c-48c0-b71e-7174d203f63e",
   "metadata": {},
   "source": [
    "b. Advanced Analysis\n"
   ]
  },
  {
   "cell_type": "markdown",
   "id": "3e9bde8a-9e70-4111-9d69-2a1b18a1e1db",
   "metadata": {},
   "source": [
    "#### Impact of blockchain technology on economy\n",
    "- Analyze percentage of global economy blockchain trends and patent filings occupies\n",
    "- Percentage of Africa blockchain trends and patent filings occupy\n",
    "- Percentage of Africa blockchain trends and patent filings occupy"
   ]
  },
  {
   "cell_type": "markdown",
   "id": "38e8242e-ea39-4fce-867b-8da3c847e6c2",
   "metadata": {},
   "source": [
    "#### At the height of blockchain (2017), how many patents are there globally?"
   ]
  },
  {
   "cell_type": "markdown",
   "id": "e818c71a-0073-4baa-a340-33438b04e24d",
   "metadata": {},
   "source": [
    "#### Which companies hold the most approved Blockchain technology patents\n",
    "\n",
    "Patents are a form of competitive advantage. They enable ...."
   ]
  },
  {
   "cell_type": "markdown",
   "id": "fd59a6c2-a843-4ef4-bd41-805188f40684",
   "metadata": {},
   "source": [
    "#### What is the breakdown of Blockchain-related IP regionally?"
   ]
  },
  {
   "cell_type": "markdown",
   "id": "16d13a61-7b2e-4ccb-9e64-52f2e06cd372",
   "metadata": {},
   "source": [
    "#### Blockchain also has a negative side..."
   ]
  },
  {
   "cell_type": "markdown",
   "id": "ac9ce4a9-5232-42ec-9bba-201d53fd96f3",
   "metadata": {},
   "source": [
    "#### The blockchain trade off: Environmental sustainability, vs The Neo Institutional Economics promise?"
   ]
  },
  {
   "cell_type": "markdown",
   "id": "226f23da-33ed-46dc-bf62-a270dabd6d0f",
   "metadata": {},
   "source": [
    "#### Does blockchain technology have the potential to set a foundation for the law of accelerating returns?\n",
    "https://www.kurzweilai.net/the-law-of-accelerating-returns"
   ]
  },
  {
   "cell_type": "markdown",
   "id": "1e4c7bf9-49fd-481d-864f-3359d7c9d146",
   "metadata": {},
   "source": [
    "#### Analyzing Technology Policy objectives\n",
    "\n",
    "Random selection: Average Similarity score between two Developed nations vs Non-developed nations?"
   ]
  },
  {
   "cell_type": "markdown",
   "id": "7040e08d-219e-4659-bda6-3e582758aa7b",
   "metadata": {},
   "source": [
    "#### Growth accounting\n"
   ]
  },
  {
   "cell_type": "markdown",
   "id": "1a29615d-0b05-45ae-a373-cd5b792fbeb4",
   "metadata": {},
   "source": [
    "\n",
    "\n",
    "<font color=\"blue\"><h3>6. Results</h3></font>\n",
    "\n",
    "- In Africa, prospects for success are 189% higher than elsewhere globally\n",
    "\n",
    "Visualization\n",
    "\n",
    "\n",
    "\n"
   ]
  },
  {
   "cell_type": "markdown",
   "id": "a6cbd241-5c5b-4fd7-99ae-cc82c40f48d9",
   "metadata": {},
   "source": [
    "\n",
    "\n",
    "<font color=\"blue\"><h3>7. Discussion</h3></font>\n",
    "\n",
    "\n"
   ]
  },
  {
   "cell_type": "markdown",
   "id": "529923ee-6726-4372-b77b-a1e31e4bf88c",
   "metadata": {},
   "source": [
    "\n",
    "<font color=\"blue\"><h3>8. Conclusion</h3></font>"
   ]
  },
  {
   "cell_type": "markdown",
   "id": "dd3c03c2-04fb-4010-8478-60e24583f79b",
   "metadata": {},
   "source": [
    "\n",
    "\n",
    "<font color=\"blue\"><h3>9. References</h3></font>\n",
    "\n",
    "\n"
   ]
  },
  {
   "cell_type": "markdown",
   "id": "87c26c64-f818-4e01-a069-6c87f8320333",
   "metadata": {},
   "source": [
    "\n",
    "[1. Qualitative and Quantitative research](https://www.mcgill.ca/mqhrg/resources/what-difference-between-qualitative-and-quantitative-research)\n",
    "\n",
    "[1. Introduction: How to develop a rationale](https://cdn.ncte.org/nctefiles/involved/action/rationale_howtowrite.pdf)\n",
    "\n",
    "[Analysis: Concept Characterization](https://www.sciencedirect.com/topics/computer-science/data-characterization)\n",
    "\n",
    "Summarize general properties of news articles in blockchain products\n",
    "\n",
    "[1. Introduction](https://digitalcommons.usf.edu/cgi/viewcontent.cgi?article=1002&context=oa_textbooks)\n",
    "\n",
    "\n",
    "[1, 2. Introduction, Research Design](https://bookdown.org/ripberjt/qrmbook/theories-and-social-science.html)\n",
    "\n",
    "[2. Research Design](https://www.questionpro.com/blog/social-research/)"
   ]
  },
  {
   "cell_type": "code",
   "execution_count": null,
   "id": "3746401f-aad2-4fca-b7fa-09fcd85509e0",
   "metadata": {},
   "outputs": [],
   "source": []
  },
  {
   "cell_type": "markdown",
   "id": "7b7d5f07-1294-4424-b515-ae8b927fa804",
   "metadata": {},
   "source": [
    "\n",
    "<font color=\"blue\"><h3>Abstract</h3></font>\n",
    "**What is known and why is this study needed? (Background)**\n",
    "\n",
    "- Sharp rise in attention directed towards blockchain technology, digital assets\n",
    "\n",
    "**What did we do\" (Methods)**\n",
    "\n",
    "- This project traces online search trends and patent filings of blockchain systems to reveal the relation among the two modalities and discover any interesting similarities or differences in geography\n",
    "\n",
    "**What did we find? (Results)**\n",
    "This project's findings provide a lens to understand .. \n",
    "- More investment more IP filing?\n",
    "- Positive impact (any) technology has is consistent with adoption rate\n",
    "\n",
    "**What does it mean (Discussion)**\n",
    "\n",
    "- if we understand what fuels blockchain technology, then we can drive impact\n",
    "- by setting good strategic objectives and expected outcomes\n",
    "\n",
    "**So what?**\n",
    "- if this is possible then Africa has holds great potential for the biggest economic leap\n",
    "\n",
    "- e.g variable x predicts y risk\n",
    "\n"
   ]
  },
  {
   "cell_type": "code",
   "execution_count": null,
   "id": "3d7aba74-1963-408c-9432-43619416e39a",
   "metadata": {},
   "outputs": [],
   "source": []
  },
  {
   "cell_type": "markdown",
   "id": "5cc98386-c1e1-4485-a461-ed3df5ac0fa2",
   "metadata": {},
   "source": [
    "From my perspective, I understood that public search interest is an important factor that factor in decision making in order to meet and address to remain knowledgable about the interests of for their customers ( public market), and thereby build relevant products, but it was unclear whether IP filing trends for the underlying technology are associated to public web search interest, and when.\n",
    "\n",
    "I also felt that This study can help answer tremendously important questions for African nations that are moving from low levels of economic development to higher levels of Economic Development and face many questions about what they should be doing to accelerate and sustain their economic and social development\n",
    "\n",
    "It can also uncover previously unknown and potentially useful knowledge and trends that identify focus areas in order to understand ... and be better prepared to leverage and make the most out of this promising technology.\n",
    "\n",
    "Assumption\n",
    "Higher IP filings -> Higher Economic Growth\n",
    "\n",
    "Argument\n",
    "Higher Search interest -> Higher IP\n",
    "\n",
    "So could Search interest be an important indicator to discover the things that you should IP, or do trends emerge only after IP has been filed? i.e\n",
    "\n",
    "IP filings on a topic -> lead to Trends"
   ]
  }
 ],
 "metadata": {
  "kernelspec": {
   "display_name": "Python 3",
   "language": "python",
   "name": "python3"
  },
  "language_info": {
   "codemirror_mode": {
    "name": "ipython",
    "version": 3
   },
   "file_extension": ".py",
   "mimetype": "text/x-python",
   "name": "python",
   "nbconvert_exporter": "python",
   "pygments_lexer": "ipython3",
   "version": "3.8.8"
  }
 },
 "nbformat": 4,
 "nbformat_minor": 5
}
