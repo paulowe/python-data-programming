{
 "cells": [
  {
   "cell_type": "markdown",
   "id": "e8872997-5de0-4a86-9e12-70003d8cf892",
   "metadata": {},
   "source": [
    "<h2>\n",
    "    <center>\n",
    "        <font color=\"black\">\n",
    "            THE EXAMINATION OF ONLINE SEARCH TRENDS IN BLOCKCHAIN TECHNOLOGY AND ITS RELATION               WITH INTELLECTUAL PROPERTY FILINGS IN AFRICA AND NORTH AMERICA \n",
    "        </font>\n",
    "    </center>\n",
    "</h2>\n",
    "\n",
    "<h3><center><b>BY</b></center></h3>\n",
    "\n",
    "<h3><center><b>PAUL CHARLES OWE</b></center></h3>"
   ]
  },
  {
   "cell_type": "markdown",
   "id": "9f4dec89-4449-4245-88ef-07ae9e626a2e",
   "metadata": {},
   "source": [
    "*Other potential RQ*\n",
    "\n",
    "Assuming \"adoption\" can be gauged through: trends, investment activity and IP filings \n",
    "- Is there a relation between online search trends and investment activity (interesting)\n",
    "- Is there a relation between investment activity and IP filing (interesting, but may be too simplistic/straightforward)\n",
    "- Is there a relation between online search trends and IP filing (interesting)"
   ]
  },
  {
   "cell_type": "markdown",
   "id": "20d6ea4b-3591-4b50-a497-9bb5aa8c94ca",
   "metadata": {},
   "source": [
    "<font color=\"blue\"><h3>1. Introduction</h3></font>\n",
    "\n",
    "*The following section will introduce the project by providing background literature on the topic of interest, highlight important issues and discuss the impact of the study*\n",
    "\n",
    "#### 1.1 Importance of Blockchain (due to Market Capitalization in Financial Industry and Transparency characteristic)\n",
    "The past decade has seen a rapid development of practical applications of blockhain technology that have revolutionized internet commerce [1]. The financial industry (population) is seen as the primary user of the technology behind the Bitcoin cryptocurrency, an open source, peer-to-peer and decentralized payment system [2, 3] that has a market capitalization of over \\\\$700 billion, more valuable than brands like Walmart, Toyota, and TD Bank combined. As of February 2022, the global cryptocurrency market capitalization is \\\\$1.72T. [4] In a short period of time, the technology has demonstrated a huge potential for impacting a variety of industries beyond the financial industry, where trust, and transparency are essential."
   ]
  },
  {
   "cell_type": "markdown",
   "id": "28bebb7b-2ced-4052-adc6-9a2d42213934",
   "metadata": {},
   "source": [
    "#### 1.2 Importance of Intellectual Property (for Economic growth)\n",
    "Today, modern Western societies are shifting their focus away from material factors of production, to non-production resources - information and knowledge, where a significant share of investment is placed on R&D [5]. Previous studies have found that an integral element in the development of an innovative economy and an improvement in the standard of living, is the formation of a market for intellectual capital, the right to an intellectual property, and the like. [6]"
   ]
  },
  {
   "cell_type": "markdown",
   "id": "8148691b-b2d1-4bb0-ab00-d35ba584bf7b",
   "metadata": {},
   "source": [
    "#### 1.3 Prior Knowledge of Online search trends\n",
    "Prior knowledge from my Exploratory Data Analysis shows significantly lower search interest for blockchain technology and related topics in North America compared to Africa over the past 10 years. The overwhelming amount of search interest in African regions indicate that there is a healthy level of demand and adoption for blockchain technology. \n",
    "\n"
   ]
  },
  {
   "cell_type": "code",
   "execution_count": null,
   "id": "9c0d965d-3ea2-42e2-956a-11618667eb74",
   "metadata": {},
   "outputs": [],
   "source": [
    "# This cell contains code snippets from CW1 - \n",
    "#import the libraries\n",
    "import pandas as pd                        \n",
    "from pytrends.request import TrendReq\n",
    "blockchain_trends = TrendReq()\n",
    "\n",
    "# define search term of interest\n",
    "keyword_list=['blockchain']\n",
    "\n",
    "# Search interest per region in the last 5 years\n",
    "blockchain_trends.build_payload(keyword_list, timeframe='today 5-y')\n",
    "\n"
   ]
  },
  {
   "cell_type": "markdown",
   "id": "282359a3-9615-4a03-a440-351f8107b58f",
   "metadata": {},
   "source": [
    "#### 1.4 The gap (Corruption is still higher in Africa, despite higher adoption of Blockchain technology)\n",
    "While emerging technologies, such as Blockchain technology, offer an opportunity to overcome trust-related limitations such as corruption, most African nations still struggle with this issue making it diffcult to conduct business appropriately, and by extension negatively impacting the continent's economic growth. Could it be that all this search interest for blockchain technology is misapprorpiated towards the wrong use cases?\n",
    "\n",
    "My argument is that if there is higher adoption, there should be higher IP filings as well, and by extension the region should reap the benefits of the technology and a significant improvement to Economic growth. But that doesnt seem to be the case as X reports rising corruption over the recent years.\n",
    "\n",
    "Assumption\n",
    "Higher IP filings -> Higher Economic Growth\n",
    "\n",
    "Argument\n",
    "Higher Search interest -> Higher IP\n",
    "\n",
    "So could Search interest be an important indicator to discover the things that you should IP, or do trends emerge only after IP has been filed? i.e\n",
    "\n",
    "IP filings on a topic -> lead to Trends"
   ]
  },
  {
   "cell_type": "markdown",
   "id": "45639bb0-0653-49e9-99ef-c5528c66f2b0",
   "metadata": {},
   "source": [
    "#### Statement of the problem\n",
    "One of the major problems of growth accounting is the decomposition of growth into independent factors, when in fact, there are several evident sources of interdependence between growth factors. The interdependence is crucial for correct analysis of growth. [7] \n",
    "\n",
    "This insight led me to develop curiousity to determine if online search interests in blockchain technology are related to intellectual property filings in Africa and North America."
   ]
  },
  {
   "cell_type": "markdown",
   "id": "5ab87dc8-b347-4a28-8ca4-239910570cd5",
   "metadata": {},
   "source": [
    "#### Impact of the study\n",
    "This study can help answer tremendously important questions for African nations that are moving from low levels of economic development to higher levels of Economic Development and face many questions about what they should be doing to accelerate and sustain their economic and social development. \n",
    "\n",
    "With Blockchain technology offering the many benefits, correct adoption strategies can create an economic leap, bypassing many years of technical and operational debt affecting financial market infrastructure.\n",
    "\n",
    "It can also uncover previously unknown and potentially useful knowledge and trends that identify focus areas in order to understand ... and be better prepared to leverage and make the most out of this promising technology."
   ]
  },
  {
   "cell_type": "markdown",
   "id": "943d8d44-d416-42b5-b437-2c29cbedb841",
   "metadata": {},
   "source": [
    "<font color=\"blue\"><h3>2. Research Aims and Objectives</h3></font>\n",
    "*The following section will clearly define the research question, specific objectives, potential impact and scope of the study*\n",
    "\n",
    "#### Research question\n",
    "In this project, I plan to develop an evidence based approach, building on intial findings, and extending my analysis to determine **what is the relationship between online search interest and intellectual property filings for blockchain technology in regions with varying levels of economic growth and public interest in the technology?**"
   ]
  },
  {
   "cell_type": "markdown",
   "id": "eadbb675-6af0-4edf-801e-df8b3d9308e1",
   "metadata": {},
   "source": [
    "#### Primary objectives of the study\n",
    "The primary goal for this project (considering it is a python data programming course) is to \n",
    "\n",
    "1. Reach logical and verified generalizations (grounded in a strong theory) that characterize the interrelatedness among online search interest and IP filings in North American and African economies. \n",
    "2. Test hypothesis deduced from known theories using new empirical data  \n",
    "3. Seek generalizations that are causal in nature (Causation > Correlation) - provides an opportunity to criticize my work later on\n",
    "\n",
    "##### Aims\n",
    "1. Collect online search trends on the topic of blockchain from Google Trends (extract)\n",
    "2. Tag each \"Region\" with an appropriate continent to facilitate comparison of trends among North American and African regions (transform and load)\n",
    "3. Compare search interest over time (analyze)\n",
    "4. Compare Related topics and queries between regions (analyze)\n",
    "5. Collect Intellectual property filings (extract)\n",
    "6. (transform and load)\n",
    "7. Compare frequency of blockchain filing between regions\n",
    "8. Compare filing similarity among regions\n",
    "9. Analyze filing headings/claims and determine which topics they align with the most\n",
    "10. Determine how filing trends change with search interest over the past 5 years \n"
   ]
  },
  {
   "cell_type": "markdown",
   "id": "5dabb806-8be4-4c0c-b704-544dc825ae34",
   "metadata": {},
   "source": [
    "<font color=\"blue\"><h3>3. Data Analysis Plan (- quantify, compare and analyse)</h3></font>\n",
    "\n",
    "<font color=\"red\"><h4>3.1 Data requirements</h4></font>\n",
    "\n",
    "1. [Google Trends](https://trends.google.com/trends/) \n",
    "\n",
    "Google Trends is a website that analyzes the popularity of top search queries in Google Search across multiple countries and languages. The motivation for using this data source is to explore and compare search trends among Africa and North America on the topic of blockchain.\n",
    "\n",
    "We will also be able to identify the possible ways the public might search for information on the topic and discover interesting patterns around developing interests in blockchain technology that we can compare with for Intellectual property filings\n",
    "\n",
    "People's internet searches can be an important source for generating hypotheses about public awareness about Blockchain technology as well as evaluating changes in information seeking."
   ]
  },
  {
   "cell_type": "markdown",
   "id": "08cdbf42-7136-467f-a4d0-6f9901979edf",
   "metadata": {},
   "source": [
    "B. Theories tested\n",
    "When a working hypothesis is supported, we have more confidence in our theory. When the null hypothesis is supported, it undermines our proposed theory.\n",
    "\n",
    "- Demand and Supply\n",
    "- Early market vs Mainstream adoption (crossing the chasm)\n",
    "- NIE\n",
    "- Causal Analysis\n",
    "- [The law of accelerating returns](https://www.kurzweilai.net/the-law-of-accelerating-returns)\n"
   ]
  },
  {
   "cell_type": "markdown",
   "id": "1816f287-d01e-4631-9d75-9d5079629263",
   "metadata": {},
   "source": [
    "\n",
    "<font color=\"blue\"><h3>3. Research Design and Methods</h3></font>"
   ]
  },
  {
   "cell_type": "markdown",
   "id": "17bdccb6-c2c5-4565-91ec-ecc2feb5bb32",
   "metadata": {},
   "source": [
    "\n",
    "**A. Architecture Design**\n",
    "\n",
    "\n",
    "Diagram here"
   ]
  },
  {
   "cell_type": "markdown",
   "id": "656dff28-e5f1-4cf1-a8fd-7bbda3e92ef6",
   "metadata": {},
   "source": [
    "**B. Research Design**\n",
    "\n",
    "At the core of the goals presented for this research\n",
    "\n",
    "My study is designed to combine both quantitative and secondary research methods to provide an in-depth analysis of / about blah blah blah.\n"
   ]
  },
  {
   "cell_type": "markdown",
   "id": "f5284f40-f606-4340-883f-7d555e1d3cc0",
   "metadata": {},
   "source": [
    "**Quantitative methods employed (select one of these)**\n",
    "-  correlational research, \n",
    "- causal-comparative research and (find relevant paper that did this in social sciences, potentially technology/data sciency)\n",
    "- experimental research.\n",
    "\n",
    "Leverage available data in existing research conducted as it is very informative\n",
    "\n",
    "**Secondary research methods employed are**\n",
    "- information has already been collected by research organizations or marketers. Newspapers, online communities, reports, audio-visual evidence etc. fall under the category of secondary data\n",
    "- researcher - compare and analyze to derive conclusion"
   ]
  },
  {
   "cell_type": "markdown",
   "id": "04aaa1d6-bc4c-4fd0-abec-b94aac23567f",
   "metadata": {},
   "source": [
    "\n",
    "**Key metrics / indicators**\n",
    "\n",
    "Positive impact side:\n",
    "\n",
    "Philanthropic characterization of technology measured by the availability of public services, and quality of life\n",
    "\n"
   ]
  },
  {
   "cell_type": "markdown",
   "id": "04cef27e-a87e-48b1-8c98-eb046be915b3",
   "metadata": {},
   "source": []
  },
  {
   "cell_type": "markdown",
   "id": "1d8cc4ae-303b-4c51-af33-d6a7a402274c",
   "metadata": {},
   "source": [
    "\n",
    "**Procedures and Treatment of Challenges**\n",
    "\n",
    "For scientific research, we conclude on patterns (or theories) through a process of logic and evidence. Logic (theory) and evidence (observations) are the two, and only two, pillars upon which scientific knowledge is based. [Anol Bhattacherjee, 2012]\n",
    "\n",
    "1. Data integration\n",
    "Combination or Integration of multiple databases, files, or other sources into a coherent store\n",
    "\n",
    "- Schema integration (Entity-resolution,A.cust-id = B.cust-#)\n",
    "- Detecting and resolving data value conflicts (Varying representations, e.g Age and Exchange rates)\n",
    "\n",
    "\n",
    "2. Data cleaning\n",
    "Fill in missing values, identify outliers and smooth out noisy data, and resolve dependencies\n",
    "\n",
    "3. Data transformation\n",
    "Feed right data to the mining algorithm\n",
    "4. Data reduction\n",
    "Obtain reduced representation in volume but produces the same or simialr analytical results\n",
    "5. Discretization (of Numeric attributes)\n",
    "Part of data reduction and data transformation but with particular importance, transform numerical data into symbolic (discrete) data\n",
    "\n",
    "\n",
    "Background of Techniques Used\n",
    "1. Entropy\n",
    "2. Information Gain (favors unfairly attributes with large numbers of distinct values at the expense of those with few)\n",
    "3. Gain ratio (Improvement to IG)\n",
    "3. Cosine Similarity\n",
    "4. ChiMerge\n",
    "4. Concept Characterization + Clustering (What in Clustering? Something from Market Segmentation projects) - For innovation points\n",
    "6. \n",
    "\n",
    "\n",
    "\n",
    "\n"
   ]
  },
  {
   "cell_type": "markdown",
   "id": "63569a49-8770-4b66-9952-be44cc4eb33e",
   "metadata": {},
   "source": [
    "\n",
    "\n",
    "<font color=\"blue\"><h3>4. Building a Data pipeline and Testing</h3></font>\n",
    "\n",
    "Functions\n",
    "\n",
    "1. Entropy\n",
    "2. Information Gain\n",
    "3. Cosine similarity"
   ]
  },
  {
   "cell_type": "markdown",
   "id": "11777b23-8ff5-4b68-b6eb-e2508e293127",
   "metadata": {},
   "source": [
    "\n",
    "\n",
    "<font color=\"blue\"><h3>5. Analysis</h3></font>\n",
    "\n",
    "Data Objects\n",
    "\n",
    "a. Basic Analysis\n"
   ]
  },
  {
   "cell_type": "code",
   "execution_count": null,
   "id": "224b4a42-7cc9-4e9f-82d9-bdc268097fae",
   "metadata": {},
   "outputs": [],
   "source": [
    "# This cell contains code snippets from CW1 - \n",
    "#import the libraries\n",
    "import pandas as pd                        \n",
    "from pytrends.request import TrendReq\n",
    "blockchain_trends = TrendReq()\n",
    "\n",
    "# define search term of interest\n",
    "keyword_list=['blockchain']\n",
    "\n",
    "# Search interest per region in the last 5 years\n",
    "blockchain_trends.build_payload(keyword_list, timeframe='today 5-y')\n",
    "\n",
    "# Search Interest by Region Dataframe \n",
    "search_interest_by_region = blockchain_trends.interest_by_region()\n",
    "\n",
    "#looking at rows where all values are not equal to 0\n",
    "search_interest_by_region = search_interest_by_region[(search_interest_by_region != 0).all(1)]\n",
    "\n",
    "#looking at rows where all values are not equal to 0\n",
    "search_interest_by_region = search_interest_by_region[(search_interest_by_region != 0).all(1)]\n",
    "\n",
    "#drop all rows that have null values in all columns\n",
    "search_interest_by_region.dropna(how='all',axis=0, inplace=True)\n",
    "\n",
    "# Visualise search interest by region over time\n",
    "search_interest_by_region.plot(figsize=(20, 12), y=keyword_list, kind ='bar')"
   ]
  },
  {
   "cell_type": "markdown",
   "id": "64e1e616-d928-41ea-b330-c98e772368a6",
   "metadata": {},
   "source": [
    "#### Demand and supply"
   ]
  },
  {
   "cell_type": "markdown",
   "id": "d1e29a48-bb25-4a2b-845e-4101831da51c",
   "metadata": {},
   "source": [
    "#### Adoption rate correlated with positive impact of technology?"
   ]
  },
  {
   "cell_type": "markdown",
   "id": "edef2565-c03e-4d83-b720-56133cab981c",
   "metadata": {},
   "source": [
    "#### "
   ]
  },
  {
   "cell_type": "markdown",
   "id": "8faa00c5-162c-419d-872b-31bf7c1e4569",
   "metadata": {},
   "source": [
    "#### Has Africa crossed the Chasm?\n",
    "Here we use basic economics to determine whether or not there has been a shift from Early adopters to Mainstream market."
   ]
  },
  {
   "cell_type": "markdown",
   "id": "d2ce475f-633a-4df4-962d-33fc87f78a13",
   "metadata": {},
   "source": [
    "#### "
   ]
  },
  {
   "cell_type": "markdown",
   "id": "94b0ad7a-f934-413a-a934-811615c81c12",
   "metadata": {},
   "source": [
    "####"
   ]
  },
  {
   "cell_type": "markdown",
   "id": "797fcfe6-167c-48c0-b71e-7174d203f63e",
   "metadata": {},
   "source": [
    "b. Advanced Analysis\n"
   ]
  },
  {
   "cell_type": "markdown",
   "id": "3e9bde8a-9e70-4111-9d69-2a1b18a1e1db",
   "metadata": {},
   "source": [
    "#### Impact of blockchain technology on economy\n",
    "- Analyze percentage of global economy blockchain trends and patent filings occupies\n",
    "- Percentage of Africa blockchain trends and patent filings occupy\n",
    "- Percentage of Africa blockchain trends and patent filings occupy"
   ]
  },
  {
   "cell_type": "markdown",
   "id": "e818c71a-0073-4baa-a340-33438b04e24d",
   "metadata": {},
   "source": [
    "#### Which companies hold the most approved Blockchain technology patents\n",
    "\n",
    "Patents are a form of competitive advantage. They enable ...."
   ]
  },
  {
   "cell_type": "markdown",
   "id": "fd59a6c2-a843-4ef4-bd41-805188f40684",
   "metadata": {},
   "source": [
    "#### What is the breakdown of Blockchain-related IP regionally?"
   ]
  },
  {
   "cell_type": "markdown",
   "id": "16d13a61-7b2e-4ccb-9e64-52f2e06cd372",
   "metadata": {},
   "source": [
    "#### Blockchain also has a negative side..."
   ]
  },
  {
   "cell_type": "markdown",
   "id": "ac9ce4a9-5232-42ec-9bba-201d53fd96f3",
   "metadata": {},
   "source": [
    "#### The blockchain trade off: Environmental sustainability, vs The Neo Institutional Economics promise?"
   ]
  },
  {
   "cell_type": "markdown",
   "id": "226f23da-33ed-46dc-bf62-a270dabd6d0f",
   "metadata": {},
   "source": [
    "#### Does blockchain technology have the potential to set a foundation for the law of accelerating returns?\n",
    "https://www.kurzweilai.net/the-law-of-accelerating-returns"
   ]
  },
  {
   "cell_type": "markdown",
   "id": "1e4c7bf9-49fd-481d-864f-3359d7c9d146",
   "metadata": {},
   "source": [
    "#### Analyzing Technology Policy objectives\n",
    "\n",
    "Random selection: Average Similarity score between two Developed nations vs Non-developed nations?"
   ]
  },
  {
   "cell_type": "markdown",
   "id": "7040e08d-219e-4659-bda6-3e582758aa7b",
   "metadata": {},
   "source": [
    "#### Growth accounting\n"
   ]
  },
  {
   "cell_type": "markdown",
   "id": "1a29615d-0b05-45ae-a373-cd5b792fbeb4",
   "metadata": {},
   "source": [
    "\n",
    "\n",
    "<font color=\"blue\"><h3>6. Results</h3></font>\n",
    "\n",
    "- In Africa, prospects for success are 189% higher than elsewhere globally\n",
    "\n",
    "Visualization\n",
    "\n",
    "\n",
    "\n"
   ]
  },
  {
   "cell_type": "markdown",
   "id": "a6cbd241-5c5b-4fd7-99ae-cc82c40f48d9",
   "metadata": {},
   "source": [
    "\n",
    "\n",
    "<font color=\"blue\"><h3>7. Discussion</h3></font>\n",
    "\n",
    "\n"
   ]
  },
  {
   "cell_type": "markdown",
   "id": "529923ee-6726-4372-b77b-a1e31e4bf88c",
   "metadata": {},
   "source": [
    "\n",
    "<font color=\"blue\"><h3>8. Conclusion</h3></font>"
   ]
  },
  {
   "cell_type": "markdown",
   "id": "dd3c03c2-04fb-4010-8478-60e24583f79b",
   "metadata": {},
   "source": [
    "\n",
    "\n",
    "<font color=\"blue\"><h3>9. References</h3></font>\n",
    "\n",
    "\n"
   ]
  },
  {
   "cell_type": "markdown",
   "id": "87c26c64-f818-4e01-a069-6c87f8320333",
   "metadata": {},
   "source": [
    "\n",
    "[1. Qualitative and Quantitative research](https://www.mcgill.ca/mqhrg/resources/what-difference-between-qualitative-and-quantitative-research)\n",
    "\n",
    "[1. Introduction: How to develop a rationale](https://cdn.ncte.org/nctefiles/involved/action/rationale_howtowrite.pdf)\n",
    "\n",
    "[Analysis: Concept Characterization](https://www.sciencedirect.com/topics/computer-science/data-characterization)\n",
    "\n",
    "Summarize general properties of news articles in blockchain products\n",
    "\n",
    "[1. Introduction](https://digitalcommons.usf.edu/cgi/viewcontent.cgi?article=1002&context=oa_textbooks)\n",
    "\n",
    "\n",
    "[1, 2. Introduction, Research Design](https://bookdown.org/ripberjt/qrmbook/theories-and-social-science.html)\n",
    "\n",
    "[2. Research Design](https://www.questionpro.com/blog/social-research/)"
   ]
  },
  {
   "cell_type": "code",
   "execution_count": null,
   "id": "3746401f-aad2-4fca-b7fa-09fcd85509e0",
   "metadata": {},
   "outputs": [],
   "source": []
  },
  {
   "cell_type": "markdown",
   "id": "7b7d5f07-1294-4424-b515-ae8b927fa804",
   "metadata": {},
   "source": [
    "\n",
    "<font color=\"blue\"><h3>Abstract</h3></font>\n",
    "**What is known and why is this study needed? (Background)**\n",
    "\n",
    "- Sharp rise in attention directed towards blockchain technology, digital assets\n",
    "\n",
    "**What did we do\" (Methods)**\n",
    "\n",
    "- This project traces online search trends and patent filings of blockchain systems to reveal the relation among the two modalities and discover any interesting similarities or differences in geography\n",
    "\n",
    "**What did we find? (Results)**\n",
    "This project's findings provide a lens to understand .. \n",
    "- More investment more IP filing?\n",
    "- Positive impact (any) technology has is consistent with adoption rate\n",
    "\n",
    "**What does it mean (Discussion)**\n",
    "\n",
    "- if we understand what fuels blockchain technology, then we can drive impact\n",
    "- by setting good strategic objectives and expected outcomes\n",
    "\n",
    "**So what?**\n",
    "- if this is possible then Africa has holds great potential for the biggest economic leap\n",
    "\n",
    "- e.g variable x predicts y risk\n",
    "\n"
   ]
  },
  {
   "cell_type": "code",
   "execution_count": null,
   "id": "3d7aba74-1963-408c-9432-43619416e39a",
   "metadata": {},
   "outputs": [],
   "source": []
  }
 ],
 "metadata": {
  "kernelspec": {
   "display_name": "Python 3",
   "language": "python",
   "name": "python3"
  },
  "language_info": {
   "codemirror_mode": {
    "name": "ipython",
    "version": 3
   },
   "file_extension": ".py",
   "mimetype": "text/x-python",
   "name": "python",
   "nbconvert_exporter": "python",
   "pygments_lexer": "ipython3",
   "version": "3.8.8"
  }
 },
 "nbformat": 4,
 "nbformat_minor": 5
}
