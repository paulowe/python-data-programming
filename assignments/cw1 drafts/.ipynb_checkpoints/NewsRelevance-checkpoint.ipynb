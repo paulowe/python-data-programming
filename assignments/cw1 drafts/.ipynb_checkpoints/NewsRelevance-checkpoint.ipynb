{
 "cells": [
  {
   "cell_type": "markdown",
   "id": "edb5850f-8552-4a7a-b469-93a73600724a",
   "metadata": {},
   "source": [
    "# News Relevance with Knowledge Graphs\n",
    "In this section, I will demonstrate how we can discover details of emerging crypto projects by building a graph. This will be our knowledge graph. A knowledge graph organizes information into an ontology. \n",
    "\n",
    "It turns out many real world system can be modelled as networks ... By choosing this model we can leverage many graph algorithms and perform interesting tasks..\n",
    "\n",
    "In this case, We want / will monitor for specially defined relationships (predicates) that connect a given/identified list of relevant crypto projects (subjects) and their other relevant, related crypto projects, companies, people involved, news articles (also subjects).\n",
    "\n",
    "We will perform the following tasks to achieve the above described objective\n",
    "\n",
    "1. Build the graph through Triples extraction\n",
    "2. Extract infomration from news\n",
    "3. Add news data to the knowledge graph\n",
    "4. Make inferences\n",
    "\n",
    "Use Qwikdata pacakge to query for information about entities from Wikidata.\n",
    "\n",
    "\n",
    "## 1. Imports"
   ]
  },
  {
   "cell_type": "code",
   "execution_count": 1,
   "id": "4761524b-e49b-4169-b524-f72ba1abe038",
   "metadata": {},
   "outputs": [
    {
     "name": "stdout",
     "output_type": "stream",
     "text": [
      "Collecting qwikidata\n",
      "  Downloading qwikidata-0.4.0-py3-none-any.whl (20 kB)\n",
      "Requirement already satisfied: requests in /Users/pcowe/opt/anaconda3/lib/python3.8/site-packages (from qwikidata) (2.26.0)\n",
      "Requirement already satisfied: mypy-extensions in /Users/pcowe/opt/anaconda3/lib/python3.8/site-packages (from qwikidata) (0.4.3)\n",
      "Requirement already satisfied: certifi>=2017.4.17 in /Users/pcowe/opt/anaconda3/lib/python3.8/site-packages (from requests->qwikidata) (2021.5.30)\n",
      "Requirement already satisfied: charset-normalizer~=2.0.0 in /Users/pcowe/opt/anaconda3/lib/python3.8/site-packages (from requests->qwikidata) (2.0.4)\n",
      "Requirement already satisfied: urllib3<1.27,>=1.21.1 in /Users/pcowe/opt/anaconda3/lib/python3.8/site-packages (from requests->qwikidata) (1.26.6)\n",
      "Requirement already satisfied: idna<4,>=2.5 in /Users/pcowe/opt/anaconda3/lib/python3.8/site-packages (from requests->qwikidata) (3.2)\n",
      "Installing collected packages: qwikidata\n",
      "Successfully installed qwikidata-0.4.0\n"
     ]
    }
   ],
   "source": [
    "!pip install qwikidata"
   ]
  },
  {
   "cell_type": "markdown",
   "id": "0b215534-2fd0-4dc9-bb1c-4ba445930045",
   "metadata": {},
   "source": [
    "## Triples Extraction from WikiData\n",
    "Given a list of [SUBJECTS] and a list of predicates we are interested in, let's write a function that will extract the list of (subject, predicate, object) triples."
   ]
  },
  {
   "cell_type": "code",
   "execution_count": 15,
   "id": "761acc18-f4b7-44ae-9ed7-ef5ff5084397",
   "metadata": {},
   "outputs": [],
   "source": [
    "#Imports\n",
    "import numpy as np\n",
    "import pandas as pd\n",
    "import matplotlib.pyplot as plt\n",
    "\n",
    "from qwikidata.entity import WikidataItem, WikidataLexeme, WikidataProperty\n",
    "from qwikidata.linked_data_interface import get_entity_dict_from_api\n",
    "\n",
    "# Progress bar\n",
    "from tqdm.notebook import tqdm"
   ]
  },
  {
   "cell_type": "markdown",
   "id": "bff835ef-148f-44e7-8734-b4b3e91ed692",
   "metadata": {},
   "source": [
    "Lets write a function that takes in the list of companies we want to consider as well as the relationships (predicates) these companies have with other entities. The function should retunr the (subject, predicate, object) triples, where the subject is the company. For example, we would like:"
   ]
  },
  {
   "cell_type": "code",
   "execution_count": null,
   "id": "6ce57e69-87cc-410b-a173-150f7277dde6",
   "metadata": {},
   "outputs": [],
   "source": [
    "# List of Companies/Financial Entities\n",
    "KG_financial = [\"Amazon Web Services\", \"Bitcoin\", \"Bank of Montreal\", \"Ethereum\", \"Adastra Corporation\", \"Polygon\", \"Goldman Sachs\", \"Bloomberg\", \"Google\", \"TD\", \"Apple\", \"Tesla\", \"CME\"]\n"
   ]
  },
  {
   "cell_type": "code",
   "execution_count": null,
   "id": "333d8cd1-c45c-4068-babc-0aaaddef17bb",
   "metadata": {},
   "outputs": [],
   "source": [
    "q42_dict = get_entity_dict_from_api(\"Q42\")\n",
    "q42 = WikidataItem(q42_dict)"
   ]
  },
  {
   "cell_type": "code",
   "execution_count": 23,
   "id": "f6ab4937-2c14-4df6-bf30-bb7ede76af6e",
   "metadata": {},
   "outputs": [],
   "source": [
    "def get_triples_from_wikidata(companies_list, predicate_list):\n",
    "    \"\"\"\n",
    "    Inputs: subject_list - a list of companies, Q id.\n",
    "            predicate_list - a list of predicates, P id\n",
    "    Outputs: (company, predicate, object) triples\n",
    "    \"\"\"\n",
    "    subjects, predicates, objects = [], [], []\n",
    "    # For each Company, get its  WikidataItem Id\n",
    "    for Q_id in tqdm(companies_list):\n",
    "        print(companies_list)\n",
    "        # WikidataItem - https://qwikidata.readthedocs.io/en/stable/entity.html?highlight=WikidataItem\n",
    "        Q_company = WikidataItem(get_entity_dict_from_api(Q_id))\n",
    "        for predicate in predicate_list:\n",
    "            # add note here\n",
    "            for claim in Q_company.get_claim_group(predicate):\n",
    "                \n",
    "                object_id = claim.mainsnak.datavalue.value[\"id\"]\n",
    "                object_entity = WikidataItem(get_entity_dict_from_api(object_id))\n",
    "                \n",
    "                subjects.append(Q_company.get_label())\n",
    "                # add notes here\n",
    "                predicate_property = WikidataProperty(get_entity_dict_from_api(predicate))\n",
    "                predicates.append(predicate_property)\n",
    "                \n",
    "                objects.append(object_entity.get_label())\n",
    "    return subjects, predicates, objects\n",
    "    "
   ]
  },
  {
   "cell_type": "markdown",
   "id": "c11825ef-31c4-4219-ba17-a6311c465a4a",
   "metadata": {},
   "source": [
    "### Companies List"
   ]
  },
  {
   "cell_type": "code",
   "execution_count": 24,
   "id": "41b23af0-1ee5-4530-8b2f-dfdf0f11cd2a",
   "metadata": {},
   "outputs": [],
   "source": [
    "# Figure out how To generate these from KG_financials. Insert conversion query here\n",
    "companies_list = [\"Q95\", \"Q2283\", \"Q193326\", \"Q744149\", \"Q1418\", \"Q312\", \"Q41187\", \"Q20716\", \"Q248\", \"Q37156\", \"Q17077936\", \"Q355\", \"Q23548\", \"Q3884\", \"Q66\", \"Q4781944\", \"Q478214\",\n",
    "                  \"Q907311\"]\n",
    "    "
   ]
  },
  {
   "cell_type": "markdown",
   "id": "7c034a25-0432-412a-8596-d60f66345068",
   "metadata": {
    "tags": []
   },
   "source": [
    "### Predicate List\n",
    "The predicate list holds a list of relationships we would like to capture in our knowledge graph. P31 for example is, \"instance of\", which could be used in a triple: (Google, instance of, technology company)."
   ]
  },
  {
   "cell_type": "code",
   "execution_count": 25,
   "id": "3b541e49-d066-4acf-aaea-ec30fb5744f0",
   "metadata": {},
   "outputs": [],
   "source": [
    "predicate_list = [\"P31\", \"P17\", \"P361\", \"P452\", \"P112\", \"P169\", \"P463\", \"P355\", \"P1830\", \"P1056\"]"
   ]
  },
  {
   "cell_type": "code",
   "execution_count": null,
   "id": "744653af-3ff1-4ce8-aa68-aafc72422646",
   "metadata": {},
   "outputs": [
    {
     "data": {
      "application/vnd.jupyter.widget-view+json": {
       "model_id": "79a883ab7a7f4a9f9b2524b5b7a46cd6",
       "version_major": 2,
       "version_minor": 0
      },
      "text/plain": [
       "  0%|          | 0/18 [00:00<?, ?it/s]"
      ]
     },
     "metadata": {},
     "output_type": "display_data"
    },
    {
     "name": "stdout",
     "output_type": "stream",
     "text": [
      "['Q95', 'Q2283', 'Q193326', 'Q744149', 'Q1418', 'Q312', 'Q41187', 'Q20716', 'Q248', 'Q37156', 'Q17077936', 'Q355', 'Q23548', 'Q3884', 'Q66', 'Q4781944', 'Q478214', 'Q907311']\n",
      "['Q95', 'Q2283', 'Q193326', 'Q744149', 'Q1418', 'Q312', 'Q41187', 'Q20716', 'Q248', 'Q37156', 'Q17077936', 'Q355', 'Q23548', 'Q3884', 'Q66', 'Q4781944', 'Q478214', 'Q907311']\n",
      "['Q95', 'Q2283', 'Q193326', 'Q744149', 'Q1418', 'Q312', 'Q41187', 'Q20716', 'Q248', 'Q37156', 'Q17077936', 'Q355', 'Q23548', 'Q3884', 'Q66', 'Q4781944', 'Q478214', 'Q907311']\n",
      "['Q95', 'Q2283', 'Q193326', 'Q744149', 'Q1418', 'Q312', 'Q41187', 'Q20716', 'Q248', 'Q37156', 'Q17077936', 'Q355', 'Q23548', 'Q3884', 'Q66', 'Q4781944', 'Q478214', 'Q907311']\n",
      "['Q95', 'Q2283', 'Q193326', 'Q744149', 'Q1418', 'Q312', 'Q41187', 'Q20716', 'Q248', 'Q37156', 'Q17077936', 'Q355', 'Q23548', 'Q3884', 'Q66', 'Q4781944', 'Q478214', 'Q907311']\n",
      "['Q95', 'Q2283', 'Q193326', 'Q744149', 'Q1418', 'Q312', 'Q41187', 'Q20716', 'Q248', 'Q37156', 'Q17077936', 'Q355', 'Q23548', 'Q3884', 'Q66', 'Q4781944', 'Q478214', 'Q907311']\n",
      "['Q95', 'Q2283', 'Q193326', 'Q744149', 'Q1418', 'Q312', 'Q41187', 'Q20716', 'Q248', 'Q37156', 'Q17077936', 'Q355', 'Q23548', 'Q3884', 'Q66', 'Q4781944', 'Q478214', 'Q907311']\n",
      "['Q95', 'Q2283', 'Q193326', 'Q744149', 'Q1418', 'Q312', 'Q41187', 'Q20716', 'Q248', 'Q37156', 'Q17077936', 'Q355', 'Q23548', 'Q3884', 'Q66', 'Q4781944', 'Q478214', 'Q907311']\n",
      "['Q95', 'Q2283', 'Q193326', 'Q744149', 'Q1418', 'Q312', 'Q41187', 'Q20716', 'Q248', 'Q37156', 'Q17077936', 'Q355', 'Q23548', 'Q3884', 'Q66', 'Q4781944', 'Q478214', 'Q907311']\n",
      "['Q95', 'Q2283', 'Q193326', 'Q744149', 'Q1418', 'Q312', 'Q41187', 'Q20716', 'Q248', 'Q37156', 'Q17077936', 'Q355', 'Q23548', 'Q3884', 'Q66', 'Q4781944', 'Q478214', 'Q907311']\n",
      "['Q95', 'Q2283', 'Q193326', 'Q744149', 'Q1418', 'Q312', 'Q41187', 'Q20716', 'Q248', 'Q37156', 'Q17077936', 'Q355', 'Q23548', 'Q3884', 'Q66', 'Q4781944', 'Q478214', 'Q907311']\n",
      "['Q95', 'Q2283', 'Q193326', 'Q744149', 'Q1418', 'Q312', 'Q41187', 'Q20716', 'Q248', 'Q37156', 'Q17077936', 'Q355', 'Q23548', 'Q3884', 'Q66', 'Q4781944', 'Q478214', 'Q907311']\n",
      "['Q95', 'Q2283', 'Q193326', 'Q744149', 'Q1418', 'Q312', 'Q41187', 'Q20716', 'Q248', 'Q37156', 'Q17077936', 'Q355', 'Q23548', 'Q3884', 'Q66', 'Q4781944', 'Q478214', 'Q907311']\n"
     ]
    }
   ],
   "source": [
    "subjects, predicates, objects = get_triples_from_wikidata(companies_list, predicate_list)\n",
    "print(subjects)"
   ]
  },
  {
   "cell_type": "code",
   "execution_count": null,
   "id": "b00436e0-1bc1-401b-8999-56341bb155e1",
   "metadata": {},
   "outputs": [],
   "source": []
  }
 ],
 "metadata": {
  "kernelspec": {
   "display_name": "Python 3",
   "language": "python",
   "name": "python3"
  },
  "language_info": {
   "codemirror_mode": {
    "name": "ipython",
    "version": 3
   },
   "file_extension": ".py",
   "mimetype": "text/x-python",
   "name": "python",
   "nbconvert_exporter": "python",
   "pygments_lexer": "ipython3",
   "version": "3.8.8"
  }
 },
 "nbformat": 4,
 "nbformat_minor": 5
}
