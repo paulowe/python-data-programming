{
  "nbformat": 4,
  "nbformat_minor": 0,
  "metadata": {
    "colab": {
      "name": "News Relevance with Knowledge Graphs v2.ipynb",
      "provenance": [],
      "collapsed_sections": [],
      "toc_visible": true
    },
    "kernelspec": {
      "name": "python3",
      "display_name": "Python 3"
    },
    "widgets": {
      "application/vnd.jupyter.widget-state+json": {
        "5ce39817e669471997f37ff2676a7694": {
          "model_module": "@jupyter-widgets/controls",
          "model_name": "HBoxModel",
          "state": {
            "_view_name": "HBoxView",
            "_dom_classes": [],
            "_model_name": "HBoxModel",
            "_view_module": "@jupyter-widgets/controls",
            "_model_module_version": "1.5.0",
            "_view_count": null,
            "_view_module_version": "1.5.0",
            "box_style": "",
            "layout": "IPY_MODEL_cbfd205443ec45c0baa180c916c2c407",
            "_model_module": "@jupyter-widgets/controls",
            "children": [
              "IPY_MODEL_1380a3274b6a433c9107bd0d517e5cd5",
              "IPY_MODEL_ad7f2f91de7d4517b750ea384bef299f"
            ]
          },
          "model_module_version": "1.5.0"
        },
        "cbfd205443ec45c0baa180c916c2c407": {
          "model_module": "@jupyter-widgets/base",
          "model_name": "LayoutModel",
          "state": {
            "_view_name": "LayoutView",
            "grid_template_rows": null,
            "right": null,
            "justify_content": null,
            "_view_module": "@jupyter-widgets/base",
            "overflow": null,
            "_model_module_version": "1.2.0",
            "_view_count": null,
            "flex_flow": null,
            "width": null,
            "min_width": null,
            "border": null,
            "align_items": null,
            "bottom": null,
            "_model_module": "@jupyter-widgets/base",
            "top": null,
            "grid_column": null,
            "overflow_y": null,
            "overflow_x": null,
            "grid_auto_flow": null,
            "grid_area": null,
            "grid_template_columns": null,
            "flex": null,
            "_model_name": "LayoutModel",
            "justify_items": null,
            "grid_row": null,
            "max_height": null,
            "align_content": null,
            "visibility": null,
            "align_self": null,
            "height": null,
            "min_height": null,
            "padding": null,
            "grid_auto_rows": null,
            "grid_gap": null,
            "max_width": null,
            "order": null,
            "_view_module_version": "1.2.0",
            "grid_template_areas": null,
            "object_position": null,
            "object_fit": null,
            "grid_auto_columns": null,
            "margin": null,
            "display": null,
            "left": null
          },
          "model_module_version": "1.2.0"
        },
        "1380a3274b6a433c9107bd0d517e5cd5": {
          "model_module": "@jupyter-widgets/controls",
          "model_name": "FloatProgressModel",
          "state": {
            "_view_name": "ProgressView",
            "style": "IPY_MODEL_dc3203f168464e79b92ab6c4a9a463da",
            "_dom_classes": [],
            "description": "100%",
            "_model_name": "FloatProgressModel",
            "bar_style": "success",
            "max": 18,
            "_view_module": "@jupyter-widgets/controls",
            "_model_module_version": "1.5.0",
            "value": 18,
            "_view_count": null,
            "_view_module_version": "1.5.0",
            "orientation": "horizontal",
            "min": 0,
            "description_tooltip": null,
            "_model_module": "@jupyter-widgets/controls",
            "layout": "IPY_MODEL_cf278952e33d4d0682cd6ffc69adffe0"
          },
          "model_module_version": "1.5.0"
        },
        "ad7f2f91de7d4517b750ea384bef299f": {
          "model_module": "@jupyter-widgets/controls",
          "model_name": "HTMLModel",
          "state": {
            "_view_name": "HTMLView",
            "style": "IPY_MODEL_daf209e8cf444164b108972b4fa849c7",
            "_dom_classes": [],
            "description": "",
            "_model_name": "HTMLModel",
            "placeholder": "​",
            "_view_module": "@jupyter-widgets/controls",
            "_model_module_version": "1.5.0",
            "value": " 18/18 [12:34&lt;00:00, 41.94s/it]",
            "_view_count": null,
            "_view_module_version": "1.5.0",
            "description_tooltip": null,
            "_model_module": "@jupyter-widgets/controls",
            "layout": "IPY_MODEL_bb1ffaa9a0bf46e48e1f975b3d275124"
          },
          "model_module_version": "1.5.0"
        },
        "dc3203f168464e79b92ab6c4a9a463da": {
          "model_module": "@jupyter-widgets/controls",
          "model_name": "ProgressStyleModel",
          "state": {
            "_view_name": "StyleView",
            "_model_name": "ProgressStyleModel",
            "description_width": "initial",
            "_view_module": "@jupyter-widgets/base",
            "_model_module_version": "1.5.0",
            "_view_count": null,
            "_view_module_version": "1.2.0",
            "bar_color": null,
            "_model_module": "@jupyter-widgets/controls"
          },
          "model_module_version": "1.5.0"
        },
        "cf278952e33d4d0682cd6ffc69adffe0": {
          "model_module": "@jupyter-widgets/base",
          "model_name": "LayoutModel",
          "state": {
            "_view_name": "LayoutView",
            "grid_template_rows": null,
            "right": null,
            "justify_content": null,
            "_view_module": "@jupyter-widgets/base",
            "overflow": null,
            "_model_module_version": "1.2.0",
            "_view_count": null,
            "flex_flow": null,
            "width": null,
            "min_width": null,
            "border": null,
            "align_items": null,
            "bottom": null,
            "_model_module": "@jupyter-widgets/base",
            "top": null,
            "grid_column": null,
            "overflow_y": null,
            "overflow_x": null,
            "grid_auto_flow": null,
            "grid_area": null,
            "grid_template_columns": null,
            "flex": null,
            "_model_name": "LayoutModel",
            "justify_items": null,
            "grid_row": null,
            "max_height": null,
            "align_content": null,
            "visibility": null,
            "align_self": null,
            "height": null,
            "min_height": null,
            "padding": null,
            "grid_auto_rows": null,
            "grid_gap": null,
            "max_width": null,
            "order": null,
            "_view_module_version": "1.2.0",
            "grid_template_areas": null,
            "object_position": null,
            "object_fit": null,
            "grid_auto_columns": null,
            "margin": null,
            "display": null,
            "left": null
          },
          "model_module_version": "1.2.0"
        },
        "daf209e8cf444164b108972b4fa849c7": {
          "model_module": "@jupyter-widgets/controls",
          "model_name": "DescriptionStyleModel",
          "state": {
            "_view_name": "StyleView",
            "_model_name": "DescriptionStyleModel",
            "description_width": "",
            "_view_module": "@jupyter-widgets/base",
            "_model_module_version": "1.5.0",
            "_view_count": null,
            "_view_module_version": "1.2.0",
            "_model_module": "@jupyter-widgets/controls"
          },
          "model_module_version": "1.5.0"
        },
        "bb1ffaa9a0bf46e48e1f975b3d275124": {
          "model_module": "@jupyter-widgets/base",
          "model_name": "LayoutModel",
          "state": {
            "_view_name": "LayoutView",
            "grid_template_rows": null,
            "right": null,
            "justify_content": null,
            "_view_module": "@jupyter-widgets/base",
            "overflow": null,
            "_model_module_version": "1.2.0",
            "_view_count": null,
            "flex_flow": null,
            "width": null,
            "min_width": null,
            "border": null,
            "align_items": null,
            "bottom": null,
            "_model_module": "@jupyter-widgets/base",
            "top": null,
            "grid_column": null,
            "overflow_y": null,
            "overflow_x": null,
            "grid_auto_flow": null,
            "grid_area": null,
            "grid_template_columns": null,
            "flex": null,
            "_model_name": "LayoutModel",
            "justify_items": null,
            "grid_row": null,
            "max_height": null,
            "align_content": null,
            "visibility": null,
            "align_self": null,
            "height": null,
            "min_height": null,
            "padding": null,
            "grid_auto_rows": null,
            "grid_gap": null,
            "max_width": null,
            "order": null,
            "_view_module_version": "1.2.0",
            "grid_template_areas": null,
            "object_position": null,
            "object_fit": null,
            "grid_auto_columns": null,
            "margin": null,
            "display": null,
            "left": null
          },
          "model_module_version": "1.2.0"
        },
        "1297e57c01f64fcbbaaee71aecf2b6a1": {
          "model_module": "@jupyter-widgets/controls",
          "model_name": "HBoxModel",
          "state": {
            "_view_name": "HBoxView",
            "_dom_classes": [],
            "_model_name": "HBoxModel",
            "_view_module": "@jupyter-widgets/controls",
            "_model_module_version": "1.5.0",
            "_view_count": null,
            "_view_module_version": "1.5.0",
            "box_style": "",
            "layout": "IPY_MODEL_2f86b65ac28241b09628f96a0b990e2e",
            "_model_module": "@jupyter-widgets/controls",
            "children": [
              "IPY_MODEL_f42d255c6dcc4110a130e58d8c6a2289",
              "IPY_MODEL_8f20e4c7b4a24f7c8f7d58751001f455"
            ]
          },
          "model_module_version": "1.5.0"
        },
        "2f86b65ac28241b09628f96a0b990e2e": {
          "model_module": "@jupyter-widgets/base",
          "model_name": "LayoutModel",
          "state": {
            "_view_name": "LayoutView",
            "grid_template_rows": null,
            "right": null,
            "justify_content": null,
            "_view_module": "@jupyter-widgets/base",
            "overflow": null,
            "_model_module_version": "1.2.0",
            "_view_count": null,
            "flex_flow": null,
            "width": null,
            "min_width": null,
            "border": null,
            "align_items": null,
            "bottom": null,
            "_model_module": "@jupyter-widgets/base",
            "top": null,
            "grid_column": null,
            "overflow_y": null,
            "overflow_x": null,
            "grid_auto_flow": null,
            "grid_area": null,
            "grid_template_columns": null,
            "flex": null,
            "_model_name": "LayoutModel",
            "justify_items": null,
            "grid_row": null,
            "max_height": null,
            "align_content": null,
            "visibility": null,
            "align_self": null,
            "height": null,
            "min_height": null,
            "padding": null,
            "grid_auto_rows": null,
            "grid_gap": null,
            "max_width": null,
            "order": null,
            "_view_module_version": "1.2.0",
            "grid_template_areas": null,
            "object_position": null,
            "object_fit": null,
            "grid_auto_columns": null,
            "margin": null,
            "display": null,
            "left": null
          },
          "model_module_version": "1.2.0"
        },
        "f42d255c6dcc4110a130e58d8c6a2289": {
          "model_module": "@jupyter-widgets/controls",
          "model_name": "FloatProgressModel",
          "state": {
            "_view_name": "ProgressView",
            "style": "IPY_MODEL_f5ce2adf1fa64e1fb8aa0e333f687ecf",
            "_dom_classes": [],
            "description": "100%",
            "_model_name": "FloatProgressModel",
            "bar_style": "success",
            "max": 38531,
            "_view_module": "@jupyter-widgets/controls",
            "_model_module_version": "1.5.0",
            "value": 38531,
            "_view_count": null,
            "_view_module_version": "1.5.0",
            "orientation": "horizontal",
            "min": 0,
            "description_tooltip": null,
            "_model_module": "@jupyter-widgets/controls",
            "layout": "IPY_MODEL_18b68275a7de4a918c892e32aba3ef93"
          },
          "model_module_version": "1.5.0"
        },
        "8f20e4c7b4a24f7c8f7d58751001f455": {
          "model_module": "@jupyter-widgets/controls",
          "model_name": "HTMLModel",
          "state": {
            "_view_name": "HTMLView",
            "style": "IPY_MODEL_6a23773f1b094c74875bef7c17e09deb",
            "_dom_classes": [],
            "description": "",
            "_model_name": "HTMLModel",
            "placeholder": "​",
            "_view_module": "@jupyter-widgets/controls",
            "_model_module_version": "1.5.0",
            "value": " 38531/38531 [03:14&lt;00:00, 198.14it/s]",
            "_view_count": null,
            "_view_module_version": "1.5.0",
            "description_tooltip": null,
            "_model_module": "@jupyter-widgets/controls",
            "layout": "IPY_MODEL_728454db94cb4fbf8f44001be0919ea1"
          },
          "model_module_version": "1.5.0"
        },
        "f5ce2adf1fa64e1fb8aa0e333f687ecf": {
          "model_module": "@jupyter-widgets/controls",
          "model_name": "ProgressStyleModel",
          "state": {
            "_view_name": "StyleView",
            "_model_name": "ProgressStyleModel",
            "description_width": "initial",
            "_view_module": "@jupyter-widgets/base",
            "_model_module_version": "1.5.0",
            "_view_count": null,
            "_view_module_version": "1.2.0",
            "bar_color": null,
            "_model_module": "@jupyter-widgets/controls"
          },
          "model_module_version": "1.5.0"
        },
        "18b68275a7de4a918c892e32aba3ef93": {
          "model_module": "@jupyter-widgets/base",
          "model_name": "LayoutModel",
          "state": {
            "_view_name": "LayoutView",
            "grid_template_rows": null,
            "right": null,
            "justify_content": null,
            "_view_module": "@jupyter-widgets/base",
            "overflow": null,
            "_model_module_version": "1.2.0",
            "_view_count": null,
            "flex_flow": null,
            "width": null,
            "min_width": null,
            "border": null,
            "align_items": null,
            "bottom": null,
            "_model_module": "@jupyter-widgets/base",
            "top": null,
            "grid_column": null,
            "overflow_y": null,
            "overflow_x": null,
            "grid_auto_flow": null,
            "grid_area": null,
            "grid_template_columns": null,
            "flex": null,
            "_model_name": "LayoutModel",
            "justify_items": null,
            "grid_row": null,
            "max_height": null,
            "align_content": null,
            "visibility": null,
            "align_self": null,
            "height": null,
            "min_height": null,
            "padding": null,
            "grid_auto_rows": null,
            "grid_gap": null,
            "max_width": null,
            "order": null,
            "_view_module_version": "1.2.0",
            "grid_template_areas": null,
            "object_position": null,
            "object_fit": null,
            "grid_auto_columns": null,
            "margin": null,
            "display": null,
            "left": null
          },
          "model_module_version": "1.2.0"
        },
        "6a23773f1b094c74875bef7c17e09deb": {
          "model_module": "@jupyter-widgets/controls",
          "model_name": "DescriptionStyleModel",
          "state": {
            "_view_name": "StyleView",
            "_model_name": "DescriptionStyleModel",
            "description_width": "",
            "_view_module": "@jupyter-widgets/base",
            "_model_module_version": "1.5.0",
            "_view_count": null,
            "_view_module_version": "1.2.0",
            "_model_module": "@jupyter-widgets/controls"
          },
          "model_module_version": "1.5.0"
        },
        "728454db94cb4fbf8f44001be0919ea1": {
          "model_module": "@jupyter-widgets/base",
          "model_name": "LayoutModel",
          "state": {
            "_view_name": "LayoutView",
            "grid_template_rows": null,
            "right": null,
            "justify_content": null,
            "_view_module": "@jupyter-widgets/base",
            "overflow": null,
            "_model_module_version": "1.2.0",
            "_view_count": null,
            "flex_flow": null,
            "width": null,
            "min_width": null,
            "border": null,
            "align_items": null,
            "bottom": null,
            "_model_module": "@jupyter-widgets/base",
            "top": null,
            "grid_column": null,
            "overflow_y": null,
            "overflow_x": null,
            "grid_auto_flow": null,
            "grid_area": null,
            "grid_template_columns": null,
            "flex": null,
            "_model_name": "LayoutModel",
            "justify_items": null,
            "grid_row": null,
            "max_height": null,
            "align_content": null,
            "visibility": null,
            "align_self": null,
            "height": null,
            "min_height": null,
            "padding": null,
            "grid_auto_rows": null,
            "grid_gap": null,
            "max_width": null,
            "order": null,
            "_view_module_version": "1.2.0",
            "grid_template_areas": null,
            "object_position": null,
            "object_fit": null,
            "grid_auto_columns": null,
            "margin": null,
            "display": null,
            "left": null
          },
          "model_module_version": "1.2.0"
        },
        "2fa72d4487cd473d89ffb931002b5268": {
          "model_module": "@jupyter-widgets/controls",
          "model_name": "HBoxModel",
          "state": {
            "_view_name": "HBoxView",
            "_dom_classes": [],
            "_model_name": "HBoxModel",
            "_view_module": "@jupyter-widgets/controls",
            "_model_module_version": "1.5.0",
            "_view_count": null,
            "_view_module_version": "1.5.0",
            "box_style": "",
            "layout": "IPY_MODEL_fcf8ae6bb58444afb420374344042e66",
            "_model_module": "@jupyter-widgets/controls",
            "children": [
              "IPY_MODEL_6d038df885c34bd6b9167c3eccca66e1",
              "IPY_MODEL_6dc934770a0a4c038028156896cea6b5"
            ]
          },
          "model_module_version": "1.5.0"
        },
        "fcf8ae6bb58444afb420374344042e66": {
          "model_module": "@jupyter-widgets/base",
          "model_name": "LayoutModel",
          "state": {
            "_view_name": "LayoutView",
            "grid_template_rows": null,
            "right": null,
            "justify_content": null,
            "_view_module": "@jupyter-widgets/base",
            "overflow": null,
            "_model_module_version": "1.2.0",
            "_view_count": null,
            "flex_flow": null,
            "width": null,
            "min_width": null,
            "border": null,
            "align_items": null,
            "bottom": null,
            "_model_module": "@jupyter-widgets/base",
            "top": null,
            "grid_column": null,
            "overflow_y": null,
            "overflow_x": null,
            "grid_auto_flow": null,
            "grid_area": null,
            "grid_template_columns": null,
            "flex": null,
            "_model_name": "LayoutModel",
            "justify_items": null,
            "grid_row": null,
            "max_height": null,
            "align_content": null,
            "visibility": null,
            "align_self": null,
            "height": null,
            "min_height": null,
            "padding": null,
            "grid_auto_rows": null,
            "grid_gap": null,
            "max_width": null,
            "order": null,
            "_view_module_version": "1.2.0",
            "grid_template_areas": null,
            "object_position": null,
            "object_fit": null,
            "grid_auto_columns": null,
            "margin": null,
            "display": null,
            "left": null
          },
          "model_module_version": "1.2.0"
        },
        "6d038df885c34bd6b9167c3eccca66e1": {
          "model_module": "@jupyter-widgets/controls",
          "model_name": "FloatProgressModel",
          "state": {
            "_view_name": "ProgressView",
            "style": "IPY_MODEL_0a616bc762f64b4ca06ded44a87edecb",
            "_dom_classes": [],
            "description": "100%",
            "_model_name": "FloatProgressModel",
            "bar_style": "success",
            "max": 38531,
            "_view_module": "@jupyter-widgets/controls",
            "_model_module_version": "1.5.0",
            "value": 38531,
            "_view_count": null,
            "_view_module_version": "1.5.0",
            "orientation": "horizontal",
            "min": 0,
            "description_tooltip": null,
            "_model_module": "@jupyter-widgets/controls",
            "layout": "IPY_MODEL_1f6f03be49404970aff61d54ea6a31ec"
          },
          "model_module_version": "1.5.0"
        },
        "6dc934770a0a4c038028156896cea6b5": {
          "model_module": "@jupyter-widgets/controls",
          "model_name": "HTMLModel",
          "state": {
            "_view_name": "HTMLView",
            "style": "IPY_MODEL_854c74e8aed242a89d751c2ade8d0c95",
            "_dom_classes": [],
            "description": "",
            "_model_name": "HTMLModel",
            "placeholder": "​",
            "_view_module": "@jupyter-widgets/controls",
            "_model_module_version": "1.5.0",
            "value": " 38531/38531 [02:55&lt;00:00, 219.19it/s]",
            "_view_count": null,
            "_view_module_version": "1.5.0",
            "description_tooltip": null,
            "_model_module": "@jupyter-widgets/controls",
            "layout": "IPY_MODEL_bd156c3ddaaa44edb102dad2d25bf004"
          },
          "model_module_version": "1.5.0"
        },
        "0a616bc762f64b4ca06ded44a87edecb": {
          "model_module": "@jupyter-widgets/controls",
          "model_name": "ProgressStyleModel",
          "state": {
            "_view_name": "StyleView",
            "_model_name": "ProgressStyleModel",
            "description_width": "initial",
            "_view_module": "@jupyter-widgets/base",
            "_model_module_version": "1.5.0",
            "_view_count": null,
            "_view_module_version": "1.2.0",
            "bar_color": null,
            "_model_module": "@jupyter-widgets/controls"
          },
          "model_module_version": "1.5.0"
        },
        "1f6f03be49404970aff61d54ea6a31ec": {
          "model_module": "@jupyter-widgets/base",
          "model_name": "LayoutModel",
          "state": {
            "_view_name": "LayoutView",
            "grid_template_rows": null,
            "right": null,
            "justify_content": null,
            "_view_module": "@jupyter-widgets/base",
            "overflow": null,
            "_model_module_version": "1.2.0",
            "_view_count": null,
            "flex_flow": null,
            "width": null,
            "min_width": null,
            "border": null,
            "align_items": null,
            "bottom": null,
            "_model_module": "@jupyter-widgets/base",
            "top": null,
            "grid_column": null,
            "overflow_y": null,
            "overflow_x": null,
            "grid_auto_flow": null,
            "grid_area": null,
            "grid_template_columns": null,
            "flex": null,
            "_model_name": "LayoutModel",
            "justify_items": null,
            "grid_row": null,
            "max_height": null,
            "align_content": null,
            "visibility": null,
            "align_self": null,
            "height": null,
            "min_height": null,
            "padding": null,
            "grid_auto_rows": null,
            "grid_gap": null,
            "max_width": null,
            "order": null,
            "_view_module_version": "1.2.0",
            "grid_template_areas": null,
            "object_position": null,
            "object_fit": null,
            "grid_auto_columns": null,
            "margin": null,
            "display": null,
            "left": null
          },
          "model_module_version": "1.2.0"
        },
        "854c74e8aed242a89d751c2ade8d0c95": {
          "model_module": "@jupyter-widgets/controls",
          "model_name": "DescriptionStyleModel",
          "state": {
            "_view_name": "StyleView",
            "_model_name": "DescriptionStyleModel",
            "description_width": "",
            "_view_module": "@jupyter-widgets/base",
            "_model_module_version": "1.5.0",
            "_view_count": null,
            "_view_module_version": "1.2.0",
            "_model_module": "@jupyter-widgets/controls"
          },
          "model_module_version": "1.5.0"
        },
        "bd156c3ddaaa44edb102dad2d25bf004": {
          "model_module": "@jupyter-widgets/base",
          "model_name": "LayoutModel",
          "state": {
            "_view_name": "LayoutView",
            "grid_template_rows": null,
            "right": null,
            "justify_content": null,
            "_view_module": "@jupyter-widgets/base",
            "overflow": null,
            "_model_module_version": "1.2.0",
            "_view_count": null,
            "flex_flow": null,
            "width": null,
            "min_width": null,
            "border": null,
            "align_items": null,
            "bottom": null,
            "_model_module": "@jupyter-widgets/base",
            "top": null,
            "grid_column": null,
            "overflow_y": null,
            "overflow_x": null,
            "grid_auto_flow": null,
            "grid_area": null,
            "grid_template_columns": null,
            "flex": null,
            "_model_name": "LayoutModel",
            "justify_items": null,
            "grid_row": null,
            "max_height": null,
            "align_content": null,
            "visibility": null,
            "align_self": null,
            "height": null,
            "min_height": null,
            "padding": null,
            "grid_auto_rows": null,
            "grid_gap": null,
            "max_width": null,
            "order": null,
            "_view_module_version": "1.2.0",
            "grid_template_areas": null,
            "object_position": null,
            "object_fit": null,
            "grid_auto_columns": null,
            "margin": null,
            "display": null,
            "left": null
          },
          "model_module_version": "1.2.0"
        },
        "a6afb81b167e4c7d80206107b9e777f3": {
          "model_module": "@jupyter-widgets/controls",
          "model_name": "HBoxModel",
          "state": {
            "_view_name": "HBoxView",
            "_dom_classes": [],
            "_model_name": "HBoxModel",
            "_view_module": "@jupyter-widgets/controls",
            "_model_module_version": "1.5.0",
            "_view_count": null,
            "_view_module_version": "1.5.0",
            "box_style": "",
            "layout": "IPY_MODEL_291452b52e0240358b74eeab57f1154e",
            "_model_module": "@jupyter-widgets/controls",
            "children": [
              "IPY_MODEL_c9b68c44fc204183b1db4e823dd78a6a",
              "IPY_MODEL_b53f2de78c8e48e5aec128c90e6fabdd"
            ]
          },
          "model_module_version": "1.5.0"
        },
        "291452b52e0240358b74eeab57f1154e": {
          "model_module": "@jupyter-widgets/base",
          "model_name": "LayoutModel",
          "state": {
            "_view_name": "LayoutView",
            "grid_template_rows": null,
            "right": null,
            "justify_content": null,
            "_view_module": "@jupyter-widgets/base",
            "overflow": null,
            "_model_module_version": "1.2.0",
            "_view_count": null,
            "flex_flow": null,
            "width": null,
            "min_width": null,
            "border": null,
            "align_items": null,
            "bottom": null,
            "_model_module": "@jupyter-widgets/base",
            "top": null,
            "grid_column": null,
            "overflow_y": null,
            "overflow_x": null,
            "grid_auto_flow": null,
            "grid_area": null,
            "grid_template_columns": null,
            "flex": null,
            "_model_name": "LayoutModel",
            "justify_items": null,
            "grid_row": null,
            "max_height": null,
            "align_content": null,
            "visibility": null,
            "align_self": null,
            "height": null,
            "min_height": null,
            "padding": null,
            "grid_auto_rows": null,
            "grid_gap": null,
            "max_width": null,
            "order": null,
            "_view_module_version": "1.2.0",
            "grid_template_areas": null,
            "object_position": null,
            "object_fit": null,
            "grid_auto_columns": null,
            "margin": null,
            "display": null,
            "left": null
          },
          "model_module_version": "1.2.0"
        },
        "c9b68c44fc204183b1db4e823dd78a6a": {
          "model_module": "@jupyter-widgets/controls",
          "model_name": "FloatProgressModel",
          "state": {
            "_view_name": "ProgressView",
            "style": "IPY_MODEL_c711f6d0b5474450968c42e44c0ded87",
            "_dom_classes": [],
            "description": "  2%",
            "_model_name": "FloatProgressModel",
            "bar_style": "danger",
            "max": 1467,
            "_view_module": "@jupyter-widgets/controls",
            "_model_module_version": "1.5.0",
            "value": 29,
            "_view_count": null,
            "_view_module_version": "1.5.0",
            "orientation": "horizontal",
            "min": 0,
            "description_tooltip": null,
            "_model_module": "@jupyter-widgets/controls",
            "layout": "IPY_MODEL_354cb171a76f43dfad8f1247ac2ac788"
          },
          "model_module_version": "1.5.0"
        },
        "b53f2de78c8e48e5aec128c90e6fabdd": {
          "model_module": "@jupyter-widgets/controls",
          "model_name": "HTMLModel",
          "state": {
            "_view_name": "HTMLView",
            "style": "IPY_MODEL_266c2fb71b944515b641e54d2f6d3a6d",
            "_dom_classes": [],
            "description": "",
            "_model_name": "HTMLModel",
            "placeholder": "​",
            "_view_module": "@jupyter-widgets/controls",
            "_model_module_version": "1.5.0",
            "value": " 29/1467 [00:04&lt;03:53,  6.17it/s]",
            "_view_count": null,
            "_view_module_version": "1.5.0",
            "description_tooltip": null,
            "_model_module": "@jupyter-widgets/controls",
            "layout": "IPY_MODEL_137bd5b68d0d46e1bde261a2299847b4"
          },
          "model_module_version": "1.5.0"
        },
        "c711f6d0b5474450968c42e44c0ded87": {
          "model_module": "@jupyter-widgets/controls",
          "model_name": "ProgressStyleModel",
          "state": {
            "_view_name": "StyleView",
            "_model_name": "ProgressStyleModel",
            "description_width": "initial",
            "_view_module": "@jupyter-widgets/base",
            "_model_module_version": "1.5.0",
            "_view_count": null,
            "_view_module_version": "1.2.0",
            "bar_color": null,
            "_model_module": "@jupyter-widgets/controls"
          },
          "model_module_version": "1.5.0"
        },
        "354cb171a76f43dfad8f1247ac2ac788": {
          "model_module": "@jupyter-widgets/base",
          "model_name": "LayoutModel",
          "state": {
            "_view_name": "LayoutView",
            "grid_template_rows": null,
            "right": null,
            "justify_content": null,
            "_view_module": "@jupyter-widgets/base",
            "overflow": null,
            "_model_module_version": "1.2.0",
            "_view_count": null,
            "flex_flow": null,
            "width": null,
            "min_width": null,
            "border": null,
            "align_items": null,
            "bottom": null,
            "_model_module": "@jupyter-widgets/base",
            "top": null,
            "grid_column": null,
            "overflow_y": null,
            "overflow_x": null,
            "grid_auto_flow": null,
            "grid_area": null,
            "grid_template_columns": null,
            "flex": null,
            "_model_name": "LayoutModel",
            "justify_items": null,
            "grid_row": null,
            "max_height": null,
            "align_content": null,
            "visibility": null,
            "align_self": null,
            "height": null,
            "min_height": null,
            "padding": null,
            "grid_auto_rows": null,
            "grid_gap": null,
            "max_width": null,
            "order": null,
            "_view_module_version": "1.2.0",
            "grid_template_areas": null,
            "object_position": null,
            "object_fit": null,
            "grid_auto_columns": null,
            "margin": null,
            "display": null,
            "left": null
          },
          "model_module_version": "1.2.0"
        },
        "266c2fb71b944515b641e54d2f6d3a6d": {
          "model_module": "@jupyter-widgets/controls",
          "model_name": "DescriptionStyleModel",
          "state": {
            "_view_name": "StyleView",
            "_model_name": "DescriptionStyleModel",
            "description_width": "",
            "_view_module": "@jupyter-widgets/base",
            "_model_module_version": "1.5.0",
            "_view_count": null,
            "_view_module_version": "1.2.0",
            "_model_module": "@jupyter-widgets/controls"
          },
          "model_module_version": "1.5.0"
        },
        "137bd5b68d0d46e1bde261a2299847b4": {
          "model_module": "@jupyter-widgets/base",
          "model_name": "LayoutModel",
          "state": {
            "_view_name": "LayoutView",
            "grid_template_rows": null,
            "right": null,
            "justify_content": null,
            "_view_module": "@jupyter-widgets/base",
            "overflow": null,
            "_model_module_version": "1.2.0",
            "_view_count": null,
            "flex_flow": null,
            "width": null,
            "min_width": null,
            "border": null,
            "align_items": null,
            "bottom": null,
            "_model_module": "@jupyter-widgets/base",
            "top": null,
            "grid_column": null,
            "overflow_y": null,
            "overflow_x": null,
            "grid_auto_flow": null,
            "grid_area": null,
            "grid_template_columns": null,
            "flex": null,
            "_model_name": "LayoutModel",
            "justify_items": null,
            "grid_row": null,
            "max_height": null,
            "align_content": null,
            "visibility": null,
            "align_self": null,
            "height": null,
            "min_height": null,
            "padding": null,
            "grid_auto_rows": null,
            "grid_gap": null,
            "max_width": null,
            "order": null,
            "_view_module_version": "1.2.0",
            "grid_template_areas": null,
            "object_position": null,
            "object_fit": null,
            "grid_auto_columns": null,
            "margin": null,
            "display": null,
            "left": null
          },
          "model_module_version": "1.2.0"
        }
      }
    }
  },
  "cells": [
    {
      "cell_type": "markdown",
      "metadata": {
        "id": "1fR-g_F7x8sr"
      },
      "source": [
        "# News Relevance with Knowledge Graphs"
      ]
    },
    {
      "cell_type": "markdown",
      "metadata": {
        "id": "P_rzvWK_yV1k"
      },
      "source": [
        "## 1. Setup"
      ]
    },
    {
      "cell_type": "markdown",
      "metadata": {
        "id": "bwVRrdJhyX8o"
      },
      "source": [
        "### 1.1. Installs & Imports"
      ]
    },
    {
      "cell_type": "markdown",
      "metadata": {
        "id": "JX-MC1RxJcNb"
      },
      "source": [
        "There are a few imports we need to setup. We will use qwikidata to extract data from Wikidata and Ampligraph to make inferences on our knowledge graph. TensorFlow (between version 1.14 and 2.0) is required by Ampligraph. Then we also import the standard data wrangling libraries."
      ]
    },
    {
      "cell_type": "code",
      "metadata": {
        "id": "Na2qhrvYywA3"
      },
      "source": [
        "%%capture\n",
        "!pip install qwikidata\n",
        "!pip install \"tensorflow-gpu>=1.14.0,<2.0\" # ampligraph only works with tensorflow 1.\n",
        "!pip install ampligraph"
      ],
      "execution_count": null,
      "outputs": []
    },
    {
      "cell_type": "code",
      "metadata": {
        "id": "Mn8I7mf-zGs6",
        "colab": {
          "base_uri": "https://localhost:8080/",
          "height": 34
        },
        "outputId": "6cb5f0a2-a3ae-446d-8559-9263a2582b63"
      },
      "source": [
        "%cd /content/drive/My Drive/Business/Consulting/Auquan/Knowledge Graphs/Technical"
      ],
      "execution_count": null,
      "outputs": [
        {
          "output_type": "stream",
          "text": [
            "/content/drive/My Drive/Business/Consulting/Auquan/Knowledge Graphs/Technical\n"
          ],
          "name": "stdout"
        }
      ]
    },
    {
      "cell_type": "code",
      "metadata": {
        "id": "IIonEwxjypan"
      },
      "source": [
        "import numpy as np\n",
        "import pandas as pd\n",
        "import matplotlib.pyplot as plt\n",
        "import pickle"
      ],
      "execution_count": null,
      "outputs": []
    },
    {
      "cell_type": "markdown",
      "metadata": {
        "id": "E_UNHrhzzhta"
      },
      "source": [
        "### 1.2. Wikidata Triples Extraction"
      ]
    },
    {
      "cell_type": "markdown",
      "metadata": {
        "id": "Q4zmX-dg6iHD"
      },
      "source": [
        "Let's specify a list of companies that we might be interested in looking into. These companies have also been selected because they appear very commonly in the news dataset we have."
      ]
    },
    {
      "cell_type": "code",
      "metadata": {
        "id": "fiscfcAdzwtV"
      },
      "source": [
        "KG_companies = [\"Google\", \"Microsoft\", \"Goldman Sachs\", \"Wells Fargo\", \"Nokia\", \"Apple\", \"Sony\", \"Samsung\", \"Intel\", \"IBM\", \"Lyft\", \"Facebook\", \"NASA\", \"Amazon\", \"Boeing\", \"Exxon\", \"Tesla\",\n",
        "                \"Netflix\"]"
      ],
      "execution_count": null,
      "outputs": []
    },
    {
      "cell_type": "markdown",
      "metadata": {
        "id": "qa4vh5o96znO"
      },
      "source": [
        "We use the qwikidata https://pypi.org/project/qwikidata/ package to get the data about our desired companies from Wikidata, a free knowledge base that has a tonne of information."
      ]
    },
    {
      "cell_type": "code",
      "metadata": {
        "id": "OT8PNNslzxFK"
      },
      "source": [
        "from qwikidata.entity import WikidataItem, WikidataLexeme, WikidataProperty\n",
        "from qwikidata.linked_data_interface import get_entity_dict_from_api\n",
        "from tqdm.notebook import tqdm"
      ],
      "execution_count": null,
      "outputs": []
    },
    {
      "cell_type": "markdown",
      "metadata": {
        "id": "XtpO4JoiKCmT"
      },
      "source": [
        "To build a basic knowledge graph (KG), we need a lot of (subject, predicate, object) triples. From these triples we can construct the KG.\n",
        "\n",
        "Let's write a function that takes in the list of companies we want to consider, as well as the relationsips (predicates) these companies have with other entities. The function should return the (subject, predicate, object) triples, where the subject is the company. For example, we would like:\n",
        "\n",
        "$$ (Tesla, CEO, Elon Musk) $$"
      ]
    },
    {
      "cell_type": "code",
      "metadata": {
        "id": "PAafGOAZzy7g"
      },
      "source": [
        "def get_triples_from_wikidata(companies_list, predicate_list):\n",
        "    \"\"\"\n",
        "    Inputs: companies_list - a list of companies, identified by their Q id.\n",
        "            predicate_list - a list of predicates, identified by their P id.\n",
        "    Outputs: (company, predicate, object) triples.\n",
        "            E.g. (Tesla, CEO, Elon Musk)\n",
        "    \"\"\"\n",
        "    subjects, predicates, objects = [], [], []\n",
        "    for Q_id in tqdm(companies_list):\n",
        "        Q_company = WikidataItem(get_entity_dict_from_api(Q_id))\n",
        "        for predicate in predicate_list:\n",
        "            for claim in Q_company.get_claim_group(predicate):\n",
        "                object_id = claim.mainsnak.datavalue.value[\"id\"]\n",
        "                object_entity = WikidataItem(get_entity_dict_from_api(object_id))\n",
        "\n",
        "                subjects.append(Q_company.get_label())\n",
        "\n",
        "                predicate_property = WikidataProperty(get_entity_dict_from_api(predicate))\n",
        "                predicates.append(predicate_property.get_label()) \n",
        "\n",
        "                objects.append(object_entity.get_label())\n",
        "\n",
        "    return subjects, predicates, objects               "
      ],
      "execution_count": null,
      "outputs": []
    },
    {
      "cell_type": "code",
      "metadata": {
        "id": "NUC6kjcdz0ez"
      },
      "source": [
        "companies_list = [\"Q95\", \"Q2283\", \"Q193326\", \"Q744149\", \"Q1418\", \"Q312\", \"Q41187\", \"Q20716\", \"Q248\", \"Q37156\", \"Q17077936\", \"Q355\", \"Q23548\", \"Q3884\", \"Q66\", \"Q4781944\", \"Q478214\",\n",
        "                  \"Q907311\"]"
      ],
      "execution_count": null,
      "outputs": []
    },
    {
      "cell_type": "markdown",
      "metadata": {
        "id": "_wZbap6m8BVW"
      },
      "source": [
        "The predicate list holds a list of relationships we would like to capture in our knowledge graph. P31 for example is, \"instance of\", which could be used in  a triple: (Google, instance of, technology company)."
      ]
    },
    {
      "cell_type": "code",
      "metadata": {
        "id": "TsksELi9z2Zz"
      },
      "source": [
        "predicate_list = [\"P31\", \"P17\", \"P361\", \"P452\", \"P112\", \"P169\", \"P463\", \"P355\", \"P1830\", \"P1056\"]"
      ],
      "execution_count": null,
      "outputs": []
    },
    {
      "cell_type": "code",
      "metadata": {
        "id": "VlY7YUoyz3mr",
        "colab": {
          "base_uri": "https://localhost:8080/",
          "height": 66,
          "referenced_widgets": [
            "5ce39817e669471997f37ff2676a7694",
            "cbfd205443ec45c0baa180c916c2c407",
            "1380a3274b6a433c9107bd0d517e5cd5",
            "ad7f2f91de7d4517b750ea384bef299f",
            "dc3203f168464e79b92ab6c4a9a463da",
            "cf278952e33d4d0682cd6ffc69adffe0",
            "daf209e8cf444164b108972b4fa849c7",
            "bb1ffaa9a0bf46e48e1f975b3d275124"
          ]
        },
        "outputId": "94824089-62c3-46f9-fdfe-45706c1c7087"
      },
      "source": [
        "subjects, predicates, objects = get_triples_from_wikidata(companies_list, predicate_list)\n",
        "wiki_triples_df = pd.DataFrame({\"subject\": subjects, \"predicate\": predicates, \"object\": objects})"
      ],
      "execution_count": null,
      "outputs": [
        {
          "output_type": "display_data",
          "data": {
            "application/vnd.jupyter.widget-view+json": {
              "model_id": "5ce39817e669471997f37ff2676a7694",
              "version_minor": 0,
              "version_major": 2
            },
            "text/plain": [
              "HBox(children=(FloatProgress(value=0.0, max=18.0), HTML(value='')))"
            ]
          },
          "metadata": {
            "tags": []
          }
        },
        {
          "output_type": "stream",
          "text": [
            "\n"
          ],
          "name": "stdout"
        }
      ]
    },
    {
      "cell_type": "markdown",
      "metadata": {
        "id": "ORVGD8Iq9Car"
      },
      "source": [
        "The data from Wikidata is very clean as shown in the table below."
      ]
    },
    {
      "cell_type": "code",
      "metadata": {
        "id": "yL8a5qXBz7aj",
        "colab": {
          "base_uri": "https://localhost:8080/",
          "height": 204
        },
        "outputId": "71641cf3-560c-409b-807b-3c0803c3d21c"
      },
      "source": [
        "wiki_triples_df.sample(5)"
      ],
      "execution_count": null,
      "outputs": [
        {
          "output_type": "execute_result",
          "data": {
            "text/html": [
              "<div>\n",
              "<style scoped>\n",
              "    .dataframe tbody tr th:only-of-type {\n",
              "        vertical-align: middle;\n",
              "    }\n",
              "\n",
              "    .dataframe tbody tr th {\n",
              "        vertical-align: top;\n",
              "    }\n",
              "\n",
              "    .dataframe thead th {\n",
              "        text-align: right;\n",
              "    }\n",
              "</style>\n",
              "<table border=\"1\" class=\"dataframe\">\n",
              "  <thead>\n",
              "    <tr style=\"text-align: right;\">\n",
              "      <th></th>\n",
              "      <th>subject</th>\n",
              "      <th>predicate</th>\n",
              "      <th>object</th>\n",
              "    </tr>\n",
              "  </thead>\n",
              "  <tbody>\n",
              "    <tr>\n",
              "      <th>83</th>\n",
              "      <td>Google</td>\n",
              "      <td>owner of</td>\n",
              "      <td>Google Express</td>\n",
              "    </tr>\n",
              "    <tr>\n",
              "      <th>191</th>\n",
              "      <td>Google</td>\n",
              "      <td>owner of</td>\n",
              "      <td>Google Moderator</td>\n",
              "    </tr>\n",
              "    <tr>\n",
              "      <th>99</th>\n",
              "      <td>Google</td>\n",
              "      <td>owner of</td>\n",
              "      <td>Google Nearline</td>\n",
              "    </tr>\n",
              "    <tr>\n",
              "      <th>958</th>\n",
              "      <td>Amazon</td>\n",
              "      <td>subsidiary</td>\n",
              "      <td>Whole Foods Market</td>\n",
              "    </tr>\n",
              "    <tr>\n",
              "      <th>590</th>\n",
              "      <td>Sony</td>\n",
              "      <td>subsidiary</td>\n",
              "      <td>Sony (Taiwan)</td>\n",
              "    </tr>\n",
              "  </tbody>\n",
              "</table>\n",
              "</div>"
            ],
            "text/plain": [
              "    subject   predicate              object\n",
              "83   Google    owner of      Google Express\n",
              "191  Google    owner of    Google Moderator\n",
              "99   Google    owner of     Google Nearline\n",
              "958  Amazon  subsidiary  Whole Foods Market\n",
              "590    Sony  subsidiary       Sony (Taiwan)"
            ]
          },
          "metadata": {
            "tags": []
          },
          "execution_count": 254
        }
      ]
    },
    {
      "cell_type": "markdown",
      "metadata": {
        "id": "uTsTl_Vl9NFS"
      },
      "source": [
        "We also store the triples in a list, called `wiki_triples`, which will be useful later."
      ]
    },
    {
      "cell_type": "code",
      "metadata": {
        "id": "DpYIh7I2z9gv"
      },
      "source": [
        "wiki_triples = []\n",
        "for index, row in wiki_triples_df.iterrows():\n",
        "    wiki_triples.append((row.subject, row.predicate, row.object))"
      ],
      "execution_count": null,
      "outputs": []
    },
    {
      "cell_type": "code",
      "metadata": {
        "id": "_n-4QosT-CZ2"
      },
      "source": [
        "import networkx as nx"
      ],
      "execution_count": null,
      "outputs": []
    },
    {
      "cell_type": "markdown",
      "metadata": {
        "id": "tom9T5EdMxJk"
      },
      "source": [
        "We can use the NetworkX package to make a basic visualisation of a portion of our KG. https://networkx.github.io/\n",
        "\n",
        "Below, we can see the relationships Tesla has."
      ]
    },
    {
      "cell_type": "code",
      "metadata": {
        "id": "8iN1gT71_9VX",
        "colab": {
          "base_uri": "https://localhost:8080/",
          "height": 895
        },
        "outputId": "474e179e-4c33-49a1-a51e-03786df0344e"
      },
      "source": [
        "graph = nx.from_pandas_edgelist(wiki_triples_df[wiki_triples_df.subject == \"Tesla, Inc.\"], \"subject\", \"object\", edge_attr=True, create_using=nx.MultiDiGraph())\n",
        "plt.figure(figsize=(12,12))\n",
        "pos = nx.spring_layout(graph)\n",
        "nx.draw(graph, with_labels=True, node_color='skyblue', edge_cmap=plt.cm.Blues, pos = pos)\n",
        "nx.draw_networkx_edge_labels(graph, pos=pos)\n",
        "plt.show()"
      ],
      "execution_count": null,
      "outputs": [
        {
          "output_type": "display_data",
          "data": {
            "image/png": "[encoded data removed]",
            "text/plain": [
              "<Figure size 864x864 with 1 Axes>"
            ]
          },
          "metadata": {
            "tags": []
          }
        }
      ]
    },
    {
      "cell_type": "markdown",
      "metadata": {
        "id": "JQ6q4fdZ0Bbz"
      },
      "source": [
        "### 1.3. News Articles Triples Extraction"
      ]
    },
    {
      "cell_type": "markdown",
      "metadata": {
        "id": "LheQDMez9W5S"
      },
      "source": [
        "Now that we have the data from Wikidata extract, we can enrich using our news articles. Let's import the articles and store everything in a Pandas dataframe. We can then extract the information that might be useful to us."
      ]
    },
    {
      "cell_type": "code",
      "metadata": {
        "id": "naPpQSTh0IQE"
      },
      "source": [
        "import json\n",
        "import re"
      ],
      "execution_count": null,
      "outputs": []
    },
    {
      "cell_type": "code",
      "metadata": {
        "id": "7bOt8Uz00U6p"
      },
      "source": [
        "DATAPATH = \"/content/drive/My Drive/Machine Learning/Competition/Auquan/Text Prediction Challenge/data.json\""
      ],
      "execution_count": null,
      "outputs": []
    },
    {
      "cell_type": "markdown",
      "metadata": {
        "id": "lEB4DfvzOFpX"
      },
      "source": [
        "We want to extract the titles and content from the articles."
      ]
    },
    {
      "cell_type": "code",
      "metadata": {
        "id": "AmteNveR0WaW"
      },
      "source": [
        "content, title = [], []\n",
        "\n",
        "with open(DATAPATH) as read_file:\n",
        "    data = json.load(read_file)\n",
        "\n",
        "for index in range(len(data)):\n",
        "  for j_index in range(len(data[str(index)][\"data\"])):\n",
        "    line = data[str(index)][\"data\"][j_index][\"content\"]\n",
        "    try:\n",
        "      line = line.replace(\"[\", \"\")\n",
        "      line = line.replace(\"[\", \"\")\n",
        "    except:\n",
        "      line = str(line)\n",
        "    content.append(line)\n",
        "    title.append(data[str(index)][\"data\"][j_index][\"title\"])"
      ],
      "execution_count": null,
      "outputs": []
    },
    {
      "cell_type": "code",
      "metadata": {
        "id": "W7-cSRYz0iad"
      },
      "source": [
        "news_df = pd.DataFrame({\"content\": content, \"title\": title})"
      ],
      "execution_count": null,
      "outputs": []
    },
    {
      "cell_type": "code",
      "metadata": {
        "id": "zdeHp_GA0ixi",
        "colab": {
          "base_uri": "https://localhost:8080/",
          "height": 34
        },
        "outputId": "9d6c69ab-94c8-447c-c7dd-2d89a0c2ac29"
      },
      "source": [
        "print(\"There are\", len(news_df), \"different articles\")"
      ],
      "execution_count": null,
      "outputs": [
        {
          "output_type": "stream",
          "text": [
            "There are 38531 different articles\n"
          ],
          "name": "stdout"
        }
      ]
    },
    {
      "cell_type": "code",
      "metadata": {
        "id": "EoMyxCSiOhT7",
        "colab": {
          "base_uri": "https://localhost:8080/",
          "height": 204
        },
        "outputId": "e9b5958b-31ea-4589-b48e-f6cce687fc75"
      },
      "source": [
        "news_df.head()"
      ],
      "execution_count": null,
      "outputs": [
        {
          "output_type": "execute_result",
          "data": {
            "text/html": [
              "<div>\n",
              "<style scoped>\n",
              "    .dataframe tbody tr th:only-of-type {\n",
              "        vertical-align: middle;\n",
              "    }\n",
              "\n",
              "    .dataframe tbody tr th {\n",
              "        vertical-align: top;\n",
              "    }\n",
              "\n",
              "    .dataframe thead th {\n",
              "        text-align: right;\n",
              "    }\n",
              "</style>\n",
              "<table border=\"1\" class=\"dataframe\">\n",
              "  <thead>\n",
              "    <tr style=\"text-align: right;\">\n",
              "      <th></th>\n",
              "      <th>content</th>\n",
              "      <th>title</th>\n",
              "    </tr>\n",
              "  </thead>\n",
              "  <tbody>\n",
              "    <tr>\n",
              "      <th>0</th>\n",
              "      <td>If you've ever watched the television show Dow...</td>\n",
              "      <td>Dining After 'Downton Abbey': Why British Food...</td>\n",
              "    </tr>\n",
              "    <tr>\n",
              "      <th>1</th>\n",
              "      <td>No, this isn't a make-believe place. It's real...</td>\n",
              "      <td>Six-Legged Giant Finds Secret Hideaway, Hides ...</td>\n",
              "    </tr>\n",
              "    <tr>\n",
              "      <th>2</th>\n",
              "      <td>The system was part of a 98.6 million euro ($1...</td>\n",
              "      <td>Special Report: Chinese firm helps Iran spy on...</td>\n",
              "    </tr>\n",
              "    <tr>\n",
              "      <th>3</th>\n",
              "      <td>The wall of silence in Indonesia surrounding o...</td>\n",
              "      <td>Exposing Indonesia's Cold War Communist Purge</td>\n",
              "    </tr>\n",
              "    <tr>\n",
              "      <th>4</th>\n",
              "      <td>\"Prom,\" the 2012 book from legendary documenta...</td>\n",
              "      <td>Mary Ellen Mark's portraits from high school p...</td>\n",
              "    </tr>\n",
              "  </tbody>\n",
              "</table>\n",
              "</div>"
            ],
            "text/plain": [
              "                                             content                                              title\n",
              "0  If you've ever watched the television show Dow...  Dining After 'Downton Abbey': Why British Food...\n",
              "1  No, this isn't a make-believe place. It's real...  Six-Legged Giant Finds Secret Hideaway, Hides ...\n",
              "2  The system was part of a 98.6 million euro ($1...  Special Report: Chinese firm helps Iran spy on...\n",
              "3  The wall of silence in Indonesia surrounding o...      Exposing Indonesia's Cold War Communist Purge\n",
              "4  \"Prom,\" the 2012 book from legendary documenta...  Mary Ellen Mark's portraits from high school p..."
            ]
          },
          "metadata": {
            "tags": []
          },
          "execution_count": 30
        }
      ]
    },
    {
      "cell_type": "markdown",
      "metadata": {
        "id": "wgvn0B-EOkSV"
      },
      "source": [
        "Now that we have the dataframe containing over 38,000 articles, we can extract the content and titles of the articles that mention our companies specified earlier."
      ]
    },
    {
      "cell_type": "code",
      "metadata": {
        "id": "37fTs6250kAT"
      },
      "source": [
        "def relevant_titles(dataframe, company_list):\n",
        "    \"\"\"\n",
        "    Extracts all of the articles that have a headline containing any of the companies we are looking into.\n",
        "    \"\"\"\n",
        "    relevant_title_bools = []\n",
        "    for index, row in tqdm(dataframe.iterrows(), total=len(dataframe)):\n",
        "        article = row.title\n",
        "        present = 0\n",
        "        for company in company_list:\n",
        "            try:\n",
        "                if company.lower() in article.lower():\n",
        "                    present += 1\n",
        "            except:\n",
        "                present += 0\n",
        "        if present > 0:\n",
        "            relevant_title_bools.append(True)\n",
        "        else:\n",
        "            relevant_title_bools.append(False)\n",
        "    return dataframe[relevant_title_bools]"
      ],
      "execution_count": null,
      "outputs": []
    },
    {
      "cell_type": "code",
      "metadata": {
        "id": "HKyHSrfFHk45"
      },
      "source": [
        "def relevant_articles(dataframe, company_list):\n",
        "    \"\"\"\n",
        "    Extracts all of the articles that mention any of the companies we are looking into.\n",
        "    \"\"\"\n",
        "    article_present_bools = []\n",
        "    for index, row in tqdm(dataframe.iterrows(), total=len(dataframe)):\n",
        "        article = row.content\n",
        "        present = 0\n",
        "        for company in company_list:\n",
        "            if company.lower() in article.lower():\n",
        "                present += 1\n",
        "        if present > 0:\n",
        "            article_present_bools.append(True)\n",
        "        else:\n",
        "            article_present_bools.append(False)\n",
        "    relevant_content_df = dataframe[article_present_bools]\n",
        "    return relevant_content_df"
      ],
      "execution_count": null,
      "outputs": []
    },
    {
      "cell_type": "code",
      "metadata": {
        "id": "3RgRj-EvHnVt",
        "colab": {
          "base_uri": "https://localhost:8080/",
          "height": 66,
          "referenced_widgets": [
            "1297e57c01f64fcbbaaee71aecf2b6a1",
            "2f86b65ac28241b09628f96a0b990e2e",
            "f42d255c6dcc4110a130e58d8c6a2289",
            "8f20e4c7b4a24f7c8f7d58751001f455",
            "f5ce2adf1fa64e1fb8aa0e333f687ecf",
            "18b68275a7de4a918c892e32aba3ef93",
            "6a23773f1b094c74875bef7c17e09deb",
            "728454db94cb4fbf8f44001be0919ea1"
          ]
        },
        "outputId": "54447dd6-e9a8-46b4-89c1-8cd7c982338c"
      },
      "source": [
        "relevant_content_df = relevant_articles(news_df, KG_companies)"
      ],
      "execution_count": null,
      "outputs": [
        {
          "output_type": "display_data",
          "data": {
            "application/vnd.jupyter.widget-view+json": {
              "model_id": "1297e57c01f64fcbbaaee71aecf2b6a1",
              "version_minor": 0,
              "version_major": 2
            },
            "text/plain": [
              "HBox(children=(FloatProgress(value=0.0, max=38531.0), HTML(value='')))"
            ]
          },
          "metadata": {
            "tags": []
          }
        },
        {
          "output_type": "stream",
          "text": [
            "\n"
          ],
          "name": "stdout"
        }
      ]
    },
    {
      "cell_type": "code",
      "metadata": {
        "id": "uOQBIDPE0xku",
        "colab": {
          "base_uri": "https://localhost:8080/",
          "height": 66,
          "referenced_widgets": [
            "2fa72d4487cd473d89ffb931002b5268",
            "fcf8ae6bb58444afb420374344042e66",
            "6d038df885c34bd6b9167c3eccca66e1",
            "6dc934770a0a4c038028156896cea6b5",
            "0a616bc762f64b4ca06ded44a87edecb",
            "1f6f03be49404970aff61d54ea6a31ec",
            "854c74e8aed242a89d751c2ade8d0c95",
            "bd156c3ddaaa44edb102dad2d25bf004"
          ]
        },
        "outputId": "b6bfd4c1-f998-4ee1-ba91-a787d86b3709"
      },
      "source": [
        "relevant_news_df = relevant_titles(news_df, KG_companies)"
      ],
      "execution_count": null,
      "outputs": [
        {
          "output_type": "display_data",
          "data": {
            "application/vnd.jupyter.widget-view+json": {
              "model_id": "2fa72d4487cd473d89ffb931002b5268",
              "version_minor": 0,
              "version_major": 2
            },
            "text/plain": [
              "HBox(children=(FloatProgress(value=0.0, max=38531.0), HTML(value='')))"
            ]
          },
          "metadata": {
            "tags": []
          }
        },
        {
          "output_type": "stream",
          "text": [
            "\n"
          ],
          "name": "stdout"
        }
      ]
    },
    {
      "cell_type": "markdown",
      "metadata": {
        "id": "h6-KBqyAA1-n"
      },
      "source": [
        "Randomly take out 10 articles which we can analyse with our knowledge graph later."
      ]
    },
    {
      "cell_type": "code",
      "metadata": {
        "id": "LDUlhrvlIxdi"
      },
      "source": [
        "relevant_news_df = relevant_news_df.sample(frac=1, replace=False) #first shuffle the data\n",
        "\n",
        "test_news_df = relevant_news_df[:10]\n",
        "relevant_news_df = relevant_news_df[10:]"
      ],
      "execution_count": null,
      "outputs": []
    },
    {
      "cell_type": "markdown",
      "metadata": {
        "id": "Lu14_9lVBBV9"
      },
      "source": [
        "To extract (subject, predicate, object) triples from our news articles, we use an excellent tool: https://github.com/NSchrading/intro-spacy-nlp/blob/master/subject_object_extraction.py . Place the python file in your working directory and then import findSVOs from it.\n",
        "\n",
        "This is not the perfect solution to extracting these triples, and there are other solutions, but for a basic KG it is sufficient."
      ]
    },
    {
      "cell_type": "code",
      "metadata": {
        "id": "BJVA1E_2cbhZ",
        "colab": {
          "base_uri": "https://localhost:8080/",
          "height": 34
        },
        "outputId": "8447c4f0-aa54-429e-84ee-2e8bdbe9fe57"
      },
      "source": [
        "%cd \"/content\""
      ],
      "execution_count": null,
      "outputs": [
        {
          "output_type": "stream",
          "text": [
            "/content\n"
          ],
          "name": "stdout"
        }
      ]
    },
    {
      "cell_type": "code",
      "metadata": {
        "id": "Ng6Dv0n6YiYg"
      },
      "source": [
        "from subject_object_extraction import findSVOs"
      ],
      "execution_count": null,
      "outputs": []
    },
    {
      "cell_type": "code",
      "metadata": {
        "id": "a3ACAl54Vntn"
      },
      "source": [
        " import spacy\n",
        " nlp = spacy.load(\"en_core_web_sm\")"
      ],
      "execution_count": null,
      "outputs": []
    },
    {
      "cell_type": "code",
      "metadata": {
        "id": "PDipLrmnWAGP"
      },
      "source": [
        "def get_spacy_triples_from_news(dataframe, title_or_content=\"title\"):\n",
        "    subjects, predicates, objects = [], [], []\n",
        "    for index, row in tqdm(dataframe.iterrows(), total=len(dataframe)):\n",
        "        text = row[title_or_content]\n",
        "        tokens = nlp(text)\n",
        "        svos = findSVOs(tokens)\n",
        "        if len(svos) > 0:\n",
        "            for triple in svos:\n",
        "                subjects.append(triple[0])\n",
        "                predicates.append(triple[1])\n",
        "                objects.append(triple[2])\n",
        "    return subjects, predicates, objects"
      ],
      "execution_count": null,
      "outputs": []
    },
    {
      "cell_type": "code",
      "metadata": {
        "id": "N5t9kpwtWJ0j",
        "colab": {
          "base_uri": "https://localhost:8080/",
          "height": 525,
          "referenced_widgets": [
            "a6afb81b167e4c7d80206107b9e777f3",
            "291452b52e0240358b74eeab57f1154e",
            "c9b68c44fc204183b1db4e823dd78a6a",
            "b53f2de78c8e48e5aec128c90e6fabdd",
            "c711f6d0b5474450968c42e44c0ded87",
            "354cb171a76f43dfad8f1247ac2ac788",
            "266c2fb71b944515b641e54d2f6d3a6d",
            "137bd5b68d0d46e1bde261a2299847b4"
          ]
        },
        "outputId": "89c751d6-ab18-4cd1-b3ff-83fc062fff7f"
      },
      "source": [
        "subjects, predicates, objects = get_spacy_triples_from_news(relevant_news_df, \"content\")"
      ],
      "execution_count": null,
      "outputs": [
        {
          "output_type": "display_data",
          "data": {
            "application/vnd.jupyter.widget-view+json": {
              "model_id": "a6afb81b167e4c7d80206107b9e777f3",
              "version_minor": 0,
              "version_major": 2
            },
            "text/plain": [
              "HBox(children=(FloatProgress(value=0.0, max=1467.0), HTML(value='')))"
            ]
          },
          "metadata": {
            "tags": []
          }
        },
        {
          "output_type": "stream",
          "text": [
            "\n"
          ],
          "name": "stdout"
        },
        {
          "output_type": "error",
          "ename": "KeyboardInterrupt",
          "evalue": "ignored",
          "traceback": [
            "\u001b[0;31m---------------------------------------------------------------------------\u001b[0m",
            "\u001b[0;31mKeyboardInterrupt\u001b[0m                         Traceback (most recent call last)",
            "\u001b[0;32m<ipython-input-202-65e7ecb8b151>\u001b[0m in \u001b[0;36m<module>\u001b[0;34m()\u001b[0m\n\u001b[0;32m----> 1\u001b[0;31m \u001b[0msubjects\u001b[0m\u001b[0;34m,\u001b[0m \u001b[0mpredicates\u001b[0m\u001b[0;34m,\u001b[0m \u001b[0mobjects\u001b[0m \u001b[0;34m=\u001b[0m \u001b[0mget_spacy_triples_from_news\u001b[0m\u001b[0;34m(\u001b[0m\u001b[0mrelevant_news_df\u001b[0m\u001b[0;34m,\u001b[0m \u001b[0;34m\"content\"\u001b[0m\u001b[0;34m)\u001b[0m\u001b[0;34m\u001b[0m\u001b[0;34m\u001b[0m\u001b[0m\n\u001b[0m",
            "\u001b[0;32m<ipython-input-201-8ef62b34c95f>\u001b[0m in \u001b[0;36mget_spacy_triples_from_news\u001b[0;34m(dataframe, title_or_content)\u001b[0m\n\u001b[1;32m      3\u001b[0m     \u001b[0;32mfor\u001b[0m \u001b[0mindex\u001b[0m\u001b[0;34m,\u001b[0m \u001b[0mrow\u001b[0m \u001b[0;32min\u001b[0m \u001b[0mtqdm\u001b[0m\u001b[0;34m(\u001b[0m\u001b[0mdataframe\u001b[0m\u001b[0;34m.\u001b[0m\u001b[0miterrows\u001b[0m\u001b[0;34m(\u001b[0m\u001b[0;34m)\u001b[0m\u001b[0;34m,\u001b[0m \u001b[0mtotal\u001b[0m\u001b[0;34m=\u001b[0m\u001b[0mlen\u001b[0m\u001b[0;34m(\u001b[0m\u001b[0mdataframe\u001b[0m\u001b[0;34m)\u001b[0m\u001b[0;34m)\u001b[0m\u001b[0;34m:\u001b[0m\u001b[0;34m\u001b[0m\u001b[0;34m\u001b[0m\u001b[0m\n\u001b[1;32m      4\u001b[0m         \u001b[0mtext\u001b[0m \u001b[0;34m=\u001b[0m \u001b[0mrow\u001b[0m\u001b[0;34m[\u001b[0m\u001b[0mtitle_or_content\u001b[0m\u001b[0;34m]\u001b[0m\u001b[0;34m\u001b[0m\u001b[0;34m\u001b[0m\u001b[0m\n\u001b[0;32m----> 5\u001b[0;31m         \u001b[0mtokens\u001b[0m \u001b[0;34m=\u001b[0m \u001b[0mnlp\u001b[0m\u001b[0;34m(\u001b[0m\u001b[0mtext\u001b[0m\u001b[0;34m)\u001b[0m\u001b[0;34m\u001b[0m\u001b[0;34m\u001b[0m\u001b[0m\n\u001b[0m\u001b[1;32m      6\u001b[0m         \u001b[0msvos\u001b[0m \u001b[0;34m=\u001b[0m \u001b[0mfindSVOs\u001b[0m\u001b[0;34m(\u001b[0m\u001b[0mtokens\u001b[0m\u001b[0;34m)\u001b[0m\u001b[0;34m\u001b[0m\u001b[0;34m\u001b[0m\u001b[0m\n\u001b[1;32m      7\u001b[0m         \u001b[0;32mif\u001b[0m \u001b[0mlen\u001b[0m\u001b[0;34m(\u001b[0m\u001b[0msvos\u001b[0m\u001b[0;34m)\u001b[0m \u001b[0;34m>\u001b[0m \u001b[0;36m0\u001b[0m\u001b[0;34m:\u001b[0m\u001b[0;34m\u001b[0m\u001b[0;34m\u001b[0m\u001b[0m\n",
            "\u001b[0;32m/usr/local/lib/python3.6/dist-packages/spacy/language.py\u001b[0m in \u001b[0;36m__call__\u001b[0;34m(self, text, disable, component_cfg)\u001b[0m\n\u001b[1;32m    437\u001b[0m             \u001b[0;32mif\u001b[0m \u001b[0;32mnot\u001b[0m \u001b[0mhasattr\u001b[0m\u001b[0;34m(\u001b[0m\u001b[0mproc\u001b[0m\u001b[0;34m,\u001b[0m \u001b[0;34m\"__call__\"\u001b[0m\u001b[0;34m)\u001b[0m\u001b[0;34m:\u001b[0m\u001b[0;34m\u001b[0m\u001b[0;34m\u001b[0m\u001b[0m\n\u001b[1;32m    438\u001b[0m                 \u001b[0;32mraise\u001b[0m \u001b[0mValueError\u001b[0m\u001b[0;34m(\u001b[0m\u001b[0mErrors\u001b[0m\u001b[0;34m.\u001b[0m\u001b[0mE003\u001b[0m\u001b[0;34m.\u001b[0m\u001b[0mformat\u001b[0m\u001b[0;34m(\u001b[0m\u001b[0mcomponent\u001b[0m\u001b[0;34m=\u001b[0m\u001b[0mtype\u001b[0m\u001b[0;34m(\u001b[0m\u001b[0mproc\u001b[0m\u001b[0;34m)\u001b[0m\u001b[0;34m,\u001b[0m \u001b[0mname\u001b[0m\u001b[0;34m=\u001b[0m\u001b[0mname\u001b[0m\u001b[0;34m)\u001b[0m\u001b[0;34m)\u001b[0m\u001b[0;34m\u001b[0m\u001b[0;34m\u001b[0m\u001b[0m\n\u001b[0;32m--> 439\u001b[0;31m             \u001b[0mdoc\u001b[0m \u001b[0;34m=\u001b[0m \u001b[0mproc\u001b[0m\u001b[0;34m(\u001b[0m\u001b[0mdoc\u001b[0m\u001b[0;34m,\u001b[0m \u001b[0;34m**\u001b[0m\u001b[0mcomponent_cfg\u001b[0m\u001b[0;34m.\u001b[0m\u001b[0mget\u001b[0m\u001b[0;34m(\u001b[0m\u001b[0mname\u001b[0m\u001b[0;34m,\u001b[0m \u001b[0;34m{\u001b[0m\u001b[0;34m}\u001b[0m\u001b[0;34m)\u001b[0m\u001b[0;34m)\u001b[0m\u001b[0;34m\u001b[0m\u001b[0;34m\u001b[0m\u001b[0m\n\u001b[0m\u001b[1;32m    440\u001b[0m             \u001b[0;32mif\u001b[0m \u001b[0mdoc\u001b[0m \u001b[0;32mis\u001b[0m \u001b[0;32mNone\u001b[0m\u001b[0;34m:\u001b[0m\u001b[0;34m\u001b[0m\u001b[0;34m\u001b[0m\u001b[0m\n\u001b[1;32m    441\u001b[0m                 \u001b[0;32mraise\u001b[0m \u001b[0mValueError\u001b[0m\u001b[0;34m(\u001b[0m\u001b[0mErrors\u001b[0m\u001b[0;34m.\u001b[0m\u001b[0mE005\u001b[0m\u001b[0;34m.\u001b[0m\u001b[0mformat\u001b[0m\u001b[0;34m(\u001b[0m\u001b[0mname\u001b[0m\u001b[0;34m=\u001b[0m\u001b[0mname\u001b[0m\u001b[0;34m)\u001b[0m\u001b[0;34m)\u001b[0m\u001b[0;34m\u001b[0m\u001b[0;34m\u001b[0m\u001b[0m\n",
            "\u001b[0;32mnn_parser.pyx\u001b[0m in \u001b[0;36mspacy.syntax.nn_parser.Parser.__call__\u001b[0;34m()\u001b[0m\n",
            "\u001b[0;32mnn_parser.pyx\u001b[0m in \u001b[0;36mspacy.syntax.nn_parser.Parser.predict\u001b[0;34m()\u001b[0m\n",
            "\u001b[0;32mnn_parser.pyx\u001b[0m in \u001b[0;36mspacy.syntax.nn_parser.Parser.greedy_parse\u001b[0;34m()\u001b[0m\n",
            "\u001b[0;32m/usr/local/lib/python3.6/dist-packages/thinc/neural/_classes/model.py\u001b[0m in \u001b[0;36m__call__\u001b[0;34m(self, x)\u001b[0m\n\u001b[1;32m    165\u001b[0m             \u001b[0mMust\u001b[0m \u001b[0mmatch\u001b[0m \u001b[0mexpected\u001b[0m \u001b[0mshape\u001b[0m\u001b[0;34m\u001b[0m\u001b[0;34m\u001b[0m\u001b[0m\n\u001b[1;32m    166\u001b[0m         \"\"\"\n\u001b[0;32m--> 167\u001b[0;31m         \u001b[0;32mreturn\u001b[0m \u001b[0mself\u001b[0m\u001b[0;34m.\u001b[0m\u001b[0mpredict\u001b[0m\u001b[0;34m(\u001b[0m\u001b[0mx\u001b[0m\u001b[0;34m)\u001b[0m\u001b[0;34m\u001b[0m\u001b[0;34m\u001b[0m\u001b[0m\n\u001b[0m\u001b[1;32m    168\u001b[0m \u001b[0;34m\u001b[0m\u001b[0m\n\u001b[1;32m    169\u001b[0m     \u001b[0;32mdef\u001b[0m \u001b[0mpipe\u001b[0m\u001b[0;34m(\u001b[0m\u001b[0mself\u001b[0m\u001b[0;34m,\u001b[0m \u001b[0mstream\u001b[0m\u001b[0;34m,\u001b[0m \u001b[0mbatch_size\u001b[0m\u001b[0;34m=\u001b[0m\u001b[0;36m128\u001b[0m\u001b[0;34m)\u001b[0m\u001b[0;34m:\u001b[0m\u001b[0;34m\u001b[0m\u001b[0;34m\u001b[0m\u001b[0m\n",
            "\u001b[0;32m/usr/local/lib/python3.6/dist-packages/thinc/neural/_classes/model.py\u001b[0m in \u001b[0;36mpredict\u001b[0;34m(self, X)\u001b[0m\n\u001b[1;32m    129\u001b[0m \u001b[0;34m\u001b[0m\u001b[0m\n\u001b[1;32m    130\u001b[0m     \u001b[0;32mdef\u001b[0m \u001b[0mpredict\u001b[0m\u001b[0;34m(\u001b[0m\u001b[0mself\u001b[0m\u001b[0;34m,\u001b[0m \u001b[0mX\u001b[0m\u001b[0;34m)\u001b[0m\u001b[0;34m:\u001b[0m\u001b[0;34m\u001b[0m\u001b[0;34m\u001b[0m\u001b[0m\n\u001b[0;32m--> 131\u001b[0;31m         \u001b[0my\u001b[0m\u001b[0;34m,\u001b[0m \u001b[0m_\u001b[0m \u001b[0;34m=\u001b[0m \u001b[0mself\u001b[0m\u001b[0;34m.\u001b[0m\u001b[0mbegin_update\u001b[0m\u001b[0;34m(\u001b[0m\u001b[0mX\u001b[0m\u001b[0;34m,\u001b[0m \u001b[0mdrop\u001b[0m\u001b[0;34m=\u001b[0m\u001b[0;32mNone\u001b[0m\u001b[0;34m)\u001b[0m\u001b[0;34m\u001b[0m\u001b[0;34m\u001b[0m\u001b[0m\n\u001b[0m\u001b[1;32m    132\u001b[0m         \u001b[0;32mreturn\u001b[0m \u001b[0my\u001b[0m\u001b[0;34m\u001b[0m\u001b[0;34m\u001b[0m\u001b[0m\n\u001b[1;32m    133\u001b[0m \u001b[0;34m\u001b[0m\u001b[0m\n",
            "\u001b[0;32m_parser_model.pyx\u001b[0m in \u001b[0;36mspacy.syntax._parser_model.ParserModel.begin_update\u001b[0;34m()\u001b[0m\n",
            "\u001b[0;32m_parser_model.pyx\u001b[0m in \u001b[0;36mspacy.syntax._parser_model.ParserStepModel.__init__\u001b[0;34m()\u001b[0m\n",
            "\u001b[0;32m/usr/local/lib/python3.6/dist-packages/thinc/neural/_classes/feed_forward.py\u001b[0m in \u001b[0;36mbegin_update\u001b[0;34m(self, X, drop)\u001b[0m\n\u001b[1;32m     44\u001b[0m         \u001b[0mcallbacks\u001b[0m \u001b[0;34m=\u001b[0m \u001b[0;34m[\u001b[0m\u001b[0;34m]\u001b[0m\u001b[0;34m\u001b[0m\u001b[0;34m\u001b[0m\u001b[0m\n\u001b[1;32m     45\u001b[0m         \u001b[0;32mfor\u001b[0m \u001b[0mlayer\u001b[0m \u001b[0;32min\u001b[0m \u001b[0mself\u001b[0m\u001b[0;34m.\u001b[0m\u001b[0m_layers\u001b[0m\u001b[0;34m:\u001b[0m\u001b[0;34m\u001b[0m\u001b[0;34m\u001b[0m\u001b[0m\n\u001b[0;32m---> 46\u001b[0;31m             \u001b[0mX\u001b[0m\u001b[0;34m,\u001b[0m \u001b[0minc_layer_grad\u001b[0m \u001b[0;34m=\u001b[0m \u001b[0mlayer\u001b[0m\u001b[0;34m.\u001b[0m\u001b[0mbegin_update\u001b[0m\u001b[0;34m(\u001b[0m\u001b[0mX\u001b[0m\u001b[0;34m,\u001b[0m \u001b[0mdrop\u001b[0m\u001b[0;34m=\u001b[0m\u001b[0mdrop\u001b[0m\u001b[0;34m)\u001b[0m\u001b[0;34m\u001b[0m\u001b[0;34m\u001b[0m\u001b[0m\n\u001b[0m\u001b[1;32m     47\u001b[0m             \u001b[0mcallbacks\u001b[0m\u001b[0;34m.\u001b[0m\u001b[0mappend\u001b[0m\u001b[0;34m(\u001b[0m\u001b[0minc_layer_grad\u001b[0m\u001b[0;34m)\u001b[0m\u001b[0;34m\u001b[0m\u001b[0;34m\u001b[0m\u001b[0m\n\u001b[1;32m     48\u001b[0m \u001b[0;34m\u001b[0m\u001b[0m\n",
            "\u001b[0;32m/usr/local/lib/python3.6/dist-packages/thinc/api.py\u001b[0m in \u001b[0;36mbegin_update\u001b[0;34m(seqs_in, drop)\u001b[0m\n\u001b[1;32m    293\u001b[0m     \u001b[0;32mdef\u001b[0m \u001b[0mbegin_update\u001b[0m\u001b[0;34m(\u001b[0m\u001b[0mseqs_in\u001b[0m\u001b[0;34m,\u001b[0m \u001b[0mdrop\u001b[0m\u001b[0;34m=\u001b[0m\u001b[0;36m0.0\u001b[0m\u001b[0;34m)\u001b[0m\u001b[0;34m:\u001b[0m\u001b[0;34m\u001b[0m\u001b[0;34m\u001b[0m\u001b[0m\n\u001b[1;32m    294\u001b[0m         \u001b[0mlengths\u001b[0m \u001b[0;34m=\u001b[0m \u001b[0mlayer\u001b[0m\u001b[0;34m.\u001b[0m\u001b[0mops\u001b[0m\u001b[0;34m.\u001b[0m\u001b[0masarray\u001b[0m\u001b[0;34m(\u001b[0m\u001b[0;34m[\u001b[0m\u001b[0mlen\u001b[0m\u001b[0;34m(\u001b[0m\u001b[0mseq\u001b[0m\u001b[0;34m)\u001b[0m \u001b[0;32mfor\u001b[0m \u001b[0mseq\u001b[0m \u001b[0;32min\u001b[0m \u001b[0mseqs_in\u001b[0m\u001b[0;34m]\u001b[0m\u001b[0;34m)\u001b[0m\u001b[0;34m\u001b[0m\u001b[0;34m\u001b[0m\u001b[0m\n\u001b[0;32m--> 295\u001b[0;31m         \u001b[0mX\u001b[0m\u001b[0;34m,\u001b[0m \u001b[0mbp_layer\u001b[0m \u001b[0;34m=\u001b[0m \u001b[0mlayer\u001b[0m\u001b[0;34m.\u001b[0m\u001b[0mbegin_update\u001b[0m\u001b[0;34m(\u001b[0m\u001b[0mlayer\u001b[0m\u001b[0;34m.\u001b[0m\u001b[0mops\u001b[0m\u001b[0;34m.\u001b[0m\u001b[0mflatten\u001b[0m\u001b[0;34m(\u001b[0m\u001b[0mseqs_in\u001b[0m\u001b[0;34m,\u001b[0m \u001b[0mpad\u001b[0m\u001b[0;34m=\u001b[0m\u001b[0mpad\u001b[0m\u001b[0;34m)\u001b[0m\u001b[0;34m,\u001b[0m \u001b[0mdrop\u001b[0m\u001b[0;34m=\u001b[0m\u001b[0mdrop\u001b[0m\u001b[0;34m)\u001b[0m\u001b[0;34m\u001b[0m\u001b[0;34m\u001b[0m\u001b[0m\n\u001b[0m\u001b[1;32m    296\u001b[0m         \u001b[0;32mif\u001b[0m \u001b[0mbp_layer\u001b[0m \u001b[0;32mis\u001b[0m \u001b[0;32mNone\u001b[0m\u001b[0;34m:\u001b[0m\u001b[0;34m\u001b[0m\u001b[0;34m\u001b[0m\u001b[0m\n\u001b[1;32m    297\u001b[0m             \u001b[0;32mreturn\u001b[0m \u001b[0mlayer\u001b[0m\u001b[0;34m.\u001b[0m\u001b[0mops\u001b[0m\u001b[0;34m.\u001b[0m\u001b[0munflatten\u001b[0m\u001b[0;34m(\u001b[0m\u001b[0mX\u001b[0m\u001b[0;34m,\u001b[0m \u001b[0mlengths\u001b[0m\u001b[0;34m,\u001b[0m \u001b[0mpad\u001b[0m\u001b[0;34m=\u001b[0m\u001b[0mpad\u001b[0m\u001b[0;34m)\u001b[0m\u001b[0;34m,\u001b[0m \u001b[0;32mNone\u001b[0m\u001b[0;34m\u001b[0m\u001b[0;34m\u001b[0m\u001b[0m\n",
            "\u001b[0;32m/usr/local/lib/python3.6/dist-packages/thinc/neural/_classes/feed_forward.py\u001b[0m in \u001b[0;36mbegin_update\u001b[0;34m(self, X, drop)\u001b[0m\n\u001b[1;32m     44\u001b[0m         \u001b[0mcallbacks\u001b[0m \u001b[0;34m=\u001b[0m \u001b[0;34m[\u001b[0m\u001b[0;34m]\u001b[0m\u001b[0;34m\u001b[0m\u001b[0;34m\u001b[0m\u001b[0m\n\u001b[1;32m     45\u001b[0m         \u001b[0;32mfor\u001b[0m \u001b[0mlayer\u001b[0m \u001b[0;32min\u001b[0m \u001b[0mself\u001b[0m\u001b[0;34m.\u001b[0m\u001b[0m_layers\u001b[0m\u001b[0;34m:\u001b[0m\u001b[0;34m\u001b[0m\u001b[0;34m\u001b[0m\u001b[0m\n\u001b[0;32m---> 46\u001b[0;31m             \u001b[0mX\u001b[0m\u001b[0;34m,\u001b[0m \u001b[0minc_layer_grad\u001b[0m \u001b[0;34m=\u001b[0m \u001b[0mlayer\u001b[0m\u001b[0;34m.\u001b[0m\u001b[0mbegin_update\u001b[0m\u001b[0;34m(\u001b[0m\u001b[0mX\u001b[0m\u001b[0;34m,\u001b[0m \u001b[0mdrop\u001b[0m\u001b[0;34m=\u001b[0m\u001b[0mdrop\u001b[0m\u001b[0;34m)\u001b[0m\u001b[0;34m\u001b[0m\u001b[0;34m\u001b[0m\u001b[0m\n\u001b[0m\u001b[1;32m     47\u001b[0m             \u001b[0mcallbacks\u001b[0m\u001b[0;34m.\u001b[0m\u001b[0mappend\u001b[0m\u001b[0;34m(\u001b[0m\u001b[0minc_layer_grad\u001b[0m\u001b[0;34m)\u001b[0m\u001b[0;34m\u001b[0m\u001b[0;34m\u001b[0m\u001b[0m\n\u001b[1;32m     48\u001b[0m \u001b[0;34m\u001b[0m\u001b[0m\n",
            "\u001b[0;32m/usr/local/lib/python3.6/dist-packages/thinc/neural/_classes/resnet.py\u001b[0m in \u001b[0;36mbegin_update\u001b[0;34m(self, X, drop)\u001b[0m\n\u001b[1;32m     36\u001b[0m             \u001b[0moutput\u001b[0m \u001b[0;34m=\u001b[0m \u001b[0;34m(\u001b[0m\u001b[0mX\u001b[0m\u001b[0;34m[\u001b[0m\u001b[0;36m0\u001b[0m\u001b[0;34m]\u001b[0m \u001b[0;34m+\u001b[0m \u001b[0my\u001b[0m\u001b[0;34m[\u001b[0m\u001b[0;36m0\u001b[0m\u001b[0;34m]\u001b[0m\u001b[0;34m,\u001b[0m \u001b[0my\u001b[0m\u001b[0;34m[\u001b[0m\u001b[0;36m1\u001b[0m\u001b[0;34m]\u001b[0m\u001b[0;34m)\u001b[0m\u001b[0;34m\u001b[0m\u001b[0;34m\u001b[0m\u001b[0m\n\u001b[1;32m     37\u001b[0m         \u001b[0;32melse\u001b[0m\u001b[0;34m:\u001b[0m\u001b[0;34m\u001b[0m\u001b[0;34m\u001b[0m\u001b[0m\n\u001b[0;32m---> 38\u001b[0;31m             \u001b[0moutput\u001b[0m \u001b[0;34m=\u001b[0m \u001b[0mX\u001b[0m \u001b[0;34m+\u001b[0m \u001b[0my\u001b[0m\u001b[0;34m\u001b[0m\u001b[0;34m\u001b[0m\u001b[0m\n\u001b[0m\u001b[1;32m     39\u001b[0m \u001b[0;34m\u001b[0m\u001b[0m\n\u001b[1;32m     40\u001b[0m         \u001b[0;32mdef\u001b[0m \u001b[0mresidual_bwd\u001b[0m\u001b[0;34m(\u001b[0m\u001b[0md_output\u001b[0m\u001b[0;34m,\u001b[0m \u001b[0msgd\u001b[0m\u001b[0;34m=\u001b[0m\u001b[0;32mNone\u001b[0m\u001b[0;34m)\u001b[0m\u001b[0;34m:\u001b[0m\u001b[0;34m\u001b[0m\u001b[0;34m\u001b[0m\u001b[0m\n",
            "\u001b[0;31mKeyboardInterrupt\u001b[0m: "
          ]
        }
      ]
    },
    {
      "cell_type": "code",
      "metadata": {
        "id": "Wfepz6QF1NeN"
      },
      "source": [
        "news_triples_df = pd.DataFrame({\"subject\": subjects, \"predicate\": predicates, \"object\": objects})"
      ],
      "execution_count": null,
      "outputs": []
    },
    {
      "cell_type": "markdown",
      "metadata": {
        "id": "en9Tve45BgmY"
      },
      "source": [
        "The triples extracted from free text does not have the same quality as those from Wikidata, but there are often some valuable connections."
      ]
    },
    {
      "cell_type": "code",
      "metadata": {
        "id": "S-i-XvEa-hAg",
        "colab": {
          "base_uri": "https://localhost:8080/",
          "height": 142
        },
        "outputId": "00f86abc-487f-4020-9519-89cb9f8f7692"
      },
      "source": [
        "news_triples_df.sample(3)"
      ],
      "execution_count": null,
      "outputs": [
        {
          "output_type": "execute_result",
          "data": {
            "text/html": [
              "<div>\n",
              "<style scoped>\n",
              "    .dataframe tbody tr th:only-of-type {\n",
              "        vertical-align: middle;\n",
              "    }\n",
              "\n",
              "    .dataframe tbody tr th {\n",
              "        vertical-align: top;\n",
              "    }\n",
              "\n",
              "    .dataframe thead th {\n",
              "        text-align: right;\n",
              "    }\n",
              "</style>\n",
              "<table border=\"1\" class=\"dataframe\">\n",
              "  <thead>\n",
              "    <tr style=\"text-align: right;\">\n",
              "      <th></th>\n",
              "      <th>subject</th>\n",
              "      <th>predicate</th>\n",
              "      <th>object</th>\n",
              "    </tr>\n",
              "  </thead>\n",
              "  <tbody>\n",
              "    <tr>\n",
              "      <th>5131</th>\n",
              "      <td>apple</td>\n",
              "      <td>doing</td>\n",
              "      <td>sales</td>\n",
              "    </tr>\n",
              "    <tr>\n",
              "      <th>8895</th>\n",
              "      <td>it</td>\n",
              "      <td>!hit</td>\n",
              "      <td>streets</td>\n",
              "    </tr>\n",
              "    <tr>\n",
              "      <th>25158</th>\n",
              "      <td>who</td>\n",
              "      <td>!use</td>\n",
              "      <td>facebook</td>\n",
              "    </tr>\n",
              "  </tbody>\n",
              "</table>\n",
              "</div>"
            ],
            "text/plain": [
              "      subject predicate    object\n",
              "5131    apple     doing     sales\n",
              "8895       it      !hit   streets\n",
              "25158     who      !use  facebook"
            ]
          },
          "metadata": {
            "tags": []
          },
          "execution_count": 257
        }
      ]
    },
    {
      "cell_type": "code",
      "metadata": {
        "id": "plqfeGfW-5UQ"
      },
      "source": [
        "news_triples = []\n",
        "for index, row in news_triples_df.iterrows():\n",
        "    news_triples.append((row.subject, row.predicate, row.object))"
      ],
      "execution_count": null,
      "outputs": []
    },
    {
      "cell_type": "markdown",
      "metadata": {
        "id": "a20l6jrj-_Ft"
      },
      "source": [
        "### 1.4. Joining the Dataframes"
      ]
    },
    {
      "cell_type": "markdown",
      "metadata": {
        "id": "Nwdo1yxMByR9"
      },
      "source": [
        "Combine the Wikidata triples and the triples obtained from the news articles to form our knowledge base."
      ]
    },
    {
      "cell_type": "code",
      "metadata": {
        "id": "xOLJG4tV_Y1w"
      },
      "source": [
        "all_triples = wiki_triples + news_triples"
      ],
      "execution_count": null,
      "outputs": []
    },
    {
      "cell_type": "code",
      "metadata": {
        "id": "AK1qkEhP_kHI"
      },
      "source": [
        "def make_all_triples_df(all_triples):\n",
        "    subjects, predicates, objects = [], [], []\n",
        "    for i in range(len(all_triples)):\n",
        "        subjects.append(all_triples[i][0])\n",
        "        predicates.append(all_triples[i][1])\n",
        "        objects.append(all_triples[i][2])\n",
        "    \n",
        "    all_triples_df = pd.DataFrame({\"subject\": subjects, \"predicate\": predicates, \"object\": objects})\n",
        "    return all_triples_df"
      ],
      "execution_count": null,
      "outputs": []
    },
    {
      "cell_type": "code",
      "metadata": {
        "id": "0A-Wchvx_eXn"
      },
      "source": [
        "all_triples_df = make_all_triples_df(all_triples)"
      ],
      "execution_count": null,
      "outputs": []
    },
    {
      "cell_type": "code",
      "metadata": {
        "id": "8-TAq92-_gPQ",
        "colab": {
          "base_uri": "https://localhost:8080/",
          "height": 142
        },
        "outputId": "594bbd3e-17d4-45fa-b62f-329313ecb04c"
      },
      "source": [
        "all_triples_df.sample(3)"
      ],
      "execution_count": null,
      "outputs": [
        {
          "output_type": "execute_result",
          "data": {
            "text/html": [
              "<div>\n",
              "<style scoped>\n",
              "    .dataframe tbody tr th:only-of-type {\n",
              "        vertical-align: middle;\n",
              "    }\n",
              "\n",
              "    .dataframe tbody tr th {\n",
              "        vertical-align: top;\n",
              "    }\n",
              "\n",
              "    .dataframe thead th {\n",
              "        text-align: right;\n",
              "    }\n",
              "</style>\n",
              "<table border=\"1\" class=\"dataframe\">\n",
              "  <thead>\n",
              "    <tr style=\"text-align: right;\">\n",
              "      <th></th>\n",
              "      <th>subject</th>\n",
              "      <th>predicate</th>\n",
              "      <th>object</th>\n",
              "    </tr>\n",
              "  </thead>\n",
              "  <tbody>\n",
              "    <tr>\n",
              "      <th>30089</th>\n",
              "      <td>floor</td>\n",
              "      <td>hosts</td>\n",
              "      <td>room</td>\n",
              "    </tr>\n",
              "    <tr>\n",
              "      <th>15445</th>\n",
              "      <td>quotes</td>\n",
              "      <td>delayed</td>\n",
              "      <td>minimum</td>\n",
              "    </tr>\n",
              "    <tr>\n",
              "      <th>26279</th>\n",
              "      <td>efforts</td>\n",
              "      <td>streamline</td>\n",
              "      <td>structure</td>\n",
              "    </tr>\n",
              "  </tbody>\n",
              "</table>\n",
              "</div>"
            ],
            "text/plain": [
              "       subject   predicate     object\n",
              "30089    floor       hosts       room\n",
              "15445   quotes     delayed    minimum\n",
              "26279  efforts  streamline  structure"
            ]
          },
          "metadata": {
            "tags": []
          },
          "execution_count": 84
        }
      ]
    },
    {
      "cell_type": "markdown",
      "metadata": {
        "id": "MUAaHaFVdRKL"
      },
      "source": [
        "Now we have everything we need to build the knowledge graph! A knowledge graph is just a set of triples which are connected together."
      ]
    },
    {
      "cell_type": "markdown",
      "metadata": {
        "id": "6kbDtsghAHd_"
      },
      "source": [
        "## 2. Inference"
      ]
    },
    {
      "cell_type": "markdown",
      "metadata": {
        "id": "3Y_IZr5iAc9w"
      },
      "source": [
        "### 2.1. Building the Model"
      ]
    },
    {
      "cell_type": "markdown",
      "metadata": {
        "id": "3rw028v5CKcp"
      },
      "source": [
        "We use the excellent (relatively new) package called AmpliGraph. The package provides tools to predict links between concepts in knowledge graphs, and much more. https://docs.ampligraph.org/en/latest/index.html.\n",
        "\n",
        "The triples we have represent our knowledge graph, and we can feed this straight into the AmpliGraph model to learn the embeddings.\n",
        "\n",
        "You may be wondering what these embeddings are and why they might be useful. The embedding model is able to encode concepts (entities and relations) from the KG into lower-dimensional vectors. This is similar to embeddings like word2vec if you're familiar with NLP. When we have these embeddings, we can perform mathematical operations on them. We will see some examples of such operations soon, but first let's build the model."
      ]
    },
    {
      "cell_type": "code",
      "metadata": {
        "id": "ppemvLSfAf99",
        "colab": {
          "base_uri": "https://localhost:8080/",
          "height": 34
        },
        "outputId": "269e0486-f2cc-4a87-8c0e-f7e13e8dd5bd"
      },
      "source": [
        "import tensorflow as tf\n",
        "print(tf.__version__)"
      ],
      "execution_count": null,
      "outputs": [
        {
          "output_type": "stream",
          "text": [
            "1.15.3\n"
          ],
          "name": "stdout"
        }
      ]
    },
    {
      "cell_type": "code",
      "metadata": {
        "id": "a9fMg6CnAlaY",
        "colab": {
          "base_uri": "https://localhost:8080/",
          "height": 34
        },
        "outputId": "f49e52bc-09cf-4784-dbf4-3f41e1be9b9a"
      },
      "source": [
        "len(all_triples)"
      ],
      "execution_count": null,
      "outputs": [
        {
          "output_type": "execute_result",
          "data": {
            "text/plain": [
              "34749"
            ]
          },
          "metadata": {
            "tags": []
          },
          "execution_count": 86
        }
      ]
    },
    {
      "cell_type": "code",
      "metadata": {
        "id": "psAVUb5_Agwj"
      },
      "source": [
        "from ampligraph.evaluation import train_test_split_no_unseen \n",
        "\n",
        "X_train, X_valid = train_test_split_no_unseen(np.array(all_triples), test_size=5000)"
      ],
      "execution_count": null,
      "outputs": []
    },
    {
      "cell_type": "code",
      "metadata": {
        "id": "rsUTtnv-CA7e",
        "colab": {
          "base_uri": "https://localhost:8080/",
          "height": 51
        },
        "outputId": "4d62a213-2e01-45a4-b0b1-05802466b042"
      },
      "source": [
        "print(f\"Training set size is: {X_train.shape}\")\n",
        "print(f\"Test set size is: {X_valid.shape}\")"
      ],
      "execution_count": null,
      "outputs": [
        {
          "output_type": "stream",
          "text": [
            "Training set size is: (29749, 3)\n",
            "Test set size is: (5000, 3)\n"
          ],
          "name": "stdout"
        }
      ]
    },
    {
      "cell_type": "code",
      "metadata": {
        "id": "e-AY0froApKx"
      },
      "source": [
        "from ampligraph.latent_features import ComplEx\n",
        "\n",
        "model = ComplEx(batches_count=50,\n",
        "                epochs=300,\n",
        "                k=20,\n",
        "                eta=20,\n",
        "                optimizer='adam', \n",
        "                optimizer_params={'lr':1e-4},\n",
        "                loss='multiclass_nll',\n",
        "                regularizer='LP', \n",
        "                regularizer_params={'p':3, 'lambda':1e-5}, \n",
        "                seed=0, \n",
        "                verbose=True)"
      ],
      "execution_count": null,
      "outputs": []
    },
    {
      "cell_type": "code",
      "metadata": {
        "id": "80UyyqgWAvue",
        "colab": {
          "base_uri": "https://localhost:8080/",
          "height": 34
        },
        "outputId": "40a7d6a9-8abb-4c93-ba80-a8dc1f31214b"
      },
      "source": [
        "tf.logging.set_verbosity(tf.logging.ERROR)\n",
        "\n",
        "model.fit(X_train)"
      ],
      "execution_count": null,
      "outputs": [
        {
          "output_type": "stream",
          "text": [
            "Average Loss:   1.023218: 100%|██████████| 300/300 [05:07<00:00,  1.03s/epoch]\n"
          ],
          "name": "stderr"
        }
      ]
    },
    {
      "cell_type": "code",
      "metadata": {
        "id": "gnLc6P00AxPj"
      },
      "source": [
        "filter_triples = np.concatenate((X_train, X_valid))"
      ],
      "execution_count": null,
      "outputs": []
    },
    {
      "cell_type": "code",
      "metadata": {
        "id": "1uQQdowdA1op",
        "colab": {
          "base_uri": "https://localhost:8080/",
          "height": 51
        },
        "outputId": "dba0f89e-e90b-4cda-be32-9901a55faa0d"
      },
      "source": [
        "from ampligraph.evaluation import evaluate_performance\n",
        "\n",
        "ranks = evaluate_performance(X_valid,\n",
        "                             model=model, \n",
        "                             filter_triples=filter_triples,\n",
        "                             use_default_protocol=True,\n",
        "                             verbose=True)"
      ],
      "execution_count": null,
      "outputs": [
        {
          "output_type": "stream",
          "text": [
            "WARNING - DeprecationWarning: use_default_protocol will be removed in future. Please use corrupt_side argument instead.\n"
          ],
          "name": "stdout"
        },
        {
          "output_type": "stream",
          "text": [
            "100%|██████████| 5000/5000 [00:39<00:00, 127.93it/s]\n"
          ],
          "name": "stderr"
        }
      ]
    },
    {
      "cell_type": "code",
      "metadata": {
        "id": "ygVBsq4oBCp7",
        "colab": {
          "base_uri": "https://localhost:8080/",
          "height": 102
        },
        "outputId": "baf53dc4-860a-415a-e07c-e6d4dc88bb7e"
      },
      "source": [
        "from ampligraph.evaluation import mr_score, mrr_score, hits_at_n_score\n",
        "\n",
        "mr = mr_score(ranks)\n",
        "mrr = mrr_score(ranks)\n",
        "\n",
        "print(\"MRR: %.2f\" % (mrr))\n",
        "print(\"MR: %.2f\" % (mr))\n",
        "\n",
        "hits_10 = hits_at_n_score(ranks, n=10)\n",
        "print(\"Hits@10: %.2f\" % (hits_10))\n",
        "hits_3 = hits_at_n_score(ranks, n=3)\n",
        "print(\"Hits@3: %.2f\" % (hits_3))\n",
        "hits_1 = hits_at_n_score(ranks, n=1)\n",
        "print(\"Hits@1: %.2f\" % (hits_1))"
      ],
      "execution_count": null,
      "outputs": [
        {
          "output_type": "stream",
          "text": [
            "MRR: 0.13\n",
            "MR: 3139.50\n",
            "Hits@10: 0.18\n",
            "Hits@3: 0.13\n",
            "Hits@1: 0.10\n"
          ],
          "name": "stdout"
        }
      ]
    },
    {
      "cell_type": "markdown",
      "metadata": {
        "id": "aMpb7-ivBELI"
      },
      "source": [
        "### 2.2. Ranking News"
      ]
    },
    {
      "cell_type": "markdown",
      "metadata": {
        "id": "1qQxNu2GKE2U"
      },
      "source": [
        "The idea is to extract the entities from the article, then find the average of their embeddings. Then using this average, we find the company whose embedding is closest."
      ]
    },
    {
      "cell_type": "code",
      "metadata": {
        "id": "SgcN6KluBPPF"
      },
      "source": [
        "from ampligraph.discovery import query_topn, discover_facts, find_clusters\n",
        "from sklearn.decomposition import PCA\n",
        "from sklearn.cluster import KMeans\n",
        "import seaborn as sns\n",
        "import textwrap"
      ],
      "execution_count": null,
      "outputs": []
    },
    {
      "cell_type": "code",
      "metadata": {
        "id": "L2wTJ1BbFhmK"
      },
      "source": [
        "example_news = test_news_df.iloc[0].content"
      ],
      "execution_count": null,
      "outputs": []
    },
    {
      "cell_type": "code",
      "metadata": {
        "id": "YAMhSbHMb-C5"
      },
      "source": [
        "headline = test_news_df.iloc[0].title"
      ],
      "execution_count": null,
      "outputs": []
    },
    {
      "cell_type": "code",
      "metadata": {
        "id": "jLCYu3LFb6vH",
        "colab": {
          "base_uri": "https://localhost:8080/",
          "height": 34
        },
        "outputId": "1c016a8f-6b06-4f4b-dbdc-db86583fd6d1"
      },
      "source": [
        "print(f\"The headline: {headline}\")"
      ],
      "execution_count": null,
      "outputs": [
        {
          "output_type": "stream",
          "text": [
            "The headline: The Atlantic Daily: Violence in Iraq, Amtrak and Train Safety, Facebook and Elections\n"
          ],
          "name": "stdout"
        }
      ]
    },
    {
      "cell_type": "code",
      "metadata": {
        "id": "ZPQvDGpFCuup",
        "colab": {
          "base_uri": "https://localhost:8080/",
          "height": 1000
        },
        "outputId": "01aecc19-2b9a-4526-a4ea-d13448518618"
      },
      "source": [
        "print(textwrap.fill(example_news[:20000]))"
      ],
      "execution_count": null,
      "outputs": [
        {
          "output_type": "stream",
          "text": [
            "The main site for Archive Team is at archiveteam.org and contains up\n",
            "to the date information on various projects, manifestos, plans and\n",
            "walkthroughs., This collection contains the output of many Archive\n",
            "Team projects, both ongoing and completed. Thanks to the generous\n",
            "providing of disk space by the Internet Archive, multi-terabyte\n",
            "datasets can be made available, as well as in use by the Wayback\n",
            "Machine, providing a path back to lost websites and work. , Our\n",
            "collection has grown to the point of having sub-collections for the\n",
            "type of data we acquire. If you are seeking to browse the contents of\n",
            "these collections, the Wayback Machine is the best first stop.\n",
            "Otherwise, you are free to dig into the stacks to see what you may\n",
            "find., The Archive Team Panic Downloads are full pulldowns of\n",
            "currently extant websites, meant to serve as emergency backups for\n",
            "needed sites that are in danger of closing, or which will be missed\n",
            "dearly if suddenly lost due to hard drive crashes or server failures.\n",
            ", , Try two trial issues of The Atlantic with our compliments., , I\n",
            "want to receive updates from partners and sponsors., ,         This\n",
            "article is part of a feature we also send out via email as The\n",
            "Atlantic Daily, a newsletter with stories, ideas, and images from The\n",
            "Atlantic, written specially for subscribers. To sign up, please enter\n",
            "your email address in the field provided here.    , Bombing attacks\n",
            "killed dozens of people in three Baghdad neighborhoods in a single\n",
            "day. The deadliest assault occurred in Sadr City, a predominantly Shia\n",
            "neighborhood, where a car bomb exploded. The number of casualties is\n",
            "not yet clear, and the Islamic State has claimed responsibility for at\n",
            "least one attack., Amtrak’s Train Tragedy: U.S. transportation\n",
            "officials have determined that the engineer of the Amtrak train that\n",
            "crashed outside Philadelphia last year was distracted by radio traffic\n",
            "when the locomotive rounded a curve at a dangerous 106 miles per hour\n",
            "and derailed, killing eight people.Officials say trains should become\n",
            "equipped with technology called Positive Train Control, which is\n",
            "intended to prevent collisions and derailments. PTC could have\n",
            "prevented 145 accidents since 1969, in which 288 people were killed\n",
            "and nearly 6,600 were injured, they estimate., The Facebook Vote: The\n",
            "social-media network has come under scrutiny for allegedly tailoring\n",
            "political news content it shows users. Facebook says it would never\n",
            "try to skew the upcoming presidential election or influence voting\n",
            "behavior. But the company actually has the capacity to do so by\n",
            "manipulating the algorithms that curate news feeds of a huge amount of\n",
            "voters. Facebook users get their news from Facebook than any other\n",
            "source, and 40 percent of all U.S. news traffic originates from the\n",
            "website. In the 2010 election, Facebook’s “I Voted” feature drove\n",
            "340,000 Americans to the polls that would not have voted otherwise.,\n",
            "“I would say that Donald Trump’s views on women’s ideal roles are not\n",
            "shared by most people.” —Alice Eagly, a psychology professor in\n",
            "Illinois, “Being a jazz musician you have to be a Jedi.” —J.D. Allen,\n",
            "a saxophonist, on the intellectualism of jazz, “There will always be\n",
            "enough white kids. Most of them will never experience what it’s like\n",
            "being the only one.” —Rashaun Martin, who is black, on going to an\n",
            "elite, mostly white Boston high school, The Atlantic’s June issue is\n",
            "now available online. Read Matthew Shaer on the false promise of DNA\n",
            "testing, Stephen Cave on free will (and how there’s no such thing),\n",
            "Sarah Boxer on reading Proust on a cellphone, and much more., Delve\n",
            "into the mind of Donald Trump in our cover story by Dan P. McAdams:,\n",
            "In sum, Donald Trump’s basic personality traits suggest a presidency\n",
            "that could be highly combustible. One possible yield is an energetic,\n",
            "activist president who has a less than cordial relationship with the\n",
            "truth. He could be a daring and ruthlessly aggressive decision maker\n",
            "who desperately desires to create the strongest, tallest, shiniest,\n",
            "and most awesome result—and who never thinks twice about the\n",
            "collateral damage he will leave behind. Tough. Bellicose. Threatening.\n",
            "Explosive., Continue reading here., 1. About __________ oilfield\n",
            "workers were evacuated from the Fort McMurray area as winds sent\n",
            "wildfires their way., (See answer or scroll to the bottom.), 2. The\n",
            "International Olympic Committee says as many as __________ athletes\n",
            "could be banned from competing in Rio this summer because of doping.,\n",
            "(See answer or scroll to the bottom.), 3. Slovenian and Croatian\n",
            "workers reportedly were paid _________ an hour to build a Tesla\n",
            "factory in California., (See answer or scroll to the bottom.), How do\n",
            "you feel about high heels? One reader writes:, I happen to love\n",
            "wearing high heels, and it’s embarrassing to admit, since I find flats\n",
            "much more comfy. My reason for liking them is that I’m a bit short,\n",
            "and heels make me tall. Taller, anyway. When I put on high heels, I’m\n",
            "suddenly 2\"- 3\" higher, and I feel a greater sense of power. It’s much\n",
            "nicer to be able to look people in the eye and not have to look up at\n",
            "them., But another reader doesn’t see a real connection between heels\n",
            "and power:, Wearing flat shoes or low, stacked heels (generally\n",
            "loafers and not ballet flats) hasn’t hurt my career at all. The only\n",
            "woman over 35 who regularly wears high heels at my office is tiny and\n",
            "probably going for the height. Otherwise, heels seem to be for the\n",
            "young women in the lower-ranking jobs, while the older women who\n",
            "actually run the place wear more practical shoes., Read more here, and\n",
            "send your shoe stories to hello@theatlantic.com., Bees kidnapped,\n",
            "decades-old corpses identified, debts creatively collected, the\n",
            "Rainforest Cafe’s origin story told., Answers: 8,000, 31, $5]\n"
          ],
          "name": "stdout"
        }
      ]
    },
    {
      "cell_type": "code",
      "metadata": {
        "id": "3mcW9gHHfN_U"
      },
      "source": [
        "all_entities = np.unique(list(all_triples_df.subject) + list(all_triples_df.object))"
      ],
      "execution_count": null,
      "outputs": []
    },
    {
      "cell_type": "code",
      "metadata": {
        "id": "5kJPAke4e6HH"
      },
      "source": [
        "def extract_entities(article, all_entities):\n",
        "    entities = []\n",
        "    sentences = [i for i in nlp(article).sents]\n",
        "    for sentence in sentences:\n",
        "        for entity in sentence.ents:\n",
        "            if entity.text in all_entities:\n",
        "                entities.append(entity.text)\n",
        "    return entities"
      ],
      "execution_count": null,
      "outputs": []
    },
    {
      "cell_type": "code",
      "metadata": {
        "id": "swJQwLjKgH_m"
      },
      "source": [
        "extracted = extract_entities(example_news, all_entities)"
      ],
      "execution_count": null,
      "outputs": []
    },
    {
      "cell_type": "code",
      "metadata": {
        "id": "gW8te_PxgLxI"
      },
      "source": [
        "article_embeddings = model.get_embeddings(np.array(extracted))"
      ],
      "execution_count": null,
      "outputs": []
    },
    {
      "cell_type": "code",
      "metadata": {
        "id": "PG8l1iksgeXB"
      },
      "source": [
        "mean_article = article_embeddings.mean(axis=0)"
      ],
      "execution_count": null,
      "outputs": []
    },
    {
      "cell_type": "code",
      "metadata": {
        "id": "zSUaJJpiZYfO"
      },
      "source": [
        "companies_with_embeddings = []\n",
        "for company in KG_companies:\n",
        "    try:\n",
        "        model.get_embeddings(company)\n",
        "        companies_with_embeddings.append(company)\n",
        "    except:\n",
        "        pass"
      ],
      "execution_count": null,
      "outputs": []
    },
    {
      "cell_type": "code",
      "metadata": {
        "id": "P5wfP-wClJ_F"
      },
      "source": [
        "company_embeddings = model.get_embeddings(np.array(companies_with_embeddings))"
      ],
      "execution_count": null,
      "outputs": []
    },
    {
      "cell_type": "code",
      "metadata": {
        "id": "-csmZ4HAl81q"
      },
      "source": [
        "from sklearn.metrics import pairwise_distances"
      ],
      "execution_count": null,
      "outputs": []
    },
    {
      "cell_type": "code",
      "metadata": {
        "id": "vt3PgbuXltOV"
      },
      "source": [
        "distances = []\n",
        "for company_embedding in company_embeddings:\n",
        "    distance = pairwise_distances(company_embedding.reshape(1,-1), mean_article.reshape(1,-1))\n",
        "    distances.append(distance)"
      ],
      "execution_count": null,
      "outputs": []
    },
    {
      "cell_type": "code",
      "metadata": {
        "id": "WnXt8Po7lgTG"
      },
      "source": [
        "prediction = np.argmin(distances)"
      ],
      "execution_count": null,
      "outputs": []
    },
    {
      "cell_type": "code",
      "metadata": {
        "id": "HJ3P0vMfajGc",
        "colab": {
          "base_uri": "https://localhost:8080/",
          "height": 34
        },
        "outputId": "759be24e-6df2-4641-cbee-6d6670bf87e6"
      },
      "source": [
        "print(f\"The headline: {headline}\")"
      ],
      "execution_count": null,
      "outputs": [
        {
          "output_type": "stream",
          "text": [
            "The headline: The Atlantic Daily: Violence in Iraq, Amtrak and Train Safety, Facebook and Elections\n"
          ],
          "name": "stdout"
        }
      ]
    },
    {
      "cell_type": "code",
      "metadata": {
        "id": "5Tv5XyQclmOi",
        "colab": {
          "base_uri": "https://localhost:8080/",
          "height": 35
        },
        "outputId": "e712020f-f15b-48ce-b6d5-1bb0b4bafba1"
      },
      "source": [
        "companies_with_embeddings[prediction]"
      ],
      "execution_count": null,
      "outputs": [
        {
          "output_type": "execute_result",
          "data": {
            "application/vnd.google.colaboratory.intrinsic": {
              "type": "string"
            },
            "text/plain": [
              "'Facebook'"
            ]
          },
          "metadata": {
            "tags": []
          },
          "execution_count": 253
        }
      ]
    },
    {
      "cell_type": "code",
      "metadata": {
        "id": "TA7ZZSjhx6Lp"
      },
      "source": [
        ""
      ],
      "execution_count": null,
      "outputs": []
    }
  ]
}