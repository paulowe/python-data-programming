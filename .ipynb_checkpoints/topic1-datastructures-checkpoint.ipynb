{
 "cells": [
  {
   "cell_type": "markdown",
   "metadata": {},
   "source": [
    "## Mapping types - dict\n",
    "\n",
    "A mapping object maps **hashable values** (keys) to arbitrary objects (values).\n",
    "\n",
    "- Mappings are mutable objects\n",
    "- Only 1 standard mapping type, the _dictionary_\n",
    "- Dictionary keys **cannot be Non-hashable values**, that is values containing mutable types like dictionaries, and lists. This is because mutable types are compared by value rather than by object identity.\n",
    "- It is also unwise to use numeric data types as dictionary keys\n"
   ]
  },
  {
   "cell_type": "code",
   "execution_count": 17,
   "metadata": {},
   "outputs": [
    {
     "name": "stdout",
     "output_type": "stream",
     "text": [
      "{'node_name': 'future_ai_merchant_1', 'description': 'Self healing node (through Kubernetes). It is responsible for accepting orders to buy or sell futures contracts'}\n",
      "{'service_node': [{'node_name': 'future_ai_merchant_1', 'description': 'Self healing node (through Kubernetes). It is responsible for accepting orders to buy or sell futures contracts'}], 'desc': 'How to receive agent name and other attributes from else where in one monitoring agent object ready for processing'}\n"
     ]
    }
   ],
   "source": [
    "futures_merchant_agent = {\"node_name\":\"future_ai_merchant_1\", \n",
    "\"description\": \"Self healing node (through Kubernetes). It is responsible for accepting orders to buy or sell futures contracts\"\n",
    "}\n",
    "#or\n",
    "futures_merchant_monitor = dict(service_node=[futures_merchant_agent], desc=\"How to receive agent name and other attributes from else where in one monitoring agent object ready for processing\")\n",
    "\n",
    "print(futures_merchant_agent)\n",
    "type(futures_merchant_agent)\n",
    "print(futures_merchant_monitor)\n"
   ]
  },
  {
   "cell_type": "code",
   "execution_count": 12,
   "metadata": {},
   "outputs": [
    {
     "data": {
      "text/plain": [
       "{0: 0, 1: 1, 2: 4, 3: 9, 4: 16, 5: 25, 6: 36, 7: 49, 8: 64, 9: 81}"
      ]
     },
     "execution_count": 12,
     "metadata": {},
     "output_type": "execute_result"
    }
   ],
   "source": [
    "# Dict comprehension\n",
    "dict_comprehension = {x: x ** 2 for x in range(10)}\n",
    "dict_comprehension"
   ]
  },
  {
   "cell_type": "code",
   "execution_count": 13,
   "metadata": {},
   "outputs": [
    {
     "data": {
      "text/plain": [
       "{'num_active_connections': 100, 'node_intelligence_score': 200}"
      ]
     },
     "execution_count": 13,
     "metadata": {},
     "output_type": "execute_result"
    }
   ],
   "source": [
    "# Dict comprehension\n",
    "dict_comprehension_two = dict(num_active_connections=100, node_intelligence_score=200)\n",
    "dict_comprehension_two"
   ]
  },
  {
   "cell_type": "markdown",
   "metadata": {},
   "source": [
    "# List all Dict keys\n",
    "list(d) returns a list of all keys used in dictionary d"
   ]
  },
  {
   "cell_type": "code",
   "execution_count": 18,
   "metadata": {},
   "outputs": [
    {
     "data": {
      "text/plain": [
       "['num_active_connections', 'node_intelligence_score']"
      ]
     },
     "execution_count": 18,
     "metadata": {},
     "output_type": "execute_result"
    }
   ],
   "source": [
    "list(dict_comprehension_two)"
   ]
  },
  {
   "cell_type": "code",
   "execution_count": 22,
   "metadata": {},
   "outputs": [
    {
     "name": "stdout",
     "output_type": "stream",
     "text": [
      "True\n"
     ]
    }
   ],
   "source": [
    "dict_comprehension_two[\"node_intelligence_score\"] #get value given key\n",
    "dynamic_key = \"node_intelligence_score\"\n",
    "print(dynamic_key in dict_comprehension_two)\n"
   ]
  },
  {
   "cell_type": "markdown",
   "metadata": {},
   "source": [
    "# More responsible way of retrieving dict values when using dynamic keys  "
   ]
  },
  {
   "cell_type": "code",
   "execution_count": 33,
   "metadata": {},
   "outputs": [
    {
     "data": {
      "text/plain": [
       "100"
      ]
     },
     "execution_count": 33,
     "metadata": {},
     "output_type": "execute_result"
    }
   ],
   "source": [
    "#Return dynamic key if exists, or return default\n",
    "dynamic_key2 = \"num_active_connections\"\n",
    "default_value_to_return_if_key_non_existent = \"1\"\n",
    "dict_comprehension_two.get(dynamic_key2,default_value_to_return_if_key_non_existent)"
   ]
  },
  {
   "cell_type": "markdown",
   "metadata": {},
   "source": [
    "## Tuple Data Structure"
   ]
  },
  {
   "cell_type": "code",
   "execution_count": 6,
   "metadata": {},
   "outputs": [
    {
     "data": {
      "text/plain": [
       "((1, 'any_ds', 3), (4, 'human_data_point', 6))"
      ]
     },
     "execution_count": 6,
     "metadata": {},
     "output_type": "execute_result"
    }
   ],
   "source": [
    "n_tup = (1,\"any_ds\",3),(4,\"human_data_point\",6)\n",
    "n_tup"
   ]
  },
  {
   "cell_type": "code",
   "execution_count": 7,
   "metadata": {},
   "outputs": [
    {
     "data": {
      "text/plain": [
       "(4, 'human_data_point', 6)"
      ]
     },
     "execution_count": 7,
     "metadata": {},
     "output_type": "execute_result"
    }
   ],
   "source": [
    "a, b = n_tup\n",
    "b"
   ]
  },
  {
   "cell_type": "code",
   "execution_count": 8,
   "metadata": {},
   "outputs": [
    {
     "data": {
      "text/plain": [
       "['any_ds', 'human_data_point']"
      ]
     },
     "execution_count": 8,
     "metadata": {},
     "output_type": "execute_result"
    }
   ],
   "source": [
    "[x[1] for x in n_tup]"
   ]
  },
  {
   "cell_type": "markdown",
   "metadata": {},
   "source": [
    "### Count number of times a value occurs in one tuple, compared to another"
   ]
  },
  {
   "cell_type": "code",
   "execution_count": 10,
   "metadata": {},
   "outputs": [
    {
     "data": {
      "text/plain": [
       "[1, 2]"
      ]
     },
     "execution_count": 10,
     "metadata": {},
     "output_type": "execute_result"
    }
   ],
   "source": [
    "# tuple of tuples. Immutable\n",
    "# schedule most profitable arbitrage opportunities, futures contracts to execute\n",
    "record_of_event1 = {\"success_probability_score\":92}\n",
    "record_of_event3 = {\"success_probability_score\":23}\n",
    "\n",
    "items_toaddress_andschedule = ((record_of_event1, record_of_event3, record_of_event3, record_of_event3),(record_of_event1, record_of_event1))\n",
    "[x.count(record_of_event1) for x in items_toaddress_andschedule]\n",
    "\n",
    "#pick success_event items , that is items with highest s_p(s)\n"
   ]
  },
  {
   "cell_type": "code",
   "execution_count": null,
   "metadata": {},
   "outputs": [],
   "source": []
  }
 ],
 "metadata": {
  "interpreter": {
   "hash": "aee8b7b246df8f9039afb4144a1f6fd8d2ca17a180786b69acc140d282b71a49"
  },
  "kernelspec": {
   "display_name": "Python 3 (ipykernel)",
   "language": "python",
   "name": "python3"
  },
  "language_info": {
   "codemirror_mode": {
    "name": "ipython",
    "version": 3
   },
   "file_extension": ".py",
   "mimetype": "text/x-python",
   "name": "python",
   "nbconvert_exporter": "python",
   "pygments_lexer": "ipython3",
   "version": "3.8.12"
  }
 },
 "nbformat": 4,
 "nbformat_minor": 4
}
