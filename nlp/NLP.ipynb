{
 "cells": [
  {
   "cell_type": "markdown",
   "metadata": {},
   "source": [
    "References:\n",
    "- https://www.nltk.org/book/\n",
    "- https://nlp.stanford.edu/IR-book/html/htmledition/stemming-and-lemmatization-1.html\n",
    "# Stemming and Lemmatization\n",
    "\n",
    "Motivation: Documents use different forms of a word such as \n",
    "- organize, \n",
    "- organizes and \n",
    "- organizing. \n",
    "\n",
    "There are also a families of derivationally related words with similar meanings such as\n",
    "- democracy\n",
    "- democratic\n",
    "- democratization\n",
    "\n",
    "## Goal of Stemming and Lemmatization\n",
    "### Similarities\n",
    "- Reduce inflectional forms and\n",
    "- Reduce derivationally related forms to a a base form\n",
    "\n",
    "**Stemming** usually refers to \n",
    "- a crude heuristic process that \n",
    "- chops off the ends of words in the hope of achieving this goal correctly most of the time, and often includes the **removal of derivational affixes**\n",
    "\n",
    "**Lemmatization** usually refers to doing things properly with the use of \n",
    "- a vocabulary and morphological analysis of words, normally \n",
    "- **aiming to remove inflectional endings only, and to return the base or dictionary form of a word**, which is known as the lemma\n",
    "\n",
    "### Differences\n",
    "The two methods may differ in that:\n",
    "\n",
    "- Stemming most commonly collapses derivationally related words, whereas\n",
    "- Lemmatization commonly collapses the different inflectional points of a lemma\n",
    "\n",
    "## Common Algorithms\n",
    "Stemming - Porter's Algorithm\n",
    "\n",
    "Lemmatization - Word Net"
   ]
  },
  {
   "cell_type": "code",
   "execution_count": 8,
   "metadata": {},
   "outputs": [
    {
     "name": "stdout",
     "output_type": "stream",
     "text": [
      "Stemmed word: oper, Lemmatized word: operate\n",
      "Stemmed word: oper, Lemmatized word: operating\n",
      "Stemmed word: oper, Lemmatized word: operates\n",
      "Stemmed word: oper, Lemmatized word: operation\n",
      "Stemmed word: oper, Lemmatized word: operative\n",
      "Stemmed word: oper, Lemmatized word: operative\n",
      "Stemmed word: oper, Lemmatized word: operational\n"
     ]
    },
    {
     "name": "stderr",
     "output_type": "stream",
     "text": [
      "[nltk_data] Downloading package wordnet to /Users/pcowe/nltk_data...\n",
      "[nltk_data]   Package wordnet is already up-to-date!\n"
     ]
    }
   ],
   "source": [
    "# example 1\n",
    "\n",
    "# We start with the word dance and try to find variations of the word 'root' or 'origin'.\n",
    "# Try Dances, Dancing, Dancer etc. See how many combinations of words you can find that share the root.\n",
    "\n",
    "\n",
    "import nltk\n",
    "from nltk.stem import PorterStemmer\n",
    "nltk.download('wordnet')\n",
    "\n",
    "\n",
    "list_of_words = [\"operate\", \"operating\", \"operates\", \"operation\", \"operative\", \"operatives\",\"operational\"]\n",
    "\n",
    "porter = PorterStemmer()\n",
    "\n",
    "from nltk.stem import WordNetLemmatizer\n",
    "wordnet_lemmatizer = WordNetLemmatizer()\n",
    "\n",
    "# Extension activity 1: Try to take this example further by using a [\"list\", \"of\", \"words\"]  \n",
    "\n",
    "for word in list_of_words:\n",
    "    \n",
    "    print(\"Stemmed word: \" + porter.stem(word) + \", Lemmatized word: \" + wordnet_lemmatizer.lemmatize(word))\n",
    "\n",
    "# Extension activity 2: Have a go at iterating through a list of words \n",
    "# with a for loop to make your code more efficient.\n",
    "\n"
   ]
  },
  {
   "cell_type": "markdown",
   "metadata": {},
   "source": [
    "## Additional Resources\n",
    "NLTK also has categorisation and tagging options. These are beyond the scope of this course <b>but</b>\n",
    "\n",
    "If you do wish to explore these, the documentation can be found <a href=\"https://www.nltk.org/book/ch05.html\">here</a>.\n",
    "\n",
    "\n",
    "Section **1 Using a Tagger and Section 2 Tagged Corpora** might be particularly **useful resources for your coursework !!!!!!!!!!!!!!**\n",
    "\n"
   ]
  },
  {
   "cell_type": "markdown",
   "metadata": {},
   "source": [
    "## NLP Pipeline: Categorizing and Tagging Words\n",
    "*Motivation*: Distinguishing between word classes: nouns, verbs, adjectives, adverbs\n",
    "- Useful in many NLP tasks\n",
    "\n",
    "*Tagging*: Classifying words into their Parts-of-speech and labeling them accordingly (POS Tagging). \n",
    "\n",
    "Parts of speech are also known as \n",
    "- **word classes**, or\n",
    "- **lexical categories**\n",
    "\n",
    "The collection of tags used for a particular task is known as a tagset.\n",
    "\n",
    "**Emphasis on this chapter is to**\n",
    "1. Explot tags\n",
    "2. Tagging text automatically\n"
   ]
  },
  {
   "cell_type": "code",
   "execution_count": 15,
   "metadata": {},
   "outputs": [
    {
     "name": "stderr",
     "output_type": "stream",
     "text": [
      "[nltk_data] Downloading package punkt to /Users/pcowe/nltk_data...\n",
      "[nltk_data]   Package punkt is already up-to-date!\n"
     ]
    },
    {
     "data": {
      "text/plain": [
       "['And', 'now', 'for', 'something', 'completely', 'different']"
      ]
     },
     "execution_count": 15,
     "metadata": {},
     "output_type": "execute_result"
    }
   ],
   "source": [
    "nltk.download('punkt')\n",
    "from nltk.tokenize import word_tokenize\n",
    "text = word_tokenize(\"And now for something completely different\")\n",
    "text"
   ]
  },
  {
   "cell_type": "markdown",
   "metadata": {},
   "source": [
    "A part of speech tagger, processes a sequence of words, and attaches a part of speech tag to each word"
   ]
  },
  {
   "cell_type": "code",
   "execution_count": 17,
   "metadata": {},
   "outputs": [
    {
     "data": {
      "text/plain": [
       "[('And', 'CC'),\n",
       " ('now', 'RB'),\n",
       " ('for', 'IN'),\n",
       " ('something', 'NN'),\n",
       " ('completely', 'RB'),\n",
       " ('different', 'JJ')]"
      ]
     },
     "execution_count": 17,
     "metadata": {},
     "output_type": "execute_result"
    }
   ],
   "source": [
    "# nltk.download('averaged_perceptron_tagger')\n",
    "nltk.pos_tag(text)"
   ]
  },
  {
   "cell_type": "code",
   "execution_count": 18,
   "metadata": {},
   "outputs": [
    {
     "data": {
      "text/plain": [
       "[('They', 'PRP'),\n",
       " ('refuse', 'VBP'),\n",
       " ('to', 'TO'),\n",
       " ('permit', 'VB'),\n",
       " ('us', 'PRP'),\n",
       " ('to', 'TO'),\n",
       " ('obtain', 'VB'),\n",
       " ('the', 'DT'),\n",
       " ('refuse', 'NN'),\n",
       " ('permit', 'NN')]"
      ]
     },
     "execution_count": 18,
     "metadata": {},
     "output_type": "execute_result"
    }
   ],
   "source": [
    "text = word_tokenize(\"They refuse to permit us to obtain the refuse permit\")\n",
    "nltk.pos_tag(text)"
   ]
  },
  {
   "cell_type": "markdown",
   "metadata": {},
   "source": [
    "# Description of results\n",
    "CC - Coordinating Conjunction\n",
    "\n",
    "RB - Adverbs\n",
    "\n",
    "IN - Preposition\n",
    "\n",
    "NN - Noun\n",
    "\n",
    "JJ - Adjective\n",
    "\n",
    "VBP - Present tense verb\n",
    "\n",
    "Notice that *refus* and *permit* both appear as a present tense verb (VBP) and a noun (NN). \n",
    "\n",
    "**Use case for POS Tagging**\n",
    "- Text-to-speech systems: Identifying homonyms (same pronounciation/spelling, different meaning)\n",
    "\n",
    "... TTS dont claim to identify homophones (same pronounciation, different meaning/spelling"
   ]
  },
  {
   "cell_type": "code",
   "execution_count": 22,
   "metadata": {},
   "outputs": [
    {
     "data": {
      "text/plain": [
       "<Text: the fulton county grand jury said friday an...>"
      ]
     },
     "execution_count": 22,
     "metadata": {},
     "output_type": "execute_result"
    }
   ],
   "source": [
    "# nltk.download('brown')\n",
    "text = nltk.Text(word.lower() for word in nltk.corpus.brown.words())\n",
    "text"
   ]
  },
  {
   "cell_type": "markdown",
   "metadata": {},
   "source": [
    "### *The text.similar() method takes a word w, finds all contexts w1w w2, then finds all words w' that appear in the same context, i.e. w1w'w2.*"
   ]
  },
  {
   "cell_type": "code",
   "execution_count": 25,
   "metadata": {},
   "outputs": [
    {
     "name": "stdout",
     "output_type": "stream",
     "text": [
      "a his this their its her an that our any all one these my in your no\n",
      "some other and\n",
      "None\n"
     ]
    }
   ],
   "source": [
    "# print(text.similar('woman'))\n",
    "# print(text.similar('bought'))\n",
    "# print(text.similar('over'))\n",
    "print(text.similar('the'))"
   ]
  },
  {
   "cell_type": "markdown",
   "metadata": {},
   "source": [
    "**Observe that**: \n",
    "- searching for woman finds nouns; \n",
    "- searching for bought mostly finds verbs; \n",
    "- searching for over generally finds prepositions; \n",
    "- searching for the finds several determiners. \n",
    "\n",
    "A tagger can correctly identify the tags on these words in the context of a sentence, e.g. The woman bought over $150,000 worth of clothes."
   ]
  },
  {
   "cell_type": "code",
   "execution_count": 28,
   "metadata": {},
   "outputs": [
    {
     "data": {
      "text/plain": [
       "[('The', 'DT'),\n",
       " ('woman', 'NN'),\n",
       " ('bought', 'VBD'),\n",
       " ('over', 'IN'),\n",
       " ('$', '$'),\n",
       " ('150,000', 'CD'),\n",
       " ('worth', 'NN'),\n",
       " ('of', 'IN'),\n",
       " ('clothes', 'NNS')]"
      ]
     },
     "execution_count": 28,
     "metadata": {},
     "output_type": "execute_result"
    }
   ],
   "source": [
    "text = \"The woman bought over $150,000 worth of clothes\"\n",
    "list_of_words = word_tokenize(text)\n",
    "nltk.pos_tag(list_of_words)"
   ]
  },
  {
   "cell_type": "markdown",
   "metadata": {},
   "source": [
    "A tagger can also model our knowledge of unknown words, e.g. we can guess that scrobbling is probably a verb, with the root scrobble, and likely to occur in contexts like he was scrobbling."
   ]
  },
  {
   "cell_type": "markdown",
   "metadata": {},
   "source": [
    "# Tagged Corpora\n",
    "### Representing Tagged Tokens (String -> Tuple)\n",
    "By convention in NLTK, a tagged tokes is represented using a tuple consisting of the token and a tag. We can create one of these tuples from the standard string representation of a tagged token using the *str2tuple()*"
   ]
  },
  {
   "cell_type": "code",
   "execution_count": 30,
   "metadata": {},
   "outputs": [
    {
     "data": {
      "text/plain": [
       "('fly', 'NN')"
      ]
     },
     "execution_count": 30,
     "metadata": {},
     "output_type": "execute_result"
    }
   ],
   "source": [
    "tagged_token = nltk.tag.str2tuple('fly/NN') # a word\n",
    "tagged_token"
   ]
  },
  {
   "cell_type": "markdown",
   "metadata": {},
   "source": [
    "We can construct a list of tagged tokens directly from a string. The first step is to tokenize the string to access the individual word/tag strings, and then to convert each of these into a tuple (using str2tuple() ). "
   ]
  },
  {
   "cell_type": "code",
   "execution_count": 34,
   "metadata": {},
   "outputs": [
    {
     "data": {
      "text/plain": [
       "[('The', 'AT'),\n",
       " ('grand', 'JJ'),\n",
       " ('jury', 'NN'),\n",
       " ('commented', 'VBD'),\n",
       " ('on', 'IN'),\n",
       " ('a', 'AT'),\n",
       " ('number', 'NN'),\n",
       " ('of/IN\\nother', 'AP'),\n",
       " ('topics', 'NNS'),\n",
       " (',', ','),\n",
       " ('AMONG', 'IN'),\n",
       " ('them', 'PPO'),\n",
       " ('the', 'AT'),\n",
       " ('Atlanta', 'NP'),\n",
       " ('and/CC\\nFulton', 'NP-TL'),\n",
       " ('County', 'NN-TL'),\n",
       " ('purchasing', 'VBG'),\n",
       " ('departments', 'NNS'),\n",
       " ('which', 'WDT'),\n",
       " ('it/PPS\\nsaid', 'VBD'),\n",
       " ('``', '``'),\n",
       " ('ARE', 'BER'),\n",
       " ('well', 'QL'),\n",
       " ('operated', 'VBN'),\n",
       " ('and', 'CC'),\n",
       " ('follow', 'VB'),\n",
       " ('generally/RB\\naccepted', 'VBN'),\n",
       " ('practices', 'NNS'),\n",
       " ('which', 'WDT'),\n",
       " ('inure', 'VB'),\n",
       " ('to', 'IN'),\n",
       " ('the', 'AT'),\n",
       " ('best/JJT\\ninterest', 'NN'),\n",
       " ('of', 'IN'),\n",
       " ('both', 'ABX'),\n",
       " ('governments', 'NNS'),\n",
       " (\"''\", \"''\"),\n",
       " ('.', '.\\n')]"
      ]
     },
     "execution_count": 34,
     "metadata": {},
     "output_type": "execute_result"
    }
   ],
   "source": [
    "sent = '''The/AT grand/JJ jury/NN commented/VBD on/IN a/AT number/NN of/IN\n",
    "other/AP topics/NNS ,/, AMONG/IN them/PPO the/AT Atlanta/NP and/CC\n",
    "Fulton/NP-tl County/NN-tl purchasing/VBG departments/NNS which/WDT it/PPS\n",
    "said/VBD ``/`` ARE/BER well/QL operated/VBN and/CC follow/VB generally/RB\n",
    "accepted/VBN practices/NNS which/WDT inure/VB to/IN the/AT best/JJT\n",
    "interest/NN of/IN both/ABX governments/NNS ''/'' ./.\n",
    "'''\n",
    "tagged_tokens_list = [nltk.tag.str2tuple(word_tag) for word_tag in sent.split(\" \")]\n",
    "tagged_tokens_list"
   ]
  },
  {
   "cell_type": "markdown",
   "metadata": {},
   "source": [
    "<h1> Activity 2 </h1>\n",
    "\n",
    "When working with text we often try to generate a high level overview of a corpus to determine things like its suitability for analysis and general structure/themes. There are a few ways we can do this. Let's begin with our high level analysis of the features of the text - starting with a familiar concept, term frequency!"
   ]
  },
  {
   "cell_type": "code",
   "execution_count": 37,
   "metadata": {},
   "outputs": [
    {
     "name": "stdout",
     "output_type": "stream",
     "text": [
      "Without stop words: ['like', 'dance', '.', 'fun', 'dance', '.']\n",
      "With stop words: ['i', 'like', 'to', 'dance', '.', 'it', 'is', 'fun', 'to', 'dance', '.']\n",
      "<FreqDist with 8 samples and 11 outcomes>\n"
     ]
    },
    {
     "name": "stderr",
     "output_type": "stream",
     "text": [
      "[nltk_data] Downloading package punkt to /Users/pcowe/nltk_data...\n",
      "[nltk_data]   Package punkt is already up-to-date!\n",
      "[nltk_data] Downloading package stopwords to /Users/pcowe/nltk_data...\n",
      "[nltk_data]   Package stopwords is already up-to-date!\n"
     ]
    },
    {
     "data": {
      "image/png": "[encoded data removed]",
      "text/plain": [
       "<Figure size 432x288 with 1 Axes>"
      ]
     },
     "metadata": {
      "needs_background": "light"
     },
     "output_type": "display_data"
    },
    {
     "data": {
      "image/png": "[encoded data removed]",
      "text/plain": [
       "<Figure size 432x288 with 1 Axes>"
      ]
     },
     "metadata": {
      "needs_background": "light"
     },
     "output_type": "display_data"
    },
    {
     "data": {
      "text/plain": [
       "<AxesSubplot:title={'center':'Frequency distribution without Stop Words.'}, xlabel='Samples', ylabel='Counts'>"
      ]
     },
     "execution_count": 37,
     "metadata": {},
     "output_type": "execute_result"
    }
   ],
   "source": [
    "# example two, plotting popular words\n",
    "\n",
    "import nltk\n",
    "nltk.download('punkt')\n",
    "nltk.download('stopwords')\n",
    "\n",
    "# You don't have to include stopwords. You may decide to keep them in for your analysis.\n",
    "\n",
    "from nltk.corpus import stopwords\n",
    "\n",
    "\n",
    "# Let's save some time and use a library that is fit for purpose. No point reinventing the wheel!\n",
    "from nltk.probability import FreqDist\n",
    "\n",
    "sentence=\"I like to dance. It is fun to dance.\"\n",
    "# You might also wish to 'standardise' the text to lowercase using sentence.lower(). \n",
    "# Uncomment the line below (remove the #) if you do wish to standardise.\n",
    "\n",
    "sentence = sentence.lower()\n",
    "\n",
    "tokens = nltk.tokenize.word_tokenize(sentence)\n",
    "\n",
    "# This is one way to remove stopwords\n",
    "filtered = [word for word in tokens if not word in stopwords.words()]\n",
    "print(\"Without stop words:\", filtered)\n",
    "\n",
    "f_dist = FreqDist(tokens)\n",
    "\n",
    "print(\"With stop words:\", tokens)\n",
    "print(f_dist)\n",
    "\n",
    "# We can plot the data we have in a relatively simple manner, either with or without stopwords. \n",
    "import matplotlib.pyplot as plt\n",
    "fd = nltk.FreqDist(tokens)\n",
    "\n",
    "# We will feed our plot all '8' words as a parameter for our plot. We also want to set cumulative as 'false'\n",
    "fd.plot(8,cumulative=False, title=\"Frequency distribution with Stop Words.\")\n",
    "\n",
    "fd_filtered = nltk.FreqDist(filtered)\n",
    "fd_filtered.plot(8,cumulative=False, title=\"Frequency distribution without Stop Words.\")"
   ]
  },
  {
   "cell_type": "markdown",
   "metadata": {},
   "source": [
    "<h1> Activity 3 </h1>\n",
    "<h3>Sentiment analysis is another way to contextualise words and their associated meaning. </h3>\n",
    "\n",
    "We can think of sentiment as either positive or negative, but this is a spectrum. 'Good' is not the same as 'Great.' It's good, but it's not great! I like chocolate but love coffee. If you gave me the choice of either chocolate or coffee, I'd always choose coffee!\n",
    "\n",
    "Some words perhaps do not have any sentiment at all, e.g. table, cabbage.\n",
    "\n",
    "We will use a popular library for social media data analysis to quickly calculate some metrics and see how we can turn a word into a quantifiable metric based on some predefined rules."
   ]
  },
  {
   "cell_type": "code",
   "execution_count": 4,
   "metadata": {},
   "outputs": [
    {
     "name": "stderr",
     "output_type": "stream",
     "text": [
      "[nltk_data] Downloading package vader_lexicon to\n",
      "[nltk_data]     /home/sean/nltk_data...\n",
      "[nltk_data]   Package vader_lexicon is already up-to-date!\n"
     ]
    },
    {
     "data": {
      "text/plain": [
       "{'neg': 0.374, 'neu': 0.202, 'pos': 0.424, 'compound': 0.128}"
      ]
     },
     "execution_count": 4,
     "metadata": {},
     "output_type": "execute_result"
    }
   ],
   "source": [
    "# example 4 detecting sentiment - the easy way\n",
    "\n",
    "from nltk.sentiment.vader import SentimentIntensityAnalyzer\n",
    "\n",
    "# You will also want to load the Lexicon that quantifies polar sentiment (positive/negative)\n",
    "# Again, with Python, other people have often done the heavy lifting for us!\n",
    "nltk.download('vader_lexicon')\n",
    "\n",
    "analyzer=SentimentIntensityAnalyzer()\n",
    "\n",
    "# Values live on a spectrum. Love is more extremely positive than like for example.\n",
    "sentence = \"I love sandwiches. I hate cheese.\"\n",
    "\n",
    "# Try tweaking this sentence with your own words and phrases. \n",
    "# Does the order of words matter? Can you find any surprising categorisations of +/- sentiment?\n",
    "\n",
    "analyzer.polarity_scores(sentence)"
   ]
  },
  {
   "cell_type": "markdown",
   "metadata": {},
   "source": [
    "<h1> Activity 4 </h1>\n",
    "<h3> High level visualisations for narrative </h3>\n",
    "We cover visualisations later, but let's have a look at how we might visualise some given text in a simple way.\n",
    "\n",
    "This is really helpful in the context of exploratory data analysis to give us a high level overview of words."
   ]
  },
  {
   "cell_type": "code",
   "execution_count": 11,
   "metadata": {},
   "outputs": [
    {
     "name": "stdout",
     "output_type": "stream",
     "text": [
      "I love sandwiches. I hate cheese.\n"
     ]
    },
    {
     "data": {
      "image/png": "[encoded data removed]",
      "text/plain": [
       "<Figure size 432x288 with 1 Axes>"
      ]
     },
     "metadata": {
      "needs_background": "light"
     },
     "output_type": "display_data"
    }
   ],
   "source": [
    "# example 4 final, plotting a word cloud\n",
    "\n",
    "from wordcloud import WordCloud\n",
    "\n",
    "print(sentence)\n",
    "sentence = 'I love sandwiches. I hate cheese.'\n",
    "\n",
    "# Create and generate a word cloud image:\n",
    "wordcloud = WordCloud().generate(sentence)\n",
    "\n",
    "# Display the generated image:\n",
    "plt.imshow(wordcloud, interpolation='bilinear')\n",
    "\n",
    "# bilinear interpolation is a way to spread the words out without them bumping into one another\n",
    "plt.axis(\"off\")\n",
    "plt.show()\n",
    "\n",
    "# Do you notice some words missing? Did you remove stopwords? Have a go at loading a file in.\n",
    "# Can you produce a wordcloud of some text that you are interested in analysing?"
   ]
  },
  {
   "cell_type": "markdown",
   "metadata": {},
   "source": [
    "We've seen some very simple examples of what we can do here. Use this boiletplate code to pick a 'theme' of your own. Find a dataset that contains some words and see if you can work through the data processing pipeline in the same way.\n",
    "\n",
    "Finally, see if you can share a mini analysis of your own using some or even all of the tools you have learned about."
   ]
  }
 ],
 "metadata": {
  "kernelspec": {
   "display_name": "Python 3",
   "language": "python",
   "name": "python3"
  },
  "language_info": {
   "codemirror_mode": {
    "name": "ipython",
    "version": 3
   },
   "file_extension": ".py",
   "mimetype": "text/x-python",
   "name": "python",
   "nbconvert_exporter": "python",
   "pygments_lexer": "ipython3",
   "version": "3.8.8"
  }
 },
 "nbformat": 4,
 "nbformat_minor": 4
}
