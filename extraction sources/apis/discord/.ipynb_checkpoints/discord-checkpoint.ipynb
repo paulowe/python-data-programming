{
 "cells": [
  {
   "cell_type": "markdown",
   "id": "ffaa3abd-c883-4788-a8c9-6918a49f25dc",
   "metadata": {},
   "source": [
    "<font color=\"blue\"><h2>1. Connecting to Discord For Data via Websockets</h2></font>\n",
    "Discord is an app used for real time text chat. \n",
    "\n",
    "Discord servers are set up by people and generally are focused on a certain community. We will use them to explore the NFT community as an example.\n",
    "\n",
    "Many groups and organizations have discord servers for people to chat with each other. A Discord server often has many channels,  which are different rooms that you can chat in.  \n",
    "\n",
    "A discord bot is a user in your Discord server that is controlled by a program instead of a person. You can write a python program to perform a variety of tasks such as question-answering, server management, and provide real-time services through webhooks, which opens up endless opportunities to explore a fertile ground where discussion about these NFTs happen.\n",
    "\n",
    "Note to achieve this, we will need a Developer account found [here](https://discord.com/developers/applications) \n",
    "\n",
    "Gateways are Discord's form of real-time communication over secure WebSockets"
   ]
  },
  {
   "cell_type": "code",
   "execution_count": null,
   "id": "11deb963-972a-4254-a303-bef1b6dfd45b",
   "metadata": {
    "tags": []
   },
   "outputs": [],
   "source": [
    "!pip install discord"
   ]
  },
  {
   "cell_type": "code",
   "execution_count": null,
   "id": "0a9ed9ca-7236-4f0c-87e8-3b65ff20e07b",
   "metadata": {},
   "outputs": [],
   "source": [
    "import discord # revolves around events, async library, uses callbacks\n",
    "import os"
   ]
  },
  {
   "cell_type": "code",
   "execution_count": null,
   "id": "2dca858f-bba9-4e53-b30e-fef5aac0c810",
   "metadata": {},
   "outputs": [],
   "source": [
    "# os.environ['BOT_TOKEN']='token here'"
   ]
  },
  {
   "cell_type": "code",
   "execution_count": 6,
   "id": "5259b727-f4ea-4bce-a0e8-0ad576fb0888",
   "metadata": {},
   "outputs": [],
   "source": [
    "# Initialize client\n",
    "client = discord.Client()\n",
    "\n",
    "# 1. Register an event: when bot is ready to be used\n",
    "@client.event\n",
    "async def on_ready():\n",
    "    print(f'Hello World. Logged in as {client.user}')\n",
    "\n",
    "# 2. Register an event: if messaged received\n",
    "@client.event\n",
    "async def on_message(message): # triggers each time message received, apart from if message is ours\n",
    "    if message.author == client.user:\n",
    "        return\n",
    "    elif message.content.startswith('$hello'):\n",
    "        await message.channel.send('Hello') #return message back to discord"
   ]
  },
  {
   "cell_type": "markdown",
   "id": "25568d33-4099-42b0-adf9-773487bbecc2",
   "metadata": {
    "tags": []
   },
   "source": [
    "To run async code in our consoles you first need to install the nest_asyncio package and then call it before running any of your code as described on its Readme."
   ]
  },
  {
   "cell_type": "code",
   "execution_count": 10,
   "id": "f1794b46-a4ab-406e-ae9e-a1272f718c54",
   "metadata": {},
   "outputs": [
    {
     "name": "stdout",
     "output_type": "stream",
     "text": [
      "Requirement already satisfied: nest_asyncio in /Users/pcowe/opt/anaconda3/lib/python3.8/site-packages (1.5.1)\n"
     ]
    }
   ],
   "source": [
    "!pip3 install nest_asyncio"
   ]
  },
  {
   "cell_type": "code",
   "execution_count": 11,
   "id": "4e140362-150b-4529-9df5-142cf75183c9",
   "metadata": {},
   "outputs": [],
   "source": [
    "import nest_asyncio\n",
    "nest_asyncio.apply()\n",
    "\n",
    "BOT_TOKEN = os.environ['BOT_TOKEN']"
   ]
  },
  {
   "cell_type": "code",
   "execution_count": null,
   "id": "74ac0e6f-6904-4080-95ed-34b12b06558a",
   "metadata": {},
   "outputs": [],
   "source": [
    "client.run(BOT_TOKEN)"
   ]
  },
  {
   "cell_type": "code",
   "execution_count": null,
   "id": "0ea8d5e8-684d-48e3-a502-fcd0a6ac3344",
   "metadata": {},
   "outputs": [],
   "source": []
  },
  {
   "cell_type": "code",
   "execution_count": null,
   "id": "6235e579-f4af-4a89-8a78-c0696e30468a",
   "metadata": {},
   "outputs": [],
   "source": []
  }
 ],
 "metadata": {
  "kernelspec": {
   "display_name": "Python 3",
   "language": "python",
   "name": "python3"
  },
  "language_info": {
   "codemirror_mode": {
    "name": "ipython",
    "version": 3
   },
   "file_extension": ".py",
   "mimetype": "text/x-python",
   "name": "python",
   "nbconvert_exporter": "python",
   "pygments_lexer": "ipython3",
   "version": "3.8.8"
  }
 },
 "nbformat": 4,
 "nbformat_minor": 5
}
