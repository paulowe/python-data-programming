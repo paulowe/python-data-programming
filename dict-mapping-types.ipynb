{
 "cells": [
  {
   "cell_type": "markdown",
   "source": [
    "## Mapping types - dict\n",
    "\n",
    "A mapping object maps **hashable values** (keys) to arbitrary objects (values).\n",
    "\n",
    "- Mappings are mutable objects\n",
    "- Only 1 standard mapping type, the _dictionary_\n",
    "- Dictionary keys **cannot be Non-hashable values**, that is values containing mutable types like dictionaries, and lists. This is because mutable types are compared by value rather than by object identity.\n",
    "- It is also unwise to use numeric data types as dictionary keys\n"
   ],
   "metadata": {}
  },
  {
   "cell_type": "code",
   "execution_count": 17,
   "source": [
    "futures_merchant_agent = {\"node_name\":\"future_ai_merchant_1\", \n",
    "\"description\": \"Self healing node (through Kubernetes). It is responsible for accepting orders to buy or sell futures contracts\"\n",
    "}\n",
    "#or\n",
    "futures_merchant_monitor = dict(service_node=[futures_merchant_agent], desc=\"How to receive agent name and other attributes from else where in one monitoring agent object ready for processing\")\n",
    "\n",
    "print(futures_merchant_agent)\n",
    "type(futures_merchant_agent)\n",
    "print(futures_merchant_monitor)\n"
   ],
   "outputs": [
    {
     "output_type": "stream",
     "name": "stdout",
     "text": [
      "{'node_name': 'future_ai_merchant_1', 'description': 'Self healing node (through Kubernetes). It is responsible for accepting orders to buy or sell futures contracts'}\n",
      "{'service_node': [{'node_name': 'future_ai_merchant_1', 'description': 'Self healing node (through Kubernetes). It is responsible for accepting orders to buy or sell futures contracts'}], 'desc': 'How to receive agent name and other attributes from else where in one monitoring agent object ready for processing'}\n"
     ]
    }
   ],
   "metadata": {}
  },
  {
   "cell_type": "code",
   "execution_count": 12,
   "source": [
    "# Dict comprehension\n",
    "dict_comprehension = {x: x ** 2 for x in range(10)}\n",
    "dict_comprehension"
   ],
   "outputs": [
    {
     "output_type": "execute_result",
     "data": {
      "text/plain": [
       "{0: 0, 1: 1, 2: 4, 3: 9, 4: 16, 5: 25, 6: 36, 7: 49, 8: 64, 9: 81}"
      ]
     },
     "metadata": {},
     "execution_count": 12
    }
   ],
   "metadata": {}
  },
  {
   "cell_type": "code",
   "execution_count": 13,
   "source": [
    "# Dict comprehension\n",
    "dict_comprehension_two = dict(num_active_connections=100, node_intelligence_score=200)\n",
    "dict_comprehension_two"
   ],
   "outputs": [
    {
     "output_type": "execute_result",
     "data": {
      "text/plain": [
       "{'num_active_connections': 100, 'node_intelligence_score': 200}"
      ]
     },
     "metadata": {},
     "execution_count": 13
    }
   ],
   "metadata": {}
  },
  {
   "cell_type": "code",
   "execution_count": null,
   "source": [],
   "outputs": [],
   "metadata": {}
  }
 ],
 "metadata": {
  "orig_nbformat": 4,
  "language_info": {
   "name": "python",
   "version": "3.9.0",
   "mimetype": "text/x-python",
   "codemirror_mode": {
    "name": "ipython",
    "version": 3
   },
   "pygments_lexer": "ipython3",
   "nbconvert_exporter": "python",
   "file_extension": ".py"
  },
  "kernelspec": {
   "name": "python3",
   "display_name": "Python 3.9.0 64-bit"
  },
  "interpreter": {
   "hash": "aee8b7b246df8f9039afb4144a1f6fd8d2ca17a180786b69acc140d282b71a49"
  }
 },
 "nbformat": 4,
 "nbformat_minor": 2
}