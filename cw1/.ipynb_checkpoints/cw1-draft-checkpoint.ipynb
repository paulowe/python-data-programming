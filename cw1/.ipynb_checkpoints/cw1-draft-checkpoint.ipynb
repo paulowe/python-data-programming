{
 "cells": [
  {
   "cell_type": "markdown",
   "id": "ad539f62-2fcc-4a60-af71-6d9e5239c598",
   "metadata": {},
   "source": [
    "People's Interest Network\n",
    "\n",
    "People share lifestyle choices in social media\n",
    "# 1. Introduction and Motivation\n",
    "\n",
    "Many authoritative sources online such as Statista rank Google, Youtube, Facebook and Wikipedia.org as the most popular sites users visit. \n",
    "\n",
    "These are some of the most visited sites. Even though the\n",
    "\n",
    "This is what motivates me to collect as much information as I can from these\n",
    "\n",
    "I am fascinated about consumer analytics. KYC research\n",
    "\n",
    "As we will see, I will be attempting to perform Entity linking across sites. \n",
    "\n",
    "The objective is to understand and piece up even the mundane details about a persons habits, behaviors overtime.\n",
    "\n",
    "\n",
    "\n",
    "\n",
    "This EDA is for the purpose of\n",
    "- Analyzing distributions from the data (mean, median, standard deviation, histograms, Cumulative distribution fnctions CDFS, Quantile-Quantile plots) to detect multimodal behavior, or a significant class of outliers. With accompanying p-value calculations\n",
    "\n",
    "- Consider outliers to prevent misconstrued analysis. \n",
    "\n",
    "- Consider noise.\n",
    "\n",
    "Describe the context in which the data was collected. \n",
    "- Time ranges\n",
    "- Significant events (Precovid vs Covid, around movements)\n",
    "Convince TA that we did not spot any bad configurations or population restrictions (e.g Data only for chrome users)\n",
    "\n",
    "\n",
    "\n"
   ]
  },
  {
   "cell_type": "markdown",
   "id": "785c5118-47ee-4089-aa80-d4c634fbbf23",
   "metadata": {
    "tags": []
   },
   "source": [
    "# 1. Data gathering\n",
    "\n",
    "There are various data sources I am considering in order  is obtained from a reliable and data ecosystem. I intend to leverage on Google's world class .... to augment and realize the full potential of my analytic "
   ]
  },
  {
   "cell_type": "code",
   "execution_count": 6,
   "id": "ffcf9515-28a0-404d-8489-15ac4fc8a3c4",
   "metadata": {},
   "outputs": [],
   "source": [
    "import urllib.request\n",
    "\n",
    "with urllib.request.urlopen('http://python.org/') as response:\n",
    "    # Read and return up to n bytes\n",
    "    html = response.read()\n",
    "#     print(html)"
   ]
  },
  {
   "cell_type": "code",
   "execution_count": null,
   "id": "4a5a3c82-16cb-4db3-8d9f-108a07ea565a",
   "metadata": {},
   "outputs": [],
   "source": [
    "# retrieve resource via URL and store in temp locations\n",
    "import shutil\n",
    "import tempfile\n",
    "import urllib.request\n",
    "\n",
    "with urllib.request.urlopen('http://python.org/') as response:\n",
    "    with tempfile.NamedTemporaryFile(delete=False)"
   ]
  },
  {
   "cell_type": "markdown",
   "id": "00eba669-356d-4869-bf7f-c7d073087254",
   "metadata": {
    "tags": []
   },
   "source": [
    "# Filtering data\n",
    "Rationale behind\n",
    "\n",
    "- Specify what filtering\n",
    "\n",
    "- Counts of data being filtered at each step. Comptue all your metrics and answer questions like, What fraction of X did this filtering remove?"
   ]
  },
  {
   "cell_type": "markdown",
   "id": "d38b851f-40f1-494b-bd63-0bd39ac9767a",
   "metadata": {},
   "source": [
    "# Data Validation\n",
    "- Validation: Is the data self-consistent. Does it repesent what I think it does? \n",
    "- Before answering the question you are interested in, rule out any other variability (did numbers of users change, did right number of affected queries show p"
   ]
  },
  {
   "cell_type": "markdown",
   "id": "5a84c700-f148-4334-9e31-fbb1e411b524",
   "metadata": {},
   "source": [
    "# Analyzing distributions"
   ]
  },
  {
   "cell_type": "markdown",
   "id": "09aabea1-7ffc-4228-a0ba-8404033a70b1",
   "metadata": {},
   "source": [
    "# Outlier and Noise analysis\n"
   ]
  },
  {
   "cell_type": "markdown",
   "id": "9e9f477d-7e13-4b72-985b-a29725cffc9c",
   "metadata": {},
   "source": [
    "# Analysis\n",
    "- Analysis\n",
    "- Sample your data\n",
    "- Slice your data (into preferably equal sized subgroups) along dimensions that are likely to work differently (e.g time in Days. Look at day-over-day), or even work the same and compare for internal consistency. AVOID Simpson's Paradox\n",
    "- Analyze variation/ day-over-day graphs\n",
    "- Filter your data"
   ]
  },
  {
   "cell_type": "markdown",
   "id": "3615975b-5226-4452-91e2-ef94ec19246e",
   "metadata": {},
   "source": [
    "# Meaure twice, or more (in multiple ways)\n",
    "- Better to use differen data sources for measrements\n",
    "- Compare network with Exisiting network models \n",
    "- Check for reproducibility (slicing and consistency over time)\n",
    "- Use different time ranges or random sub samples of data to tell you how reliable/reproducible the model is (if theres a model) \n",
    "- Confirmatory analysis"
   ]
  },
  {
   "cell_type": "markdown",
   "id": "c7410d39-f0a3-4502-84d3-22d5b09013c4",
   "metadata": {},
   "source": [
    "# Evaluation of the data"
   ]
  },
  {
   "cell_type": "markdown",
   "id": "49914fb5-3a57-4a4a-9339-c3a236996f07",
   "metadata": {},
   "source": [
    "# Monitoring of Feedback"
   ]
  },
  {
   "cell_type": "markdown",
   "id": "37b19452-19c5-4414-850e-906d7522d887",
   "metadata": {},
   "source": [
    "References\n",
    "\n",
    "[Multimodal Entity Linking on Twitter](https://link.springer.com/chapter/10.1007/978-3-030-45439-5_31)"
   ]
  }
 ],
 "metadata": {
  "kernelspec": {
   "display_name": "Python 3",
   "language": "python",
   "name": "python3"
  },
  "language_info": {
   "codemirror_mode": {
    "name": "ipython",
    "version": 3
   },
   "file_extension": ".py",
   "mimetype": "text/x-python",
   "name": "python",
   "nbconvert_exporter": "python",
   "pygments_lexer": "ipython3",
   "version": "3.8.8"
  }
 },
 "nbformat": 4,
 "nbformat_minor": 5
}
