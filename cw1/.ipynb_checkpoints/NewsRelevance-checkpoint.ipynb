{
 "cells": [
  {
   "cell_type": "markdown",
   "id": "edb5850f-8552-4a7a-b469-93a73600724a",
   "metadata": {},
   "source": [
    "In this section, I will demonstrate how we can discover details of [SUBJECT] by building a graph. This will be our knowledge graph. A knowledge graph organizes information into an ontology. \n",
    "\n",
    "It turns out many real networks .. By choosing this model we can leverage many graph algorithms and perform interesting tasks\n",
    "\n",
    "In this case, We will monitor for articles that refer to [SUBJECT] and other relevant [SUBJECTS] \n",
    "\n",
    "We will perform the following tasks to achieve the above described objective\n",
    "\n",
    "1. Build the graph through Triples extraction\n",
    "2. Extract infomration from news\n",
    "3. Add news data to the knowledge graph\n",
    "4. Make inferences\n",
    "\n",
    "We use Qwikdata pacakge to query for information about [SUBJECT] from Wikidata.\n",
    "\n",
    "\n",
    "## 1. Imports"
   ]
  },
  {
   "cell_type": "code",
   "execution_count": 1,
   "id": "4761524b-e49b-4169-b524-f72ba1abe038",
   "metadata": {},
   "outputs": [
    {
     "name": "stdout",
     "output_type": "stream",
     "text": [
      "Collecting qwikidata\n",
      "  Downloading qwikidata-0.4.0-py3-none-any.whl (20 kB)\n",
      "Requirement already satisfied: requests in /Users/pcowe/opt/anaconda3/lib/python3.8/site-packages (from qwikidata) (2.26.0)\n",
      "Requirement already satisfied: mypy-extensions in /Users/pcowe/opt/anaconda3/lib/python3.8/site-packages (from qwikidata) (0.4.3)\n",
      "Requirement already satisfied: certifi>=2017.4.17 in /Users/pcowe/opt/anaconda3/lib/python3.8/site-packages (from requests->qwikidata) (2021.5.30)\n",
      "Requirement already satisfied: charset-normalizer~=2.0.0 in /Users/pcowe/opt/anaconda3/lib/python3.8/site-packages (from requests->qwikidata) (2.0.4)\n",
      "Requirement already satisfied: urllib3<1.27,>=1.21.1 in /Users/pcowe/opt/anaconda3/lib/python3.8/site-packages (from requests->qwikidata) (1.26.6)\n",
      "Requirement already satisfied: idna<4,>=2.5 in /Users/pcowe/opt/anaconda3/lib/python3.8/site-packages (from requests->qwikidata) (3.2)\n",
      "Installing collected packages: qwikidata\n",
      "Successfully installed qwikidata-0.4.0\n"
     ]
    }
   ],
   "source": [
    "!pip install qwikidata"
   ]
  },
  {
   "cell_type": "markdown",
   "id": "0b215534-2fd0-4dc9-bb1c-4ba445930045",
   "metadata": {},
   "source": [
    "## Triples Extraction from WikiData\n",
    "Given a list of [SUBJECTS] and a list of predicates we are interested in, let's write a function that will extract the list of (subject, predicate, object) triples."
   ]
  },
  {
   "cell_type": "code",
   "execution_count": 15,
   "id": "761acc18-f4b7-44ae-9ed7-ef5ff5084397",
   "metadata": {},
   "outputs": [],
   "source": [
    "#Imports\n",
    "import numpy as np\n",
    "import pandas as pd\n",
    "import matplotlib.pyplot as plt\n",
    "\n",
    "from qwikidata.entity import WikidataItem, WikidataLexeme, WikidataProperty\n",
    "from qwikidata.linked_data_interface import get_entity_dict_from_api\n",
    "\n",
    "# Progress bar\n",
    "from tqdm.notebook import tqdm"
   ]
  },
  {
   "cell_type": "markdown",
   "id": "bff835ef-148f-44e7-8734-b4b3e91ed692",
   "metadata": {},
   "source": [
    "Lets write a function that takes in the list of companies we want to consider as well as the relationships (predicates) these companies have with other entities. The function should retunr the (subject, predicate, object) triples, where the subject is the company. For example, we would like:"
   ]
  },
  {
   "cell_type": "code",
   "execution_count": 16,
   "id": "6ce57e69-87cc-410b-a173-150f7277dde6",
   "metadata": {},
   "outputs": [],
   "source": [
    "# List of Companies\n",
    "KG_financial = [\"Amazon\", \"Bitcoin\", \"Bank of Montreal\", \"Ethereum\", \"Adastra Corporation\", \"Polygon\", \"Goldman Sachs\", \"Bloomberg\", \"Google\", \"TD\", \"Apple\", \"Tesla\", \"CME\"]\n"
   ]
  },
  {
   "cell_type": "code",
   "execution_count": 12,
   "id": "f6ab4937-2c14-4df6-bf30-bb7ede76af6e",
   "metadata": {},
   "outputs": [],
   "source": [
    "def get_triples_from_wikidata(companies_list, predicate_list):\n",
    "    \"\"\"\n",
    "    Inputs: subject_list - a list of companies, Q id.\n",
    "            predicate_list - a list of predicates, P id\n",
    "    Outputs: (company, predicate, object) triples\n",
    "    \"\"\"\n",
    "    subjects, predicates, objects = [], [], []\n",
    "    # For each subject id, tqdm is for flex\n",
    "    for Q_id in tqdm(companies_list):\n",
    "        print(companies_list)\n",
    "        Q_company = WikidataItem(get_entity_dict_from_api(Q_id))\n",
    "        for predicate in predicate_list:\n",
    "            #What is this\n",
    "            for claim in Q_company.get_claim_group(predicate):\n",
    "                \n",
    "                object_id = claim.mansnak.datavalue.value[\"id\"]\n",
    "                object_entity = WikidataItem(get_entity_dict_from_api(object_id))\n",
    "                \n",
    "                subjects.append(Q_company.get_label())\n",
    "                # What is this?\n",
    "                predicate_property = WikidataProperty(get_entity_dict_from_api(predicate))\n",
    "                \n",
    "                predicates.append(predicate_property)\n",
    "    "
   ]
  },
  {
   "cell_type": "code",
   "execution_count": 17,
   "id": "41b23af0-1ee5-4530-8b2f-dfdf0f11cd2a",
   "metadata": {},
   "outputs": [
    {
     "data": {
      "application/vnd.jupyter.widget-view+json": {
       "model_id": "74eeecf017524dc780a9ba63c0cc3880",
       "version_major": 2,
       "version_minor": 0
      },
      "text/plain": [
       "  0%|          | 0/12 [00:00<?, ?it/s]"
      ]
     },
     "metadata": {},
     "output_type": "display_data"
    },
    {
     "data": {
      "application/vnd.jupyter.widget-view+json": {
       "model_id": "737a4a7ab01a41399201a9bdd513f675",
       "version_major": 2,
       "version_minor": 0
      },
      "text/plain": [
       "  0%|          | 0/12 [00:00<?, ?it/s]"
      ]
     },
     "metadata": {},
     "output_type": "display_data"
    },
    {
     "name": "stdout",
     "output_type": "stream",
     "text": [
      "  0%|          | 0/12 [00:00<?, ?it/s]\n"
     ]
    },
    {
     "ename": "TypeError",
     "evalue": "__init__() missing 1 required positional argument: 'item_dict'",
     "output_type": "error",
     "traceback": [
      "\u001b[0;31m---------------------------------------------------------------------------\u001b[0m",
      "\u001b[0;31mTypeError\u001b[0m                                 Traceback (most recent call last)",
      "\u001b[0;32m<ipython-input-17-5c06c2415f39>\u001b[0m in \u001b[0;36m<module>\u001b[0;34m\u001b[0m\n\u001b[1;32m      1\u001b[0m \u001b[0;32mfor\u001b[0m \u001b[0mQ_id\u001b[0m \u001b[0;32min\u001b[0m \u001b[0mtqdm\u001b[0m\u001b[0;34m(\u001b[0m\u001b[0mfinancial_projects\u001b[0m\u001b[0;34m)\u001b[0m\u001b[0;34m:\u001b[0m\u001b[0;34m\u001b[0m\u001b[0;34m\u001b[0m\u001b[0m\n\u001b[1;32m      2\u001b[0m         \u001b[0mprint\u001b[0m\u001b[0;34m(\u001b[0m\u001b[0mtqdm\u001b[0m\u001b[0;34m(\u001b[0m\u001b[0mfinancial_projects\u001b[0m\u001b[0;34m)\u001b[0m\u001b[0;34m)\u001b[0m\u001b[0;34m\u001b[0m\u001b[0;34m\u001b[0m\u001b[0m\n\u001b[0;32m----> 3\u001b[0;31m         \u001b[0mQ_company\u001b[0m \u001b[0;34m=\u001b[0m \u001b[0mWikidataItem\u001b[0m\u001b[0;34m(\u001b[0m\u001b[0;34m)\u001b[0m\u001b[0;34m\u001b[0m\u001b[0;34m\u001b[0m\u001b[0m\n\u001b[0m\u001b[1;32m      4\u001b[0m \u001b[0;34m\u001b[0m\u001b[0m\n",
      "\u001b[0;31mTypeError\u001b[0m: __init__() missing 1 required positional argument: 'item_dict'"
     ]
    }
   ],
   "source": [
    "for Q_id in tqdm(companies_list):\n",
    "        print(tqdm(companies_list))\n",
    "        Q_company = WikidataItem()\n",
    "    "
   ]
  },
  {
   "cell_type": "code",
   "execution_count": null,
   "id": "6117fbbf-279f-410f-b2a7-dffbd619bd46",
   "metadata": {},
   "outputs": [],
   "source": []
  }
 ],
 "metadata": {
  "kernelspec": {
   "display_name": "Python 3",
   "language": "python",
   "name": "python3"
  },
  "language_info": {
   "codemirror_mode": {
    "name": "ipython",
    "version": 3
   },
   "file_extension": ".py",
   "mimetype": "text/x-python",
   "name": "python",
   "nbconvert_exporter": "python",
   "pygments_lexer": "ipython3",
   "version": "3.8.8"
  }
 },
 "nbformat": 4,
 "nbformat_minor": 5
}
