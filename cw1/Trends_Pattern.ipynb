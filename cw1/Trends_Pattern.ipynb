{
  "nbformat": 4,
  "nbformat_minor": 0,
  "metadata": {
    "colab": {
      "name": "Trends_Pattern.ipynb",
      "provenance": [],
      "collapsed_sections": []
    },
    "kernelspec": {
      "name": "python3",
      "display_name": "Python 3"
    },
    "language_info": {
      "name": "python"
    }
  },
  "cells": [
    {
      "cell_type": "markdown",
      "metadata": {
        "id": "mluy6GcC8HBf"
      },
      "source": [
        "# Stay up to date on the latest trends with publicly available Google Trends data in BigQuery and the wiki API"
      ]
    },
    {
      "cell_type": "markdown",
      "metadata": {
        "id": "xcLnpc-Y8It8"
      },
      "source": [
        "This notebook provides some example code for running a BigQuery query to determine new rising search terms. We then use those terms as input for the wikipedia API to see if any of the terms are names of singers. You can use this code to develop a cloud function that runs each night to tell you if any new singers are trending!"
      ]
    },
    {
      "cell_type": "markdown",
      "metadata": {
        "id": "36PhfoM789Mw"
      },
      "source": [
        "Import libraries and authenticate into Google Cloud\n"
      ]
    },
    {
      "cell_type": "code",
      "metadata": {
        "id": "Tdx5CXKVlFQU",
        "colab": {
          "base_uri": "https://localhost:8080/"
        },
        "outputId": "74c995a8-f2cb-4c42-8fda-5317391995f3"
      },
      "source": [
        "import requests\n",
        "import urllib\n",
        "import time\n",
        "from google.colab import auth\n",
        "auth.authenticate_user()\n",
        "print('Authenticated')"
      ],
      "execution_count": null,
      "outputs": [
        {
          "output_type": "stream",
          "text": [
            "Authenticated\n"
          ],
          "name": "stdout"
        }
      ]
    },
    {
      "cell_type": "code",
      "metadata": {
        "id": "YV7D2t5fl1mw",
        "colab": {
          "base_uri": "https://localhost:8080/"
        },
        "outputId": "584644a0-a3af-4a19-ef4c-70c098025e7e"
      },
      "source": [
        "%load_ext google.colab.data_table"
      ],
      "execution_count": null,
      "outputs": [
        {
          "output_type": "stream",
          "text": [
            "The google.colab.data_table extension is already loaded. To reload it, use:\n",
            "  %reload_ext google.colab.data_table\n"
          ],
          "name": "stdout"
        }
      ]
    },
    {
      "cell_type": "markdown",
      "metadata": {
        "id": "DyKiZDjj9Jb4"
      },
      "source": [
        "Find new terms"
      ]
    },
    {
      "cell_type": "code",
      "metadata": {
        "id": "yOzYk3BNuZMr"
      },
      "source": [
        "%%bigquery df\n",
        "# select new search terms from the table\n",
        "select distinct term from `bigquery-public-data.google_trends.top_rising_terms`\n",
        "where refresh_date = DATE_SUB(CURRENT_DATE(), INTERVAL 1 DAY)"
      ],
      "execution_count": null,
      "outputs": []
    },
    {
      "cell_type": "code",
      "metadata": {
        "colab": {
          "base_uri": "https://localhost:8080/",
          "height": 614
        },
        "id": "-Fx94UQDxW80",
        "outputId": "f98b2748-5384-47d0-d299-533649a9c689"
      },
      "source": [
        "df"
      ],
      "execution_count": null,
      "outputs": [
        {
          "output_type": "execute_result",
          "data": {
            "application/vnd.google.colaboratory.module+javascript": "\n      import \"https://ssl.gstatic.com/colaboratory/data_table/a6224c040fa35dcf/data_table.js\";\n\n      window.createDataTable({\n        data: [[{\n            'v': 0,\n            'f': \"0\",\n        },\n\"conor mcgregor injury\"],\n [{\n            'v': 1,\n            'f': \"1\",\n        },\n\"usa vs nigeria basketball\"],\n [{\n            'v': 2,\n            'f': \"2\",\n        },\n\"who won the mcgregor fight\"],\n [{\n            'v': 3,\n            'f': \"3\",\n        },\n\"england vs italy\"],\n [{\n            'v': 4,\n            'f': \"4\",\n        },\n\"england italy\"],\n [{\n            'v': 5,\n            'f': \"5\",\n        },\n\"ufc 264 results\"],\n [{\n            'v': 6,\n            'f': \"6\",\n        },\n\"crackstreams\"],\n [{\n            'v': 7,\n            'f': \"7\",\n        },\n\"virgin galactic launch\"],\n [{\n            'v': 8,\n            'f': \"8\",\n        },\n\"virgin galactic\"],\n [{\n            'v': 9,\n            'f': \"9\",\n        },\n\"richard branson\"],\n [{\n            'v': 10,\n            'f': \"10\",\n        },\n\"who won the conor mcgregor fight\"],\n [{\n            'v': 11,\n            'f': \"11\",\n        },\n\"mexico vs trinidad y tobago\"],\n [{\n            'v': 12,\n            'f': \"12\",\n        },\n\"ronald acuna\"],\n [{\n            'v': 13,\n            'f': \"13\",\n        },\n\"usa basketball\"],\n [{\n            'v': 14,\n            'f': \"14\",\n        },\n\"who won mcgregor vs poirier 3\"],\n [{\n            'v': 15,\n            'f': \"15\",\n        },\n\"greg hardy\"],\n [{\n            'v': 16,\n            'f': \"16\",\n        },\n\"streameast\"],\n [{\n            'v': 17,\n            'f': \"17\",\n        },\n\"conor mcgregor vs dustin poirier\"],\n [{\n            'v': 18,\n            'f': \"18\",\n        },\n\"conor mcgregor\"],\n [{\n            'v': 19,\n            'f': \"19\",\n        },\n\"dustin poirier wife\"],\n [{\n            'v': 20,\n            'f': \"20\",\n        },\n\"dustin poirier\"],\n [{\n            'v': 21,\n            'f': \"21\",\n        },\n\"team usa basketball\"],\n [{\n            'v': 22,\n            'f': \"22\",\n        },\n\"mcgregor\"],\n [{\n            'v': 23,\n            'f': \"23\",\n        },\n\"poirier vs mcgregor 3\"],\n [{\n            'v': 24,\n            'f': \"24\",\n        },\n\"england soccer\"]],\n        columns: [[\"number\", \"index\"], [\"string\", \"term\"]],\n        columnOptions: [{\"width\": \"1px\", \"className\": \"index_column\"}],\n        rowsPerPage: 25,\n        helpUrl: \"https://colab.research.google.com/notebooks/data_table.ipynb\",\n        suppressOutputScrolling: true,\n        minimumWidth: undefined,\n      });\n    ",
            "text/html": [
              "<div>\n",
              "<style scoped>\n",
              "    .dataframe tbody tr th:only-of-type {\n",
              "        vertical-align: middle;\n",
              "    }\n",
              "\n",
              "    .dataframe tbody tr th {\n",
              "        vertical-align: top;\n",
              "    }\n",
              "\n",
              "    .dataframe thead th {\n",
              "        text-align: right;\n",
              "    }\n",
              "</style>\n",
              "<table border=\"1\" class=\"dataframe\">\n",
              "  <thead>\n",
              "    <tr style=\"text-align: right;\">\n",
              "      <th></th>\n",
              "      <th>term</th>\n",
              "    </tr>\n",
              "  </thead>\n",
              "  <tbody>\n",
              "    <tr>\n",
              "      <th>0</th>\n",
              "      <td>conor mcgregor injury</td>\n",
              "    </tr>\n",
              "    <tr>\n",
              "      <th>1</th>\n",
              "      <td>usa vs nigeria basketball</td>\n",
              "    </tr>\n",
              "    <tr>\n",
              "      <th>2</th>\n",
              "      <td>who won the mcgregor fight</td>\n",
              "    </tr>\n",
              "    <tr>\n",
              "      <th>3</th>\n",
              "      <td>england vs italy</td>\n",
              "    </tr>\n",
              "    <tr>\n",
              "      <th>4</th>\n",
              "      <td>england italy</td>\n",
              "    </tr>\n",
              "    <tr>\n",
              "      <th>5</th>\n",
              "      <td>ufc 264 results</td>\n",
              "    </tr>\n",
              "    <tr>\n",
              "      <th>6</th>\n",
              "      <td>crackstreams</td>\n",
              "    </tr>\n",
              "    <tr>\n",
              "      <th>7</th>\n",
              "      <td>virgin galactic launch</td>\n",
              "    </tr>\n",
              "    <tr>\n",
              "      <th>8</th>\n",
              "      <td>virgin galactic</td>\n",
              "    </tr>\n",
              "    <tr>\n",
              "      <th>9</th>\n",
              "      <td>richard branson</td>\n",
              "    </tr>\n",
              "    <tr>\n",
              "      <th>10</th>\n",
              "      <td>who won the conor mcgregor fight</td>\n",
              "    </tr>\n",
              "    <tr>\n",
              "      <th>11</th>\n",
              "      <td>mexico vs trinidad y tobago</td>\n",
              "    </tr>\n",
              "    <tr>\n",
              "      <th>12</th>\n",
              "      <td>ronald acuna</td>\n",
              "    </tr>\n",
              "    <tr>\n",
              "      <th>13</th>\n",
              "      <td>usa basketball</td>\n",
              "    </tr>\n",
              "    <tr>\n",
              "      <th>14</th>\n",
              "      <td>who won mcgregor vs poirier 3</td>\n",
              "    </tr>\n",
              "    <tr>\n",
              "      <th>15</th>\n",
              "      <td>greg hardy</td>\n",
              "    </tr>\n",
              "    <tr>\n",
              "      <th>16</th>\n",
              "      <td>streameast</td>\n",
              "    </tr>\n",
              "    <tr>\n",
              "      <th>17</th>\n",
              "      <td>conor mcgregor vs dustin poirier</td>\n",
              "    </tr>\n",
              "    <tr>\n",
              "      <th>18</th>\n",
              "      <td>conor mcgregor</td>\n",
              "    </tr>\n",
              "    <tr>\n",
              "      <th>19</th>\n",
              "      <td>dustin poirier wife</td>\n",
              "    </tr>\n",
              "    <tr>\n",
              "      <th>20</th>\n",
              "      <td>dustin poirier</td>\n",
              "    </tr>\n",
              "    <tr>\n",
              "      <th>21</th>\n",
              "      <td>team usa basketball</td>\n",
              "    </tr>\n",
              "    <tr>\n",
              "      <th>22</th>\n",
              "      <td>mcgregor</td>\n",
              "    </tr>\n",
              "    <tr>\n",
              "      <th>23</th>\n",
              "      <td>poirier vs mcgregor 3</td>\n",
              "    </tr>\n",
              "    <tr>\n",
              "      <th>24</th>\n",
              "      <td>england soccer</td>\n",
              "    </tr>\n",
              "  </tbody>\n",
              "</table>\n",
              "</div>"
            ],
            "text/plain": [
              "                                term\n",
              "0              conor mcgregor injury\n",
              "1          usa vs nigeria basketball\n",
              "2         who won the mcgregor fight\n",
              "3                   england vs italy\n",
              "4                      england italy\n",
              "5                    ufc 264 results\n",
              "6                       crackstreams\n",
              "7             virgin galactic launch\n",
              "8                    virgin galactic\n",
              "9                    richard branson\n",
              "10  who won the conor mcgregor fight\n",
              "11       mexico vs trinidad y tobago\n",
              "12                      ronald acuna\n",
              "13                    usa basketball\n",
              "14     who won mcgregor vs poirier 3\n",
              "15                        greg hardy\n",
              "16                        streameast\n",
              "17  conor mcgregor vs dustin poirier\n",
              "18                    conor mcgregor\n",
              "19               dustin poirier wife\n",
              "20                    dustin poirier\n",
              "21               team usa basketball\n",
              "22                          mcgregor\n",
              "23             poirier vs mcgregor 3\n",
              "24                    england soccer"
            ]
          },
          "metadata": {
            "tags": []
          },
          "execution_count": 80
        }
      ]
    },
    {
      "cell_type": "markdown",
      "metadata": {
        "id": "G_jTRVD5CU66"
      },
      "source": [
        "Create Helper Functions"
      ]
    },
    {
      "cell_type": "code",
      "metadata": {
        "id": "Jxs1fB9jxMLd"
      },
      "source": [
        "def add_url_params(url, param,term):\n",
        "  # parse the url\n",
        "  parsed = urllib.parse.urlparse(url)\n",
        "\n",
        "  # convert query sting into dict\n",
        "  parsed_get_args = dict(urllib.parse.parse_qsl(parsed.query))\n",
        "\n",
        "  # add in the new param\n",
        "  params = {param:term}\n",
        "  parsed_get_args.update(params)\n",
        "\n",
        "  # encode new query string and subsitute old query string with new one - return the new formatted ur;\n",
        "  encoded_get_args =  urllib.parse.urlencode(parsed_get_args, doseq=True)\n",
        "  newurl = urllib.parse.urlunparse([encoded_get_args if i == 4 else x for i,x in enumerate(parsed)])\n",
        "  \n",
        "  return newurl"
      ],
      "execution_count": null,
      "outputs": []
    },
    {
      "cell_type": "code",
      "metadata": {
        "id": "8gKWTO6yvD0J"
      },
      "source": [
        "def is_singer(term):\n",
        "  # to avoid hitting any limits\n",
        "  time.sleep(2)\n",
        "\n",
        "  # get the formatted search url for term and post\n",
        "  search_url = add_url_params('https://en.wikipedia.org/w/api.php?action=opensearch&limit=1&namespace=0&format=json','search',term)\n",
        "  s_resp = requests.post(search_url)\n",
        "  \n",
        "  # get the wiki page title from the response\n",
        "  try:\n",
        "    page_title = s_resp.json()[-1][0].split('/')[-1]\n",
        "  except:\n",
        "    return False\n",
        "  \n",
        "  # get the formatted url for getting content of page and post\n",
        "  page_url = add_url_params('https://en.wikipedia.org/w/api.php?action=query&prop=extracts&exintro&format=json','titles',page_title)\n",
        "  p_resp = requests.post(page_url)\n",
        "  \n",
        "  # extract first line from the HTML and return true if singer is listed\n",
        "  try:\n",
        "    pages = p_resp.json()['query']['pages']\n",
        "    first_line = pages[list(pages.keys())[0]]['extract'].split('.')[0]\n",
        "    print(first_line)\n",
        "  except:\n",
        "    return False\n",
        "  \n",
        "  return 'singer' in first_line.lower()"
      ],
      "execution_count": null,
      "outputs": []
    },
    {
      "cell_type": "markdown",
      "metadata": {
        "id": "C1n89WI2CYsh"
      },
      "source": [
        "For each term, determine if they're a singer"
      ]
    },
    {
      "cell_type": "code",
      "metadata": {
        "colab": {
          "base_uri": "https://localhost:8080/"
        },
        "id": "jtH8_7GQ9y4X",
        "outputId": "ef7bc4c4-900a-4864-a32a-f76727095cbb"
      },
      "source": [
        "df['is_singer'] = df['term'].apply(lambda x: is_singer(x))"
      ],
      "execution_count": null,
      "outputs": [
        {
          "output_type": "stream",
          "text": [
            "<!-- \n",
            "NewPP limit report\n",
            "Parsed by mw2298\n",
            "Cached time: 20210712135500\n",
            "Cache expiry: 1814400\n",
            "Reduced expiry: false\n",
            "Complications: []\n",
            "CPU time usage: 0\n",
            "<p><b>Virgin Galactic</b> (VG) is a British-American spaceflight company that operates in the United States\n",
            "<p class=\"mw-empty-elt\">\n",
            "</p>\n",
            "\n",
            "\n",
            "<p class=\"mw-empty-elt\">\n",
            "\n",
            "</p>\n",
            "<p><b>Sir Richard Charles Nicholas Branson</b> (born 18 July 1950) is an English business magnate, adventurer, investor, author, and commercial astronaut\n",
            "<p><b>USA Basketball</b> (<b>USAB</b>) is a non-profit organization and the governing body for basketball in the United States\n",
            "<p class=\"mw-empty-elt\">\n",
            "</p>\n",
            "\n",
            "<p><b>Gregory McKarl Hardy</b> (born July 28, 1988) is an American mixed martial artist and former American football defensive end\n",
            "<p><b>StreamCast Networks</b>, Inc\n",
            "<p class=\"mw-empty-elt\">\n",
            "\n",
            "\n",
            "</p>\n",
            "<p><b>Conor Anthony McGregor</b> (Irish: <i lang=\"ga\">Conchúr Antóin Mac Gréagóir</i>; born 14 July 1988) is an Irish mixed martial artist, boxer, and businessman\n",
            "<p class=\"mw-empty-elt\">\n",
            "</p>\n",
            "\n",
            "<p><b>Dustin Glenn Poirier</b> (born January 19, 1989) is an American professional mixed martial artist and philanthropist\n",
            "<!-- \n",
            "NewPP limit report\n",
            "Parsed by mw2299\n",
            "Cached time: 20210712135513\n",
            "Cache expiry: 1814400\n",
            "Reduced expiry: false\n",
            "Complications: []\n",
            "CPU time usage: 0\n",
            "<p><b>McGregor</b> existed on the northeast side of the Fraser River 2\n",
            "<!-- \n",
            "NewPP limit report\n",
            "Parsed by mw2323\n",
            "Cached time: 20210712134438\n",
            "Cache expiry: 1814400\n",
            "Reduced expiry: false\n",
            "Complications: []\n",
            "CPU time usage: 0\n"
          ],
          "name": "stdout"
        }
      ]
    },
    {
      "cell_type": "markdown",
      "metadata": {
        "id": "71r1Un2R8Lf9"
      },
      "source": [
        "Get resulting dataframe - that shows each term and whether or not they're a singer"
      ]
    },
    {
      "cell_type": "code",
      "metadata": {
        "colab": {
          "base_uri": "https://localhost:8080/",
          "height": 614
        },
        "id": "_WJG7d4b35n8",
        "outputId": "a04f972a-01c9-4713-eda3-5af08eb6c0ba"
      },
      "source": [
        "df"
      ],
      "execution_count": null,
      "outputs": [
        {
          "output_type": "execute_result",
          "data": {
            "application/vnd.google.colaboratory.module+javascript": "\n      import \"https://ssl.gstatic.com/colaboratory/data_table/a6224c040fa35dcf/data_table.js\";\n\n      window.createDataTable({\n        data: [[{\n            'v': 0,\n            'f': \"0\",\n        },\n\"conor mcgregor injury\",\nfalse],\n [{\n            'v': 1,\n            'f': \"1\",\n        },\n\"usa vs nigeria basketball\",\nfalse],\n [{\n            'v': 2,\n            'f': \"2\",\n        },\n\"who won the mcgregor fight\",\nfalse],\n [{\n            'v': 3,\n            'f': \"3\",\n        },\n\"england vs italy\",\nfalse],\n [{\n            'v': 4,\n            'f': \"4\",\n        },\n\"england italy\",\nfalse],\n [{\n            'v': 5,\n            'f': \"5\",\n        },\n\"ufc 264 results\",\nfalse],\n [{\n            'v': 6,\n            'f': \"6\",\n        },\n\"crackstreams\",\nfalse],\n [{\n            'v': 7,\n            'f': \"7\",\n        },\n\"virgin galactic launch\",\nfalse],\n [{\n            'v': 8,\n            'f': \"8\",\n        },\n\"virgin galactic\",\nfalse],\n [{\n            'v': 9,\n            'f': \"9\",\n        },\n\"richard branson\",\nfalse],\n [{\n            'v': 10,\n            'f': \"10\",\n        },\n\"who won the conor mcgregor fight\",\nfalse],\n [{\n            'v': 11,\n            'f': \"11\",\n        },\n\"mexico vs trinidad y tobago\",\nfalse],\n [{\n            'v': 12,\n            'f': \"12\",\n        },\n\"ronald acuna\",\nfalse],\n [{\n            'v': 13,\n            'f': \"13\",\n        },\n\"usa basketball\",\nfalse],\n [{\n            'v': 14,\n            'f': \"14\",\n        },\n\"who won mcgregor vs poirier 3\",\nfalse],\n [{\n            'v': 15,\n            'f': \"15\",\n        },\n\"greg hardy\",\nfalse],\n [{\n            'v': 16,\n            'f': \"16\",\n        },\n\"streameast\",\nfalse],\n [{\n            'v': 17,\n            'f': \"17\",\n        },\n\"conor mcgregor vs dustin poirier\",\nfalse],\n [{\n            'v': 18,\n            'f': \"18\",\n        },\n\"conor mcgregor\",\nfalse],\n [{\n            'v': 19,\n            'f': \"19\",\n        },\n\"dustin poirier wife\",\nfalse],\n [{\n            'v': 20,\n            'f': \"20\",\n        },\n\"dustin poirier\",\nfalse],\n [{\n            'v': 21,\n            'f': \"21\",\n        },\n\"team usa basketball\",\nfalse],\n [{\n            'v': 22,\n            'f': \"22\",\n        },\n\"mcgregor\",\nfalse],\n [{\n            'v': 23,\n            'f': \"23\",\n        },\n\"poirier vs mcgregor 3\",\nfalse],\n [{\n            'v': 24,\n            'f': \"24\",\n        },\n\"england soccer\",\nfalse]],\n        columns: [[\"number\", \"index\"], [\"string\", \"term\"], [\"string\", \"is_singer\"]],\n        columnOptions: [{\"width\": \"1px\", \"className\": \"index_column\"}],\n        rowsPerPage: 25,\n        helpUrl: \"https://colab.research.google.com/notebooks/data_table.ipynb\",\n        suppressOutputScrolling: true,\n        minimumWidth: undefined,\n      });\n    ",
            "text/html": [
              "<div>\n",
              "<style scoped>\n",
              "    .dataframe tbody tr th:only-of-type {\n",
              "        vertical-align: middle;\n",
              "    }\n",
              "\n",
              "    .dataframe tbody tr th {\n",
              "        vertical-align: top;\n",
              "    }\n",
              "\n",
              "    .dataframe thead th {\n",
              "        text-align: right;\n",
              "    }\n",
              "</style>\n",
              "<table border=\"1\" class=\"dataframe\">\n",
              "  <thead>\n",
              "    <tr style=\"text-align: right;\">\n",
              "      <th></th>\n",
              "      <th>term</th>\n",
              "      <th>is_singer</th>\n",
              "    </tr>\n",
              "  </thead>\n",
              "  <tbody>\n",
              "    <tr>\n",
              "      <th>0</th>\n",
              "      <td>conor mcgregor injury</td>\n",
              "      <td>False</td>\n",
              "    </tr>\n",
              "    <tr>\n",
              "      <th>1</th>\n",
              "      <td>usa vs nigeria basketball</td>\n",
              "      <td>False</td>\n",
              "    </tr>\n",
              "    <tr>\n",
              "      <th>2</th>\n",
              "      <td>who won the mcgregor fight</td>\n",
              "      <td>False</td>\n",
              "    </tr>\n",
              "    <tr>\n",
              "      <th>3</th>\n",
              "      <td>england vs italy</td>\n",
              "      <td>False</td>\n",
              "    </tr>\n",
              "    <tr>\n",
              "      <th>4</th>\n",
              "      <td>england italy</td>\n",
              "      <td>False</td>\n",
              "    </tr>\n",
              "    <tr>\n",
              "      <th>5</th>\n",
              "      <td>ufc 264 results</td>\n",
              "      <td>False</td>\n",
              "    </tr>\n",
              "    <tr>\n",
              "      <th>6</th>\n",
              "      <td>crackstreams</td>\n",
              "      <td>False</td>\n",
              "    </tr>\n",
              "    <tr>\n",
              "      <th>7</th>\n",
              "      <td>virgin galactic launch</td>\n",
              "      <td>False</td>\n",
              "    </tr>\n",
              "    <tr>\n",
              "      <th>8</th>\n",
              "      <td>virgin galactic</td>\n",
              "      <td>False</td>\n",
              "    </tr>\n",
              "    <tr>\n",
              "      <th>9</th>\n",
              "      <td>richard branson</td>\n",
              "      <td>False</td>\n",
              "    </tr>\n",
              "    <tr>\n",
              "      <th>10</th>\n",
              "      <td>who won the conor mcgregor fight</td>\n",
              "      <td>False</td>\n",
              "    </tr>\n",
              "    <tr>\n",
              "      <th>11</th>\n",
              "      <td>mexico vs trinidad y tobago</td>\n",
              "      <td>False</td>\n",
              "    </tr>\n",
              "    <tr>\n",
              "      <th>12</th>\n",
              "      <td>ronald acuna</td>\n",
              "      <td>False</td>\n",
              "    </tr>\n",
              "    <tr>\n",
              "      <th>13</th>\n",
              "      <td>usa basketball</td>\n",
              "      <td>False</td>\n",
              "    </tr>\n",
              "    <tr>\n",
              "      <th>14</th>\n",
              "      <td>who won mcgregor vs poirier 3</td>\n",
              "      <td>False</td>\n",
              "    </tr>\n",
              "    <tr>\n",
              "      <th>15</th>\n",
              "      <td>greg hardy</td>\n",
              "      <td>False</td>\n",
              "    </tr>\n",
              "    <tr>\n",
              "      <th>16</th>\n",
              "      <td>streameast</td>\n",
              "      <td>False</td>\n",
              "    </tr>\n",
              "    <tr>\n",
              "      <th>17</th>\n",
              "      <td>conor mcgregor vs dustin poirier</td>\n",
              "      <td>False</td>\n",
              "    </tr>\n",
              "    <tr>\n",
              "      <th>18</th>\n",
              "      <td>conor mcgregor</td>\n",
              "      <td>False</td>\n",
              "    </tr>\n",
              "    <tr>\n",
              "      <th>19</th>\n",
              "      <td>dustin poirier wife</td>\n",
              "      <td>False</td>\n",
              "    </tr>\n",
              "    <tr>\n",
              "      <th>20</th>\n",
              "      <td>dustin poirier</td>\n",
              "      <td>False</td>\n",
              "    </tr>\n",
              "    <tr>\n",
              "      <th>21</th>\n",
              "      <td>team usa basketball</td>\n",
              "      <td>False</td>\n",
              "    </tr>\n",
              "    <tr>\n",
              "      <th>22</th>\n",
              "      <td>mcgregor</td>\n",
              "      <td>False</td>\n",
              "    </tr>\n",
              "    <tr>\n",
              "      <th>23</th>\n",
              "      <td>poirier vs mcgregor 3</td>\n",
              "      <td>False</td>\n",
              "    </tr>\n",
              "    <tr>\n",
              "      <th>24</th>\n",
              "      <td>england soccer</td>\n",
              "      <td>False</td>\n",
              "    </tr>\n",
              "  </tbody>\n",
              "</table>\n",
              "</div>"
            ],
            "text/plain": [
              "                                term  is_singer\n",
              "0              conor mcgregor injury      False\n",
              "1          usa vs nigeria basketball      False\n",
              "2         who won the mcgregor fight      False\n",
              "3                   england vs italy      False\n",
              "4                      england italy      False\n",
              "5                    ufc 264 results      False\n",
              "6                       crackstreams      False\n",
              "7             virgin galactic launch      False\n",
              "8                    virgin galactic      False\n",
              "9                    richard branson      False\n",
              "10  who won the conor mcgregor fight      False\n",
              "11       mexico vs trinidad y tobago      False\n",
              "12                      ronald acuna      False\n",
              "13                    usa basketball      False\n",
              "14     who won mcgregor vs poirier 3      False\n",
              "15                        greg hardy      False\n",
              "16                        streameast      False\n",
              "17  conor mcgregor vs dustin poirier      False\n",
              "18                    conor mcgregor      False\n",
              "19               dustin poirier wife      False\n",
              "20                    dustin poirier      False\n",
              "21               team usa basketball      False\n",
              "22                          mcgregor      False\n",
              "23             poirier vs mcgregor 3      False\n",
              "24                    england soccer      False"
            ]
          },
          "metadata": {
            "tags": []
          },
          "execution_count": 117
        }
      ]
    },
    {
      "cell_type": "code",
      "metadata": {
        "id": "I2ZsvEzRAgj3"
      },
      "source": [
        ""
      ],
      "execution_count": null,
      "outputs": []
    }
  ]
}